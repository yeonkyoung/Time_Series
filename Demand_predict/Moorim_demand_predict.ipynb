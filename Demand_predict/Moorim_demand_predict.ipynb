{
 "cells": [
  {
   "cell_type": "code",
   "execution_count": 147,
   "metadata": {},
   "outputs": [
    {
     "name": "stdout",
     "output_type": "stream",
     "text": [
      "['c:\\\\Users\\\\USER\\\\Documents\\\\GitHub\\\\Time_Series_models\\\\Demand_predict', 'c:\\\\Users\\\\USER\\\\AppData\\\\Local\\\\Programs\\\\Python\\\\Python39\\\\python39.zip', 'c:\\\\Users\\\\USER\\\\AppData\\\\Local\\\\Programs\\\\Python\\\\Python39\\\\DLLs', 'c:\\\\Users\\\\USER\\\\AppData\\\\Local\\\\Programs\\\\Python\\\\Python39\\\\lib', 'c:\\\\Users\\\\USER\\\\AppData\\\\Local\\\\Programs\\\\Python\\\\Python39', '', 'c:\\\\Users\\\\USER\\\\AppData\\\\Local\\\\Programs\\\\Python\\\\Python39\\\\lib\\\\site-packages', 'c:\\\\Users\\\\USER\\\\AppData\\\\Local\\\\Programs\\\\Python\\\\Python39\\\\lib\\\\site-packages\\\\win32', 'c:\\\\Users\\\\USER\\\\AppData\\\\Local\\\\Programs\\\\Python\\\\Python39\\\\lib\\\\site-packages\\\\win32\\\\lib', 'c:\\\\Users\\\\USER\\\\AppData\\\\Local\\\\Programs\\\\Python\\\\Python39\\\\lib\\\\site-packages\\\\Pythonwin', 'C:/Users/USER/Documents/GitHub/Time_Series_models/Demand_predict/', 'C:/Users/USER/Documents/GitHub/Time_Series_models/Demand_predict/', 'C:/Users/USER/Documents/GitHub/Time_Series_models/Demand_predict/', 'C:/Users/USER/Documents/GitHub/Time_Series_models/Demand_predict/', 'C:/Users/USER/Documents/GitHub/Time_Series_models/Demand_predict/', 'C:/Users/USER/Documents/GitHub/Time_Series_models/Demand_predict/']\n"
     ]
    },
    {
     "name": "stderr",
     "output_type": "stream",
     "text": [
      "C:\\Users\\USER\\AppData\\Local\\Temp\\ipykernel_7364\\872417664.py:4: FutureWarning: The pandas.datetime class is deprecated and will be removed from pandas in a future version. Import from datetime module instead.\n",
      "  from pandas import datetime\n"
     ]
    }
   ],
   "source": [
    "#-*-coding:utf-8-*-\n",
    "import pandas as pd\n",
    "import numpy as np\n",
    "from pandas import datetime\n",
    "import matplotlib.pyplot as plt\n",
    "import seaborn as sns\n",
    "from datetime import datetime\n",
    "import time\n",
    "import tensorflow as tf\n",
    "from datetime import timedelta\n",
    "import autokeras as ak\n",
    "from kerastuner import HyperModel\n",
    "from sklearn.preprocessing import StandardScaler,MinMaxScaler,RobustScaler\n",
    "from datetime import timedelta\n",
    "import math\n",
    "import keras\n",
    "from sklearn.preprocessing import MinMaxScaler\n",
    "from tensorflow.keras.models import save_model\n",
    "from tensorflow.keras.models import model_from_json\n",
    "from tensorflow.keras.models import Sequential\n",
    "from tensorflow.keras.layers import Dense\n",
    "from tensorflow.keras.layers import LSTM\n",
    "from tensorflow.keras.layers import Dropout\n",
    "from kerastuner.tuners import RandomSearch\n",
    "from kerastuner.engine.hyperparameters import HyperParameters\n",
    "from pickle import dump,load\n",
    "import warnings\n",
    "warnings.simplefilter(\"ignore\", UserWarning)\n",
    "# from hyperopt import Trials, STATUS_OK, tpe, fmin, hp\n",
    "\n",
    "#만든 모듈을 불러옴\n",
    "import sys\n",
    "from importlib import reload\n",
    "sys.path.append('C:/Users/USER/Documents/GitHub/Time_Series_models/Demand_predict/') \n",
    "print(sys.path)\n",
    "import LSTM_module as tsm\n"
   ]
  },
  {
   "cell_type": "code",
   "execution_count": 148,
   "metadata": {},
   "outputs": [
    {
     "name": "stdout",
     "output_type": "stream",
     "text": [
      "<class 'pandas.core.frame.DataFrame'>\n",
      "RangeIndex: 42766 entries, 0 to 42765\n",
      "Data columns (total 2 columns):\n",
      " #   Column       Non-Null Count  Dtype         \n",
      "---  ------       --------------  -----         \n",
      " 0   기준시각         42766 non-null  datetime64[ns]\n",
      " 1   직전 15분 사용전력  42766 non-null  float64       \n",
      "dtypes: datetime64[ns](1), float64(1)\n",
      "memory usage: 668.3 KB\n"
     ]
    }
   ],
   "source": [
    "data=pd.read_excel('C:/Users/USER/Desktop/진행중/FEMS/datamart/무림페이퍼_15분사용전력_210401-220630.xlsx')\n",
    "data.columns\n",
    "data=data.drop(['등록시각'],axis=1)\n",
    "data['기준시각']=pd.to_datetime(data['기준시각'])\n",
    "data.info()"
   ]
  },
  {
   "cell_type": "code",
   "execution_count": 149,
   "metadata": {},
   "outputs": [
    {
     "name": "stdout",
     "output_type": "stream",
     "text": [
      "train_df= 2021-04-01 00:00:00 ~ 2022-05-31 23:45:00 , 39886\n",
      "val_df= 2022-06-01 00:00:00 ~ 2022-06-29 23:45:00 , 2784\n",
      "test_df= 2022-06-30 00:00:00 ~ 2022-06-30 23:45:00 , 96\n"
     ]
    }
   ],
   "source": [
    "#train_test split\n",
    "def train_test_split(data_t,train_cut_date,val_cut_date): \n",
    "  \n",
    "    df_train = data_t[data_t['기준시각'] < train_cut_date ]\n",
    "    df_val= data_t[(data_t['기준시각'] >= train_cut_date ) & (data_t['기준시각'] < val_cut_date )]\n",
    "    df_test = data_t[(data_t['기준시각'] >= val_cut_date)] \n",
    "    \n",
    "    return (df_train,df_val,df_test) \n",
    "\n",
    "df_train,df_val,df_test=train_test_split(data,'2022-06-01','2022-06-30')\n",
    "print('train_df=',min(df_train['기준시각']),'~',max(df_train['기준시각']),',',len(df_train))\n",
    "print('val_df=',min(df_val['기준시각']),'~',max(df_val['기준시각']),',',len(df_val))\n",
    "print('test_df=',min(df_test['기준시각']),'~',max(df_test['기준시각']),',',len(df_test))"
   ]
  },
  {
   "cell_type": "code",
   "execution_count": 150,
   "metadata": {},
   "outputs": [],
   "source": [
    "# dateaframe to tensor\n",
    "nd=np.asarray(df_train['직전 15분 사용전력'])\n",
    "ndd=nd.reshape(len(df_train),)\n",
    "\n",
    "nv=np.asarray(df_val['직전 15분 사용전력'])\n",
    "nvv=nv.reshape(len(df_val),)\n",
    "\n",
    "nt=np.asarray(df_test['직전 15분 사용전력'])\n",
    "ntt=nt.reshape(len(df_test),)"
   ]
  },
  {
   "cell_type": "code",
   "execution_count": 151,
   "metadata": {},
   "outputs": [
    {
     "name": "stdout",
     "output_type": "stream",
     "text": [
      "(39586, 300)\n",
      "(39586,)\n",
      "(2484, 300)\n",
      "(2484,)\n",
      "(0,)\n",
      "(0,)\n"
     ]
    }
   ],
   "source": [
    "n_steps = 300\n",
    "(train_x, train_y) = tsm.split_sequence(ndd, n_steps) \n",
    "print(train_x.shape) \n",
    "print(train_y.shape)\n",
    "(val_x, val_y) = tsm.split_sequence(nvv, n_steps) \n",
    "print(val_x.shape) \n",
    "print(val_y.shape)\n",
    "(test_x, test_y) = tsm.split_sequence(ntt, n_steps) \n",
    "print(test_x.shape) \n",
    "print(test_y.shape)"
   ]
  },
  {
   "cell_type": "code",
   "execution_count": 154,
   "metadata": {},
   "outputs": [
    {
     "name": "stdout",
     "output_type": "stream",
     "text": [
      "(39586, 300, 1)\n",
      "(2484, 300, 1)\n"
     ]
    }
   ],
   "source": [
    "n_features = 1\n",
    "train_x = train_x.reshape(train_x.shape[0], n_steps, n_features)\n",
    "val_x = val_x.reshape(val_x.shape[0], n_steps, n_features)\n",
    "\n",
    "print(train_x.shape)\n",
    "print(val_x.shape) "
   ]
  },
  {
   "cell_type": "code",
   "execution_count": 142,
   "metadata": {},
   "outputs": [],
   "source": [
    "# train(train,val)\n",
    "# Hyperparameter Setting\n",
    "BATCH_SIZE = 32\n",
    "BUFFER_SIZE=100\n",
    "\n",
    "# # Dataset -> Tensor\n",
    "train_univariate = tf.data.Dataset.from_tensor_slices((train_x, train_y))\n",
    "train_univariate = train_univariate.cache().shuffle(BUFFER_SIZE).batch(BATCH_SIZE).repeat()\n",
    "\n",
    "val_univariate = tf.data.Dataset.from_tensor_slices((val_x, val_y))\n",
    "val_univariate = val_univariate.batch(BATCH_SIZE).repeat()"
   ]
  },
  {
   "cell_type": "markdown",
   "metadata": {},
   "source": [
    "###  Autokeras"
   ]
  },
  {
   "cell_type": "code",
   "execution_count": 65,
   "metadata": {},
   "outputs": [],
   "source": [
    "import tensorflow as tf\n",
    "import autokeras as ak"
   ]
  },
  {
   "cell_type": "code",
   "execution_count": 97,
   "metadata": {},
   "outputs": [
    {
     "name": "stdout",
     "output_type": "stream",
     "text": [
      "INFO:tensorflow:Reloading Oracle from existing project .\\time_series_forecaster\\oracle.json\n"
     ]
    },
    {
     "name": "stderr",
     "output_type": "stream",
     "text": [
      "INFO:tensorflow:Reloading Oracle from existing project .\\time_series_forecaster\\oracle.json\n"
     ]
    },
    {
     "name": "stdout",
     "output_type": "stream",
     "text": [
      "INFO:tensorflow:Reloading Tuner from .\\time_series_forecaster\\tuner0.json\n"
     ]
    },
    {
     "name": "stderr",
     "output_type": "stream",
     "text": [
      "INFO:tensorflow:Reloading Tuner from .\\time_series_forecaster\\tuner0.json\n"
     ]
    },
    {
     "name": "stdout",
     "output_type": "stream",
     "text": [
      "INFO:tensorflow:Oracle triggered exit\n"
     ]
    },
    {
     "name": "stderr",
     "output_type": "stream",
     "text": [
      "INFO:tensorflow:Oracle triggered exit\n"
     ]
    },
    {
     "name": "stdout",
     "output_type": "stream",
     "text": [
      "Epoch 1/10\n",
      "1247/1247 [==============================] - 11s 7ms/step - loss: 48796276.0000 - mean_squared_error: 48796276.0000 - val_loss: 47664604.0000 - val_mean_squared_error: 47664604.0000\n",
      "Epoch 2/10\n",
      "1247/1247 [==============================] - 7s 6ms/step - loss: 48416108.0000 - mean_squared_error: 48416108.0000 - val_loss: 47314188.0000 - val_mean_squared_error: 47314188.0000\n",
      "Epoch 3/10\n",
      "1247/1247 [==============================] - 7s 6ms/step - loss: 48068628.0000 - mean_squared_error: 48068628.0000 - val_loss: 46970412.0000 - val_mean_squared_error: 46970412.0000\n",
      "Epoch 4/10\n",
      "1247/1247 [==============================] - 7s 6ms/step - loss: 47721208.0000 - mean_squared_error: 47721208.0000 - val_loss: 46628528.0000 - val_mean_squared_error: 46628528.0000\n",
      "Epoch 5/10\n",
      "1247/1247 [==============================] - 7s 6ms/step - loss: 47379200.0000 - mean_squared_error: 47379200.0000 - val_loss: 46288756.0000 - val_mean_squared_error: 46288756.0000\n",
      "Epoch 6/10\n",
      "1247/1247 [==============================] - 7s 6ms/step - loss: 47036004.0000 - mean_squared_error: 47036004.0000 - val_loss: 45950136.0000 - val_mean_squared_error: 45950136.0000\n",
      "Epoch 7/10\n",
      "1247/1247 [==============================] - 7s 6ms/step - loss: 46697236.0000 - mean_squared_error: 46697236.0000 - val_loss: 45613108.0000 - val_mean_squared_error: 45613108.0000\n",
      "Epoch 8/10\n",
      "1247/1247 [==============================] - 8s 6ms/step - loss: 46359392.0000 - mean_squared_error: 46359392.0000 - val_loss: 45277348.0000 - val_mean_squared_error: 45277348.0000\n",
      "Epoch 9/10\n",
      "1247/1247 [==============================] - 8s 6ms/step - loss: 46017884.0000 - mean_squared_error: 46017884.0000 - val_loss: 44942696.0000 - val_mean_squared_error: 44942696.0000\n",
      "Epoch 10/10\n",
      "1247/1247 [==============================] - 7s 6ms/step - loss: 45683684.0000 - mean_squared_error: 45683684.0000 - val_loss: 44609688.0000 - val_mean_squared_error: 44609688.0000\n"
     ]
    },
    {
     "name": "stderr",
     "output_type": "stream",
     "text": [
      "WARNING:absl:Found untraced functions such as lstm_cell_1_layer_call_fn, lstm_cell_1_layer_call_and_return_conditional_losses, lstm_cell_2_layer_call_fn, lstm_cell_2_layer_call_and_return_conditional_losses, lstm_cell_4_layer_call_fn while saving (showing 5 of 8). These functions will not be directly callable after loading.\n"
     ]
    },
    {
     "name": "stdout",
     "output_type": "stream",
     "text": [
      "INFO:tensorflow:Assets written to: .\\time_series_forecaster\\best_model\\assets\n"
     ]
    },
    {
     "name": "stderr",
     "output_type": "stream",
     "text": [
      "INFO:tensorflow:Assets written to: .\\time_series_forecaster\\best_model\\assets\n"
     ]
    }
   ],
   "source": [
    "predict_from = 30\n",
    "predict_until = 10\n",
    "lookback = 3\n",
    "clf = ak.TimeseriesForecaster(\n",
    "    lookback=lookback,\n",
    "    predict_from=predict_from,\n",
    "    predict_until=predict_until,\n",
    "    max_trials=1,\n",
    "    objective=\"val_loss\",\n",
    ")\n",
    "# Train the TimeSeriesForecaster with train data\n",
    "model=clf.fit(\n",
    "    x=train_x,\n",
    "    y=train_y,\n",
    "    validation_data=(val_x, val_y),\n",
    "    batch_size=32,\n",
    "    epochs=10,\n",
    ")\n"
   ]
  },
  {
   "cell_type": "code",
   "execution_count": 101,
   "metadata": {},
   "outputs": [
    {
     "name": "stdout",
     "output_type": "stream",
     "text": [
      "1247/1247 [==============================] - 7s 5ms/step\n",
      "1247/1247 [==============================] - 7s 5ms/step\n",
      "(0, 1)\n",
      "3/3 [==============================] - 1s 12ms/step - loss: 32334866.0000 - mean_squared_error: 32334866.0000\n",
      "[32334866.0, 32334866.0]\n"
     ]
    }
   ],
   "source": [
    "# Predict with the best model(includes original training data).\n",
    "predictions = clf.predict(train_x)\n",
    "print(predictions.shape)\n",
    "# Evaluate the best model with testing data.\n",
    "print(clf.evaluate(test_x, test_y))"
   ]
  },
  {
   "cell_type": "markdown",
   "metadata": {},
   "source": [
    "### LSTM"
   ]
  },
  {
   "cell_type": "code",
   "execution_count": 104,
   "metadata": {},
   "outputs": [],
   "source": [
    "from keras.models import Sequential\n",
    "from keras.layers import Dense, LSTM\n",
    "from keras.models import load_model"
   ]
  },
  {
   "cell_type": "code",
   "execution_count": 143,
   "metadata": {},
   "outputs": [],
   "source": [
    "path_checkpoint = \"lstm_model_checkpoint_try4.h5\"\n",
    "es_callback = tf.keras.callbacks.EarlyStopping(monitor=\"loss\", min_delta=0, patience=100, mode='auto')# mode=auto loss면 최저값100번정도 반복되면 정지, acc면 최고값이 100번정도 반복되면 정지\n",
    "\n",
    "modelckpt_callback = tf.keras.callbacks.ModelCheckpoint(\n",
    "    monitor=\"loss\",\n",
    "    filepath=path_checkpoint,\n",
    "    verbose=1,\n",
    "    save_weights_only=True,\n",
    "    save_best_only=True,)"
   ]
  },
  {
   "cell_type": "code",
   "execution_count": 144,
   "metadata": {},
   "outputs": [],
   "source": [
    "# Build Simple LSTM Model\n",
    "simple_lstm_model = tf.keras.models.Sequential([\n",
    "    tf.keras.layers.LSTM(10, activation = 'relu', input_shape=(n_steps,1),return_sequences=True),#\n",
    "    tf.keras.layers.Dropout(0.2),\n",
    "    tf.keras.layers.LSTM(20, activation = 'relu', input_shape=(n_steps,1),return_sequences=True),\n",
    "    tf.keras.layers.Dropout(0.2),\n",
    "    tf.keras.layers.LSTM(10, activation = 'relu', input_shape=(n_steps,1)), \n",
    "    tf.keras.layers.Dropout(0.2),\n",
    "    tf.keras.layers.Dense(5),   \n",
    "    tf.keras.layers.Dense(1)\n",
    "])\n",
    "\n",
    "\n",
    "simple_lstm_model.compile(optimizer='adam', loss='mse',metrics=['mse'])"
   ]
  },
  {
   "cell_type": "markdown",
   "metadata": {},
   "source": [
    "##\n"
   ]
  },
  {
   "cell_type": "code",
   "execution_count": null,
   "metadata": {},
   "outputs": [],
   "source": [
    "# def split_data(df,train_size):\n",
    "#     train_days=math.floor(len(df)*train_size/24)\n",
    "#     train_data,test_data=df.iloc[0:train_days*24],df.iloc[train_days*24:len(df)]\n",
    "#     return train_data,test_data"
   ]
  },
  {
   "cell_type": "code",
   "execution_count": null,
   "metadata": {},
   "outputs": [],
   "source": [
    "def build_model(hp):\n",
    "    model = Sequential()\n",
    "    model.add(LSTM(hp.Int('input_unit',min_value=32,max_value=512,step=32),return_sequences=True, input_shape=(X_train.shape[1],X_train.shape[2])))\n",
    "    for i in range(hp.Int('n_layers', 1, 4)):\n",
    "        model.add(LSTM(hp.Int(f'lstm_{i}_units',min_value=32,max_value=512,step=32),return_sequences=True))\n",
    "    model.add(LSTM(hp.Int('layer_2_neurons',min_value=32,max_value=512,step=32)))\n",
    "    model.add(Dropout(hp.Float('Dropout_rate',min_value=0,max_value=0.5,step=0.1)))\n",
    "    model.add(Dense(Y_train.shape[1], activation=hp.Choice('dense_activation',values=['relu', 'sigmoid'],default='relu')))\n",
    "    model.compile(loss='mean_squared_error', optimizer='adam',metrics = ['mse'])\n",
    "    return model"
   ]
  },
  {
   "cell_type": "markdown",
   "metadata": {},
   "source": [
    "scaler, kerastuner"
   ]
  },
  {
   "cell_type": "code",
   "execution_count": 145,
   "metadata": {},
   "outputs": [
    {
     "name": "stdout",
     "output_type": "stream",
     "text": [
      "Epoch 1/1000\n",
      "100/100 [==============================] - ETA: 0s - loss: nan - mse: nan\n",
      "Epoch 1: loss did not improve from inf\n",
      "100/100 [==============================] - 24s 224ms/step - loss: nan - mse: nan - val_loss: nan - val_mse: nan\n",
      "Epoch 2/1000\n",
      "100/100 [==============================] - ETA: 0s - loss: nan - mse: nan\n",
      "Epoch 2: loss did not improve from inf\n",
      "100/100 [==============================] - 24s 242ms/step - loss: nan - mse: nan - val_loss: nan - val_mse: nan\n",
      "Epoch 3/1000\n",
      "100/100 [==============================] - ETA: 0s - loss: nan - mse: nan\n",
      "Epoch 3: loss did not improve from inf\n",
      "100/100 [==============================] - 24s 241ms/step - loss: nan - mse: nan - val_loss: nan - val_mse: nan\n",
      "Epoch 4/1000\n",
      "100/100 [==============================] - ETA: 0s - loss: nan - mse: nan\n",
      "Epoch 4: loss did not improve from inf\n",
      "100/100 [==============================] - 24s 244ms/step - loss: nan - mse: nan - val_loss: nan - val_mse: nan\n",
      "Epoch 5/1000\n",
      "100/100 [==============================] - ETA: 0s - loss: nan - mse: nan\n",
      "Epoch 5: loss did not improve from inf\n",
      "100/100 [==============================] - 27s 275ms/step - loss: nan - mse: nan - val_loss: nan - val_mse: nan\n",
      "Epoch 6/1000\n",
      "100/100 [==============================] - ETA: 0s - loss: nan - mse: nan\n",
      "Epoch 6: loss did not improve from inf\n",
      "100/100 [==============================] - 24s 242ms/step - loss: nan - mse: nan - val_loss: nan - val_mse: nan\n",
      "Epoch 7/1000\n",
      "100/100 [==============================] - ETA: 0s - loss: nan - mse: nan\n",
      "Epoch 7: loss did not improve from inf\n",
      "100/100 [==============================] - 21s 212ms/step - loss: nan - mse: nan - val_loss: nan - val_mse: nan\n",
      "Epoch 8/1000\n",
      "100/100 [==============================] - ETA: 0s - loss: nan - mse: nan\n",
      "Epoch 8: loss did not improve from inf\n",
      "100/100 [==============================] - 21s 214ms/step - loss: nan - mse: nan - val_loss: nan - val_mse: nan\n",
      "Epoch 9/1000\n",
      "100/100 [==============================] - ETA: 0s - loss: nan - mse: nan\n",
      "Epoch 9: loss did not improve from inf\n",
      "100/100 [==============================] - 21s 212ms/step - loss: nan - mse: nan - val_loss: nan - val_mse: nan\n",
      "Epoch 10/1000\n",
      "100/100 [==============================] - ETA: 0s - loss: nan - mse: nan\n",
      "Epoch 10: loss did not improve from inf\n",
      "100/100 [==============================] - 22s 223ms/step - loss: nan - mse: nan - val_loss: nan - val_mse: nan\n",
      "Epoch 11/1000\n",
      "100/100 [==============================] - ETA: 0s - loss: nan - mse: nan\n",
      "Epoch 11: loss did not improve from inf\n",
      "100/100 [==============================] - 23s 230ms/step - loss: nan - mse: nan - val_loss: nan - val_mse: nan\n",
      "Epoch 12/1000\n",
      "100/100 [==============================] - ETA: 0s - loss: nan - mse: nan\n",
      "Epoch 12: loss did not improve from inf\n",
      "100/100 [==============================] - 23s 232ms/step - loss: nan - mse: nan - val_loss: nan - val_mse: nan\n",
      "Epoch 13/1000\n",
      "100/100 [==============================] - ETA: 0s - loss: nan - mse: nan\n",
      "Epoch 13: loss did not improve from inf\n",
      "100/100 [==============================] - 25s 246ms/step - loss: nan - mse: nan - val_loss: nan - val_mse: nan\n",
      "Epoch 14/1000\n",
      "100/100 [==============================] - ETA: 0s - loss: nan - mse: nan\n",
      "Epoch 14: loss did not improve from inf\n",
      "100/100 [==============================] - 24s 237ms/step - loss: nan - mse: nan - val_loss: nan - val_mse: nan\n",
      "Epoch 15/1000\n",
      "100/100 [==============================] - ETA: 0s - loss: nan - mse: nan\n",
      "Epoch 15: loss did not improve from inf\n",
      "100/100 [==============================] - 24s 237ms/step - loss: nan - mse: nan - val_loss: nan - val_mse: nan\n",
      "Epoch 16/1000\n",
      "100/100 [==============================] - ETA: 0s - loss: nan - mse: nan\n",
      "Epoch 16: loss did not improve from inf\n",
      "100/100 [==============================] - 24s 238ms/step - loss: nan - mse: nan - val_loss: nan - val_mse: nan\n",
      "Epoch 17/1000\n",
      "100/100 [==============================] - ETA: 0s - loss: nan - mse: nan\n",
      "Epoch 17: loss did not improve from inf\n",
      "100/100 [==============================] - 24s 236ms/step - loss: nan - mse: nan - val_loss: nan - val_mse: nan\n",
      "Epoch 18/1000\n",
      "100/100 [==============================] - ETA: 0s - loss: nan - mse: nan\n",
      "Epoch 18: loss did not improve from inf\n",
      "100/100 [==============================] - 24s 237ms/step - loss: nan - mse: nan - val_loss: nan - val_mse: nan\n",
      "Epoch 19/1000\n",
      "100/100 [==============================] - ETA: 0s - loss: nan - mse: nan\n",
      "Epoch 19: loss did not improve from inf\n",
      "100/100 [==============================] - 24s 238ms/step - loss: nan - mse: nan - val_loss: nan - val_mse: nan\n",
      "Epoch 20/1000\n",
      "100/100 [==============================] - ETA: 0s - loss: nan - mse: nan\n",
      "Epoch 20: loss did not improve from inf\n",
      "100/100 [==============================] - 24s 237ms/step - loss: nan - mse: nan - val_loss: nan - val_mse: nan\n",
      "Epoch 21/1000\n",
      "100/100 [==============================] - ETA: 0s - loss: nan - mse: nan\n",
      "Epoch 21: loss did not improve from inf\n",
      "100/100 [==============================] - 22s 224ms/step - loss: nan - mse: nan - val_loss: nan - val_mse: nan\n",
      "Epoch 22/1000\n",
      "100/100 [==============================] - ETA: 0s - loss: nan - mse: nan\n",
      "Epoch 22: loss did not improve from inf\n",
      "100/100 [==============================] - 21s 207ms/step - loss: nan - mse: nan - val_loss: nan - val_mse: nan\n",
      "Epoch 23/1000\n",
      "100/100 [==============================] - ETA: 0s - loss: nan - mse: nan\n",
      "Epoch 23: loss did not improve from inf\n",
      "100/100 [==============================] - 21s 212ms/step - loss: nan - mse: nan - val_loss: nan - val_mse: nan\n",
      "Epoch 24/1000\n",
      "100/100 [==============================] - ETA: 0s - loss: nan - mse: nan\n",
      "Epoch 24: loss did not improve from inf\n",
      "100/100 [==============================] - 22s 223ms/step - loss: nan - mse: nan - val_loss: nan - val_mse: nan\n",
      "Epoch 25/1000\n",
      "100/100 [==============================] - ETA: 0s - loss: nan - mse: nan\n",
      "Epoch 25: loss did not improve from inf\n",
      "100/100 [==============================] - 24s 242ms/step - loss: nan - mse: nan - val_loss: nan - val_mse: nan\n",
      "Epoch 26/1000\n",
      "100/100 [==============================] - ETA: 0s - loss: nan - mse: nan\n",
      "Epoch 26: loss did not improve from inf\n",
      "100/100 [==============================] - 27s 270ms/step - loss: nan - mse: nan - val_loss: nan - val_mse: nan\n",
      "Epoch 27/1000\n",
      "100/100 [==============================] - ETA: 0s - loss: nan - mse: nan\n",
      "Epoch 27: loss did not improve from inf\n",
      "100/100 [==============================] - 27s 266ms/step - loss: nan - mse: nan - val_loss: nan - val_mse: nan\n",
      "Epoch 28/1000\n",
      "100/100 [==============================] - ETA: 0s - loss: nan - mse: nan\n",
      "Epoch 28: loss did not improve from inf\n",
      "100/100 [==============================] - 24s 239ms/step - loss: nan - mse: nan - val_loss: nan - val_mse: nan\n",
      "Epoch 29/1000\n",
      "100/100 [==============================] - ETA: 0s - loss: nan - mse: nan\n",
      "Epoch 29: loss did not improve from inf\n",
      "100/100 [==============================] - 20s 203ms/step - loss: nan - mse: nan - val_loss: nan - val_mse: nan\n",
      "Epoch 30/1000\n",
      "100/100 [==============================] - ETA: 0s - loss: nan - mse: nan\n",
      "Epoch 30: loss did not improve from inf\n",
      "100/100 [==============================] - 23s 227ms/step - loss: nan - mse: nan - val_loss: nan - val_mse: nan\n",
      "Epoch 31/1000\n",
      "100/100 [==============================] - ETA: 0s - loss: nan - mse: nan\n",
      "Epoch 31: loss did not improve from inf\n",
      "100/100 [==============================] - 24s 236ms/step - loss: nan - mse: nan - val_loss: nan - val_mse: nan\n",
      "Epoch 32/1000\n",
      "100/100 [==============================] - ETA: 0s - loss: nan - mse: nan\n",
      "Epoch 32: loss did not improve from inf\n",
      "100/100 [==============================] - 23s 230ms/step - loss: nan - mse: nan - val_loss: nan - val_mse: nan\n",
      "Epoch 33/1000\n",
      "100/100 [==============================] - ETA: 0s - loss: nan - mse: nan\n",
      "Epoch 33: loss did not improve from inf\n",
      "100/100 [==============================] - 23s 230ms/step - loss: nan - mse: nan - val_loss: nan - val_mse: nan\n",
      "Epoch 34/1000\n",
      "100/100 [==============================] - ETA: 0s - loss: nan - mse: nan\n",
      "Epoch 34: loss did not improve from inf\n",
      "100/100 [==============================] - 24s 240ms/step - loss: nan - mse: nan - val_loss: nan - val_mse: nan\n",
      "Epoch 35/1000\n",
      "100/100 [==============================] - ETA: 0s - loss: nan - mse: nan\n",
      "Epoch 35: loss did not improve from inf\n",
      "100/100 [==============================] - 24s 240ms/step - loss: nan - mse: nan - val_loss: nan - val_mse: nan\n",
      "Epoch 36/1000\n",
      "100/100 [==============================] - ETA: 0s - loss: nan - mse: nan\n",
      "Epoch 36: loss did not improve from inf\n",
      "100/100 [==============================] - 24s 236ms/step - loss: nan - mse: nan - val_loss: nan - val_mse: nan\n",
      "Epoch 37/1000\n",
      "100/100 [==============================] - ETA: 0s - loss: nan - mse: nan\n",
      "Epoch 37: loss did not improve from inf\n",
      "100/100 [==============================] - 22s 224ms/step - loss: nan - mse: nan - val_loss: nan - val_mse: nan\n",
      "Epoch 38/1000\n",
      "100/100 [==============================] - ETA: 0s - loss: nan - mse: nan\n",
      "Epoch 38: loss did not improve from inf\n",
      "100/100 [==============================] - 24s 243ms/step - loss: nan - mse: nan - val_loss: nan - val_mse: nan\n",
      "Epoch 39/1000\n",
      "100/100 [==============================] - ETA: 0s - loss: nan - mse: nan\n",
      "Epoch 39: loss did not improve from inf\n",
      "100/100 [==============================] - 24s 237ms/step - loss: nan - mse: nan - val_loss: nan - val_mse: nan\n",
      "Epoch 40/1000\n",
      "100/100 [==============================] - ETA: 0s - loss: nan - mse: nan\n",
      "Epoch 40: loss did not improve from inf\n",
      "100/100 [==============================] - 24s 241ms/step - loss: nan - mse: nan - val_loss: nan - val_mse: nan\n",
      "Epoch 41/1000\n",
      "100/100 [==============================] - ETA: 0s - loss: nan - mse: nan\n",
      "Epoch 41: loss did not improve from inf\n",
      "100/100 [==============================] - 24s 243ms/step - loss: nan - mse: nan - val_loss: nan - val_mse: nan\n",
      "Epoch 42/1000\n",
      "100/100 [==============================] - ETA: 0s - loss: nan - mse: nan\n",
      "Epoch 42: loss did not improve from inf\n",
      "100/100 [==============================] - 24s 239ms/step - loss: nan - mse: nan - val_loss: nan - val_mse: nan\n",
      "Epoch 43/1000\n",
      "100/100 [==============================] - ETA: 0s - loss: nan - mse: nan\n",
      "Epoch 43: loss did not improve from inf\n",
      "100/100 [==============================] - 24s 236ms/step - loss: nan - mse: nan - val_loss: nan - val_mse: nan\n",
      "Epoch 44/1000\n",
      "100/100 [==============================] - ETA: 0s - loss: nan - mse: nan\n",
      "Epoch 44: loss did not improve from inf\n",
      "100/100 [==============================] - 23s 235ms/step - loss: nan - mse: nan - val_loss: nan - val_mse: nan\n",
      "Epoch 45/1000\n",
      "100/100 [==============================] - ETA: 0s - loss: nan - mse: nan\n",
      "Epoch 45: loss did not improve from inf\n",
      "100/100 [==============================] - 24s 236ms/step - loss: nan - mse: nan - val_loss: nan - val_mse: nan\n",
      "Epoch 46/1000\n",
      "100/100 [==============================] - ETA: 0s - loss: nan - mse: nan\n",
      "Epoch 46: loss did not improve from inf\n",
      "100/100 [==============================] - 24s 236ms/step - loss: nan - mse: nan - val_loss: nan - val_mse: nan\n",
      "Epoch 47/1000\n",
      "100/100 [==============================] - ETA: 0s - loss: nan - mse: nan\n",
      "Epoch 47: loss did not improve from inf\n",
      "100/100 [==============================] - 24s 239ms/step - loss: nan - mse: nan - val_loss: nan - val_mse: nan\n",
      "Epoch 48/1000\n",
      "100/100 [==============================] - ETA: 0s - loss: nan - mse: nan\n",
      "Epoch 48: loss did not improve from inf\n",
      "100/100 [==============================] - 24s 238ms/step - loss: nan - mse: nan - val_loss: nan - val_mse: nan\n",
      "Epoch 49/1000\n",
      "100/100 [==============================] - ETA: 0s - loss: nan - mse: nan\n",
      "Epoch 49: loss did not improve from inf\n",
      "100/100 [==============================] - 24s 238ms/step - loss: nan - mse: nan - val_loss: nan - val_mse: nan\n",
      "Epoch 50/1000\n",
      "100/100 [==============================] - ETA: 0s - loss: nan - mse: nan\n",
      "Epoch 50: loss did not improve from inf\n",
      "100/100 [==============================] - 23s 231ms/step - loss: nan - mse: nan - val_loss: nan - val_mse: nan\n",
      "Epoch 51/1000\n",
      "100/100 [==============================] - ETA: 0s - loss: nan - mse: nan\n",
      "Epoch 51: loss did not improve from inf\n",
      "100/100 [==============================] - 23s 228ms/step - loss: nan - mse: nan - val_loss: nan - val_mse: nan\n",
      "Epoch 52/1000\n",
      "100/100 [==============================] - ETA: 0s - loss: nan - mse: nan\n",
      "Epoch 52: loss did not improve from inf\n",
      "100/100 [==============================] - 24s 235ms/step - loss: nan - mse: nan - val_loss: nan - val_mse: nan\n",
      "Epoch 53/1000\n",
      "100/100 [==============================] - ETA: 0s - loss: nan - mse: nan\n",
      "Epoch 53: loss did not improve from inf\n",
      "100/100 [==============================] - 24s 238ms/step - loss: nan - mse: nan - val_loss: nan - val_mse: nan\n",
      "Epoch 54/1000\n",
      "100/100 [==============================] - ETA: 0s - loss: nan - mse: nan\n",
      "Epoch 54: loss did not improve from inf\n",
      "100/100 [==============================] - 24s 238ms/step - loss: nan - mse: nan - val_loss: nan - val_mse: nan\n",
      "Epoch 55/1000\n",
      "100/100 [==============================] - ETA: 0s - loss: nan - mse: nan\n",
      "Epoch 55: loss did not improve from inf\n",
      "100/100 [==============================] - 24s 236ms/step - loss: nan - mse: nan - val_loss: nan - val_mse: nan\n",
      "Epoch 56/1000\n",
      "100/100 [==============================] - ETA: 0s - loss: nan - mse: nan\n",
      "Epoch 56: loss did not improve from inf\n",
      "100/100 [==============================] - 22s 218ms/step - loss: nan - mse: nan - val_loss: nan - val_mse: nan\n",
      "Epoch 57/1000\n",
      "100/100 [==============================] - ETA: 0s - loss: nan - mse: nan\n",
      "Epoch 57: loss did not improve from inf\n",
      "100/100 [==============================] - 27s 274ms/step - loss: nan - mse: nan - val_loss: nan - val_mse: nan\n",
      "Epoch 58/1000\n",
      "100/100 [==============================] - ETA: 0s - loss: nan - mse: nan\n",
      "Epoch 58: loss did not improve from inf\n",
      "100/100 [==============================] - 26s 262ms/step - loss: nan - mse: nan - val_loss: nan - val_mse: nan\n",
      "Epoch 59/1000\n",
      " 48/100 [=============>................] - ETA: 11s - loss: nan - mse: nan"
     ]
    },
    {
     "ename": "KeyboardInterrupt",
     "evalue": "",
     "output_type": "error",
     "traceback": [
      "\u001b[1;31m---------------------------------------------------------------------------\u001b[0m",
      "\u001b[1;31mKeyboardInterrupt\u001b[0m                         Traceback (most recent call last)",
      "\u001b[1;32mc:\\Users\\USER\\Documents\\GitHub\\Time_Series_models\\Demand_predict\\Moorim_demand_predict.ipynb 셀 20\u001b[0m in \u001b[0;36m<cell line: 5>\u001b[1;34m()\u001b[0m\n\u001b[0;32m      <a href='vscode-notebook-cell:/c%3A/Users/USER/Documents/GitHub/Time_Series_models/Demand_predict/Moorim_demand_predict.ipynb#ch0000038?line=1'>2</a>\u001b[0m EVALUATION_INTERVAL \u001b[39m=\u001b[39m \u001b[39m100\u001b[39m\n\u001b[0;32m      <a href='vscode-notebook-cell:/c%3A/Users/USER/Documents/GitHub/Time_Series_models/Demand_predict/Moorim_demand_predict.ipynb#ch0000038?line=2'>3</a>\u001b[0m EPOCHS \u001b[39m=\u001b[39m \u001b[39m1000\u001b[39m\n\u001b[1;32m----> <a href='vscode-notebook-cell:/c%3A/Users/USER/Documents/GitHub/Time_Series_models/Demand_predict/Moorim_demand_predict.ipynb#ch0000038?line=4'>5</a>\u001b[0m history\u001b[39m=\u001b[39msimple_lstm_model\u001b[39m.\u001b[39;49mfit(train_univariate , epochs\u001b[39m=\u001b[39;49mEPOCHS,validation_data\u001b[39m=\u001b[39;49mval_univariate,steps_per_epoch\u001b[39m=\u001b[39;49mEVALUATION_INTERVAL,validation_steps\u001b[39m=\u001b[39;49m\u001b[39m1\u001b[39;49m,verbose\u001b[39m=\u001b[39;49m\u001b[39m1\u001b[39;49m,callbacks\u001b[39m=\u001b[39;49m[es_callback, modelckpt_callback])\n",
      "File \u001b[1;32mc:\\Users\\USER\\AppData\\Local\\Programs\\Python\\Python39\\lib\\site-packages\\keras\\utils\\traceback_utils.py:64\u001b[0m, in \u001b[0;36mfilter_traceback.<locals>.error_handler\u001b[1;34m(*args, **kwargs)\u001b[0m\n\u001b[0;32m     62\u001b[0m filtered_tb \u001b[39m=\u001b[39m \u001b[39mNone\u001b[39;00m\n\u001b[0;32m     63\u001b[0m \u001b[39mtry\u001b[39;00m:\n\u001b[1;32m---> 64\u001b[0m   \u001b[39mreturn\u001b[39;00m fn(\u001b[39m*\u001b[39margs, \u001b[39m*\u001b[39m\u001b[39m*\u001b[39mkwargs)\n\u001b[0;32m     65\u001b[0m \u001b[39mexcept\u001b[39;00m \u001b[39mException\u001b[39;00m \u001b[39mas\u001b[39;00m e:  \u001b[39m# pylint: disable=broad-except\u001b[39;00m\n\u001b[0;32m     66\u001b[0m   filtered_tb \u001b[39m=\u001b[39m _process_traceback_frames(e\u001b[39m.\u001b[39m__traceback__)\n",
      "File \u001b[1;32mc:\\Users\\USER\\AppData\\Local\\Programs\\Python\\Python39\\lib\\site-packages\\keras\\engine\\training.py:1409\u001b[0m, in \u001b[0;36mModel.fit\u001b[1;34m(self, x, y, batch_size, epochs, verbose, callbacks, validation_split, validation_data, shuffle, class_weight, sample_weight, initial_epoch, steps_per_epoch, validation_steps, validation_batch_size, validation_freq, max_queue_size, workers, use_multiprocessing)\u001b[0m\n\u001b[0;32m   1402\u001b[0m \u001b[39mwith\u001b[39;00m tf\u001b[39m.\u001b[39mprofiler\u001b[39m.\u001b[39mexperimental\u001b[39m.\u001b[39mTrace(\n\u001b[0;32m   1403\u001b[0m     \u001b[39m'\u001b[39m\u001b[39mtrain\u001b[39m\u001b[39m'\u001b[39m,\n\u001b[0;32m   1404\u001b[0m     epoch_num\u001b[39m=\u001b[39mepoch,\n\u001b[0;32m   1405\u001b[0m     step_num\u001b[39m=\u001b[39mstep,\n\u001b[0;32m   1406\u001b[0m     batch_size\u001b[39m=\u001b[39mbatch_size,\n\u001b[0;32m   1407\u001b[0m     _r\u001b[39m=\u001b[39m\u001b[39m1\u001b[39m):\n\u001b[0;32m   1408\u001b[0m   callbacks\u001b[39m.\u001b[39mon_train_batch_begin(step)\n\u001b[1;32m-> 1409\u001b[0m   tmp_logs \u001b[39m=\u001b[39m \u001b[39mself\u001b[39;49m\u001b[39m.\u001b[39;49mtrain_function(iterator)\n\u001b[0;32m   1410\u001b[0m   \u001b[39mif\u001b[39;00m data_handler\u001b[39m.\u001b[39mshould_sync:\n\u001b[0;32m   1411\u001b[0m     context\u001b[39m.\u001b[39masync_wait()\n",
      "File \u001b[1;32mc:\\Users\\USER\\AppData\\Local\\Programs\\Python\\Python39\\lib\\site-packages\\tensorflow\\python\\util\\traceback_utils.py:150\u001b[0m, in \u001b[0;36mfilter_traceback.<locals>.error_handler\u001b[1;34m(*args, **kwargs)\u001b[0m\n\u001b[0;32m    148\u001b[0m filtered_tb \u001b[39m=\u001b[39m \u001b[39mNone\u001b[39;00m\n\u001b[0;32m    149\u001b[0m \u001b[39mtry\u001b[39;00m:\n\u001b[1;32m--> 150\u001b[0m   \u001b[39mreturn\u001b[39;00m fn(\u001b[39m*\u001b[39margs, \u001b[39m*\u001b[39m\u001b[39m*\u001b[39mkwargs)\n\u001b[0;32m    151\u001b[0m \u001b[39mexcept\u001b[39;00m \u001b[39mException\u001b[39;00m \u001b[39mas\u001b[39;00m e:\n\u001b[0;32m    152\u001b[0m   filtered_tb \u001b[39m=\u001b[39m _process_traceback_frames(e\u001b[39m.\u001b[39m__traceback__)\n",
      "File \u001b[1;32mc:\\Users\\USER\\AppData\\Local\\Programs\\Python\\Python39\\lib\\site-packages\\tensorflow\\python\\eager\\def_function.py:915\u001b[0m, in \u001b[0;36mFunction.__call__\u001b[1;34m(self, *args, **kwds)\u001b[0m\n\u001b[0;32m    912\u001b[0m compiler \u001b[39m=\u001b[39m \u001b[39m\"\u001b[39m\u001b[39mxla\u001b[39m\u001b[39m\"\u001b[39m \u001b[39mif\u001b[39;00m \u001b[39mself\u001b[39m\u001b[39m.\u001b[39m_jit_compile \u001b[39melse\u001b[39;00m \u001b[39m\"\u001b[39m\u001b[39mnonXla\u001b[39m\u001b[39m\"\u001b[39m\n\u001b[0;32m    914\u001b[0m \u001b[39mwith\u001b[39;00m OptionalXlaContext(\u001b[39mself\u001b[39m\u001b[39m.\u001b[39m_jit_compile):\n\u001b[1;32m--> 915\u001b[0m   result \u001b[39m=\u001b[39m \u001b[39mself\u001b[39m\u001b[39m.\u001b[39m_call(\u001b[39m*\u001b[39margs, \u001b[39m*\u001b[39m\u001b[39m*\u001b[39mkwds)\n\u001b[0;32m    917\u001b[0m new_tracing_count \u001b[39m=\u001b[39m \u001b[39mself\u001b[39m\u001b[39m.\u001b[39mexperimental_get_tracing_count()\n\u001b[0;32m    918\u001b[0m without_tracing \u001b[39m=\u001b[39m (tracing_count \u001b[39m==\u001b[39m new_tracing_count)\n",
      "File \u001b[1;32mc:\\Users\\USER\\AppData\\Local\\Programs\\Python\\Python39\\lib\\site-packages\\tensorflow\\python\\eager\\def_function.py:947\u001b[0m, in \u001b[0;36mFunction._call\u001b[1;34m(self, *args, **kwds)\u001b[0m\n\u001b[0;32m    944\u001b[0m   \u001b[39mself\u001b[39m\u001b[39m.\u001b[39m_lock\u001b[39m.\u001b[39mrelease()\n\u001b[0;32m    945\u001b[0m   \u001b[39m# In this case we have created variables on the first call, so we run the\u001b[39;00m\n\u001b[0;32m    946\u001b[0m   \u001b[39m# defunned version which is guaranteed to never create variables.\u001b[39;00m\n\u001b[1;32m--> 947\u001b[0m   \u001b[39mreturn\u001b[39;00m \u001b[39mself\u001b[39m\u001b[39m.\u001b[39m_stateless_fn(\u001b[39m*\u001b[39margs, \u001b[39m*\u001b[39m\u001b[39m*\u001b[39mkwds)  \u001b[39m# pylint: disable=not-callable\u001b[39;00m\n\u001b[0;32m    948\u001b[0m \u001b[39melif\u001b[39;00m \u001b[39mself\u001b[39m\u001b[39m.\u001b[39m_stateful_fn \u001b[39mis\u001b[39;00m \u001b[39mnot\u001b[39;00m \u001b[39mNone\u001b[39;00m:\n\u001b[0;32m    949\u001b[0m   \u001b[39m# Release the lock early so that multiple threads can perform the call\u001b[39;00m\n\u001b[0;32m    950\u001b[0m   \u001b[39m# in parallel.\u001b[39;00m\n\u001b[0;32m    951\u001b[0m   \u001b[39mself\u001b[39m\u001b[39m.\u001b[39m_lock\u001b[39m.\u001b[39mrelease()\n",
      "File \u001b[1;32mc:\\Users\\USER\\AppData\\Local\\Programs\\Python\\Python39\\lib\\site-packages\\tensorflow\\python\\eager\\function.py:2453\u001b[0m, in \u001b[0;36mFunction.__call__\u001b[1;34m(self, *args, **kwargs)\u001b[0m\n\u001b[0;32m   2450\u001b[0m \u001b[39mwith\u001b[39;00m \u001b[39mself\u001b[39m\u001b[39m.\u001b[39m_lock:\n\u001b[0;32m   2451\u001b[0m   (graph_function,\n\u001b[0;32m   2452\u001b[0m    filtered_flat_args) \u001b[39m=\u001b[39m \u001b[39mself\u001b[39m\u001b[39m.\u001b[39m_maybe_define_function(args, kwargs)\n\u001b[1;32m-> 2453\u001b[0m \u001b[39mreturn\u001b[39;00m graph_function\u001b[39m.\u001b[39;49m_call_flat(\n\u001b[0;32m   2454\u001b[0m     filtered_flat_args, captured_inputs\u001b[39m=\u001b[39;49mgraph_function\u001b[39m.\u001b[39;49mcaptured_inputs)\n",
      "File \u001b[1;32mc:\\Users\\USER\\AppData\\Local\\Programs\\Python\\Python39\\lib\\site-packages\\tensorflow\\python\\eager\\function.py:1860\u001b[0m, in \u001b[0;36mConcreteFunction._call_flat\u001b[1;34m(self, args, captured_inputs, cancellation_manager)\u001b[0m\n\u001b[0;32m   1856\u001b[0m possible_gradient_type \u001b[39m=\u001b[39m gradients_util\u001b[39m.\u001b[39mPossibleTapeGradientTypes(args)\n\u001b[0;32m   1857\u001b[0m \u001b[39mif\u001b[39;00m (possible_gradient_type \u001b[39m==\u001b[39m gradients_util\u001b[39m.\u001b[39mPOSSIBLE_GRADIENT_TYPES_NONE\n\u001b[0;32m   1858\u001b[0m     \u001b[39mand\u001b[39;00m executing_eagerly):\n\u001b[0;32m   1859\u001b[0m   \u001b[39m# No tape is watching; skip to running the function.\u001b[39;00m\n\u001b[1;32m-> 1860\u001b[0m   \u001b[39mreturn\u001b[39;00m \u001b[39mself\u001b[39m\u001b[39m.\u001b[39m_build_call_outputs(\u001b[39mself\u001b[39;49m\u001b[39m.\u001b[39;49m_inference_function\u001b[39m.\u001b[39;49mcall(\n\u001b[0;32m   1861\u001b[0m       ctx, args, cancellation_manager\u001b[39m=\u001b[39;49mcancellation_manager))\n\u001b[0;32m   1862\u001b[0m forward_backward \u001b[39m=\u001b[39m \u001b[39mself\u001b[39m\u001b[39m.\u001b[39m_select_forward_and_backward_functions(\n\u001b[0;32m   1863\u001b[0m     args,\n\u001b[0;32m   1864\u001b[0m     possible_gradient_type,\n\u001b[0;32m   1865\u001b[0m     executing_eagerly)\n\u001b[0;32m   1866\u001b[0m forward_function, args_with_tangents \u001b[39m=\u001b[39m forward_backward\u001b[39m.\u001b[39mforward()\n",
      "File \u001b[1;32mc:\\Users\\USER\\AppData\\Local\\Programs\\Python\\Python39\\lib\\site-packages\\tensorflow\\python\\eager\\function.py:497\u001b[0m, in \u001b[0;36m_EagerDefinedFunction.call\u001b[1;34m(self, ctx, args, cancellation_manager)\u001b[0m\n\u001b[0;32m    495\u001b[0m \u001b[39mwith\u001b[39;00m _InterpolateFunctionError(\u001b[39mself\u001b[39m):\n\u001b[0;32m    496\u001b[0m   \u001b[39mif\u001b[39;00m cancellation_manager \u001b[39mis\u001b[39;00m \u001b[39mNone\u001b[39;00m:\n\u001b[1;32m--> 497\u001b[0m     outputs \u001b[39m=\u001b[39m execute\u001b[39m.\u001b[39;49mexecute(\n\u001b[0;32m    498\u001b[0m         \u001b[39mstr\u001b[39;49m(\u001b[39mself\u001b[39;49m\u001b[39m.\u001b[39;49msignature\u001b[39m.\u001b[39;49mname),\n\u001b[0;32m    499\u001b[0m         num_outputs\u001b[39m=\u001b[39;49m\u001b[39mself\u001b[39;49m\u001b[39m.\u001b[39;49m_num_outputs,\n\u001b[0;32m    500\u001b[0m         inputs\u001b[39m=\u001b[39;49margs,\n\u001b[0;32m    501\u001b[0m         attrs\u001b[39m=\u001b[39;49mattrs,\n\u001b[0;32m    502\u001b[0m         ctx\u001b[39m=\u001b[39;49mctx)\n\u001b[0;32m    503\u001b[0m   \u001b[39melse\u001b[39;00m:\n\u001b[0;32m    504\u001b[0m     outputs \u001b[39m=\u001b[39m execute\u001b[39m.\u001b[39mexecute_with_cancellation(\n\u001b[0;32m    505\u001b[0m         \u001b[39mstr\u001b[39m(\u001b[39mself\u001b[39m\u001b[39m.\u001b[39msignature\u001b[39m.\u001b[39mname),\n\u001b[0;32m    506\u001b[0m         num_outputs\u001b[39m=\u001b[39m\u001b[39mself\u001b[39m\u001b[39m.\u001b[39m_num_outputs,\n\u001b[1;32m   (...)\u001b[0m\n\u001b[0;32m    509\u001b[0m         ctx\u001b[39m=\u001b[39mctx,\n\u001b[0;32m    510\u001b[0m         cancellation_manager\u001b[39m=\u001b[39mcancellation_manager)\n",
      "File \u001b[1;32mc:\\Users\\USER\\AppData\\Local\\Programs\\Python\\Python39\\lib\\site-packages\\tensorflow\\python\\eager\\execute.py:54\u001b[0m, in \u001b[0;36mquick_execute\u001b[1;34m(op_name, num_outputs, inputs, attrs, ctx, name)\u001b[0m\n\u001b[0;32m     52\u001b[0m \u001b[39mtry\u001b[39;00m:\n\u001b[0;32m     53\u001b[0m   ctx\u001b[39m.\u001b[39mensure_initialized()\n\u001b[1;32m---> 54\u001b[0m   tensors \u001b[39m=\u001b[39m pywrap_tfe\u001b[39m.\u001b[39;49mTFE_Py_Execute(ctx\u001b[39m.\u001b[39;49m_handle, device_name, op_name,\n\u001b[0;32m     55\u001b[0m                                       inputs, attrs, num_outputs)\n\u001b[0;32m     56\u001b[0m \u001b[39mexcept\u001b[39;00m core\u001b[39m.\u001b[39m_NotOkStatusException \u001b[39mas\u001b[39;00m e:\n\u001b[0;32m     57\u001b[0m   \u001b[39mif\u001b[39;00m name \u001b[39mis\u001b[39;00m \u001b[39mnot\u001b[39;00m \u001b[39mNone\u001b[39;00m:\n",
      "\u001b[1;31mKeyboardInterrupt\u001b[0m: "
     ]
    }
   ],
   "source": [
    "# Train the Model(val)\n",
    "EVALUATION_INTERVAL = 100\n",
    "EPOCHS = 1000\n",
    "\n",
    "history=simple_lstm_model.fit(train_univariate , epochs=EPOCHS,validation_data=val_univariate,steps_per_epoch=EVALUATION_INTERVAL,validation_steps=1,verbose=1,callbacks=[es_callback, modelckpt_callback])"
   ]
  },
  {
   "cell_type": "code",
   "execution_count": null,
   "metadata": {},
   "outputs": [
    {
     "data": {
      "image/png": "[encoded data removed]",
      "text/plain": [
       "<Figure size 432x288 with 1 Axes>"
      ]
     },
     "metadata": {
      "needs_background": "light"
     },
     "output_type": "display_data"
    }
   ],
   "source": [
    "tsm.visualize_loss(history, \"Training & vaildation Loss\",'C:/Users/USER/Desktop/진행중/FEMS/moorim/')"
   ]
  },
  {
   "cell_type": "code",
   "execution_count": 136,
   "metadata": {},
   "outputs": [
    {
     "name": "stdout",
     "output_type": "stream",
     "text": [
      "3/3 [==============================] - 0s 5ms/step\n"
     ]
    }
   ],
   "source": [
    "yhat = simple_lstm_model.predict(test_x)\n",
    "prediction=pd.DataFrame(yhat)\n",
    "prediction.columns=['yhat']\n",
    "# prediction.index=df_test[4:].index   # index 설정방법\n",
    "# df_test=df_test.reset_index()\n",
    "prediction=prediction.reset_index()\n",
    "prediction['y']=df_test['직전 15분 사용전력']\n",
    "prediction['time']=df_test['기준시각']\n",
    "\n"
   ]
  },
  {
   "cell_type": "code",
   "execution_count": 137,
   "metadata": {},
   "outputs": [],
   "source": [
    "plt.figure(figsize=(30,20))\n",
    "kws = dict(marker='o')\n",
    "plt.plot(train['기준시각'],train['직전 15분 사용전력'], label='Train', **kws)   \n",
    "plt.plot(test['기준시각'],test['직전 15분 사용전력'], label='Test', **kws)   \n",
    "plt.plot(prediction['time'],prediction['yhat'],label='predicted', **kws)\n",
    "plt.legend()\n",
    "plt.show()"
   ]
  },
  {
   "cell_type": "code",
   "execution_count": null,
   "metadata": {},
   "outputs": [],
   "source": [
    "from kerastuner.tuners import BayesianOptimization"
   ]
  },
  {
   "cell_type": "code",
   "execution_count": null,
   "metadata": {},
   "outputs": [],
   "source": []
  },
  {
   "cell_type": "code",
   "execution_count": null,
   "metadata": {},
   "outputs": [],
   "source": []
  },
  {
   "cell_type": "code",
   "execution_count": null,
   "metadata": {},
   "outputs": [],
   "source": []
  },
  {
   "cell_type": "code",
   "execution_count": null,
   "metadata": {},
   "outputs": [],
   "source": []
  }
 ],
 "metadata": {
  "kernelspec": {
   "display_name": "Python 3.9.7 64-bit",
   "language": "python",
   "name": "python3"
  },
  "language_info": {
   "codemirror_mode": {
    "name": "ipython",
    "version": 3
   },
   "file_extension": ".py",
   "mimetype": "text/x-python",
   "name": "python",
   "nbconvert_exporter": "python",
   "pygments_lexer": "ipython3",
   "version": "3.9.7"
  },
  "orig_nbformat": 4,
  "vscode": {
   "interpreter": {
    "hash": "1d5c1156327dacead463cc502c55ebae8ce9c8c01979cf154173ff808e75bf55"
   }
  }
 },
 "nbformat": 4,
 "nbformat_minor": 2
}
