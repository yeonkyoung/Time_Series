{
 "cells": [
  {
   "cell_type": "code",
   "execution_count": 7,
   "metadata": {},
   "outputs": [],
   "source": [
    "import pandas as pd\n",
    "import os\n",
    "import datetime\n",
    "import numpy as np"
   ]
  },
  {
   "cell_type": "code",
   "execution_count": 8,
   "metadata": {},
   "outputs": [],
   "source": [
    "# 파일 불러오기\n",
    "\n",
    "path = 'C:/Users/USER/Desktop/진행중/FEMS/moorim/2차/데이터/FMES_RESULT_202201-202206/'\n",
    "file_list = os.listdir(path)\n",
    "file_list_py = [file for file in file_list if file.endswith('CSV')]"
   ]
  },
  {
   "cell_type": "code",
   "execution_count": 9,
   "metadata": {},
   "outputs": [
    {
     "data": {
      "text/plain": [
       "['FMES_RESULT_20220101-20220115.CSV',\n",
       " 'FMES_RESULT_20220116-20220131.CSV',\n",
       " 'FMES_RESULT_20220201-20220215.CSV',\n",
       " 'FMES_RESULT_20220216-20220228.CSV',\n",
       " 'FMES_RESULT_20220301-20220315.CSV',\n",
       " 'FMES_RESULT_20220316-20220331.CSV',\n",
       " 'FMES_RESULT_20220401-20220415.CSV',\n",
       " 'FMES_RESULT_20220416-20220430.CSV',\n",
       " 'FMES_RESULT_20220501-20220515.CSV',\n",
       " 'FMES_RESULT_20220516-20220531.CSV',\n",
       " 'FMES_RESULT_20220601-20220615.CSV',\n",
       " 'FMES_RESULT_20220616-20220630.CSV']"
      ]
     },
     "execution_count": 9,
     "metadata": {},
     "output_type": "execute_result"
    }
   ],
   "source": [
    "file_list_py"
   ]
  },
  {
   "cell_type": "code",
   "execution_count": 17,
   "metadata": {},
   "outputs": [
    {
     "name": "stdout",
     "output_type": "stream",
     "text": [
      "1923\n",
      "1352\n",
      "1519\n",
      "1539\n",
      "1521\n",
      "1923\n",
      "1917\n",
      "1917\n",
      "1912\n",
      "1921\n",
      "1563\n",
      "1380\n"
     ]
    }
   ],
   "source": [
    "df = pd.DataFrame()\n",
    "for i in file_list_py:\n",
    "    data = pd.read_csv(path + i,names=['Tag Type', 'Tag ID', 'Timestamp', 'Value', 'Quality'],low_memory=False)\n",
    "    category_name = list(data['Tag ID'].unique())     \n",
    "    dd=pd.DataFrame(category_name,columns=['tags'])\n",
    "    print(len(dd))\n",
    "    df = pd.concat([df,dd])\n",
    "\n",
    "    \n",
    "df = df.reset_index(drop = True)"
   ]
  },
  {
   "cell_type": "code",
   "execution_count": 18,
   "metadata": {},
   "outputs": [
    {
     "data": {
      "text/plain": [
       "Index(['tags'], dtype='object')"
      ]
     },
     "execution_count": 18,
     "metadata": {},
     "output_type": "execute_result"
    }
   ],
   "source": [
    "df.columns"
   ]
  },
  {
   "cell_type": "code",
   "execution_count": 20,
   "metadata": {},
   "outputs": [
    {
     "data": {
      "text/plain": [
       "1929"
      ]
     },
     "execution_count": 20,
     "metadata": {},
     "output_type": "execute_result"
    }
   ],
   "source": [
    "category_name_all = list(df['tags'].unique())     \n",
    "len(category_name_all)"
   ]
  },
  {
   "cell_type": "code",
   "execution_count": null,
   "metadata": {},
   "outputs": [],
   "source": []
  },
  {
   "cell_type": "code",
   "execution_count": 39,
   "metadata": {},
   "outputs": [
    {
     "data": {
      "text/html": [
       "<div>\n",
       "<style scoped>\n",
       "    .dataframe tbody tr th:only-of-type {\n",
       "        vertical-align: middle;\n",
       "    }\n",
       "\n",
       "    .dataframe tbody tr th {\n",
       "        vertical-align: top;\n",
       "    }\n",
       "\n",
       "    .dataframe thead th {\n",
       "        text-align: right;\n",
       "    }\n",
       "</style>\n",
       "<table border=\"1\" class=\"dataframe\">\n",
       "  <thead>\n",
       "    <tr style=\"text-align: right;\">\n",
       "      <th></th>\n",
       "      <th>Tag Type</th>\n",
       "      <th>Tag ID</th>\n",
       "      <th>Timestamp</th>\n",
       "      <th>Value</th>\n",
       "      <th>Quality</th>\n",
       "    </tr>\n",
       "  </thead>\n",
       "  <tbody>\n",
       "    <tr>\n",
       "      <th>0</th>\n",
       "      <td>Discrete</td>\n",
       "      <td>310AGI0001:ins</td>\n",
       "      <td>2022-03-16 00:05:28.77</td>\n",
       "      <td>1.0</td>\n",
       "      <td>Good</td>\n",
       "    </tr>\n",
       "    <tr>\n",
       "      <th>1</th>\n",
       "      <td>Discrete</td>\n",
       "      <td>310AGI0001:ins</td>\n",
       "      <td>2022-03-16 00:06:28.77</td>\n",
       "      <td>0.0</td>\n",
       "      <td>Good</td>\n",
       "    </tr>\n",
       "    <tr>\n",
       "      <th>2</th>\n",
       "      <td>Discrete</td>\n",
       "      <td>310AGI0001:ins</td>\n",
       "      <td>2022-03-16 00:31:29.03</td>\n",
       "      <td>0.0</td>\n",
       "      <td>Good</td>\n",
       "    </tr>\n",
       "    <tr>\n",
       "      <th>3</th>\n",
       "      <td>Discrete</td>\n",
       "      <td>310AGI0001:ins</td>\n",
       "      <td>2022-03-16 00:32:29.02</td>\n",
       "      <td>1.0</td>\n",
       "      <td>Good</td>\n",
       "    </tr>\n",
       "    <tr>\n",
       "      <th>4</th>\n",
       "      <td>Discrete</td>\n",
       "      <td>310AGI0001:ins</td>\n",
       "      <td>2022-03-16 00:58:29.32</td>\n",
       "      <td>1.0</td>\n",
       "      <td>Good</td>\n",
       "    </tr>\n",
       "    <tr>\n",
       "      <th>...</th>\n",
       "      <td>...</td>\n",
       "      <td>...</td>\n",
       "      <td>...</td>\n",
       "      <td>...</td>\n",
       "      <td>...</td>\n",
       "    </tr>\n",
       "    <tr>\n",
       "      <th>18058202</th>\n",
       "      <td>Analog</td>\n",
       "      <td>PM3-W1DLTCs:av</td>\n",
       "      <td>2022-03-30 14:11:31.66</td>\n",
       "      <td>0.0</td>\n",
       "      <td>Good</td>\n",
       "    </tr>\n",
       "    <tr>\n",
       "      <th>18058203</th>\n",
       "      <td>Analog</td>\n",
       "      <td>PM3-W1DLTCs:av</td>\n",
       "      <td>2022-03-30 14:11:31.76</td>\n",
       "      <td>0.0</td>\n",
       "      <td>Bad</td>\n",
       "    </tr>\n",
       "    <tr>\n",
       "      <th>18058204</th>\n",
       "      <td>Analog</td>\n",
       "      <td>PM3-W1DLTCs:av</td>\n",
       "      <td>2022-03-30 14:15:08.00</td>\n",
       "      <td>0.0</td>\n",
       "      <td>Bad</td>\n",
       "    </tr>\n",
       "    <tr>\n",
       "      <th>18058205</th>\n",
       "      <td>Analog</td>\n",
       "      <td>PM3-W1DLTCs:av</td>\n",
       "      <td>2022-03-30 14:17:38.34</td>\n",
       "      <td>0.0</td>\n",
       "      <td>Bad</td>\n",
       "    </tr>\n",
       "    <tr>\n",
       "      <th>18058206</th>\n",
       "      <td>Analog</td>\n",
       "      <td>PM3-W1DLTCs:av</td>\n",
       "      <td>2022-03-30 14:18:42.48</td>\n",
       "      <td>0.0</td>\n",
       "      <td>Good</td>\n",
       "    </tr>\n",
       "  </tbody>\n",
       "</table>\n",
       "<p>18058207 rows × 5 columns</p>\n",
       "</div>"
      ],
      "text/plain": [
       "          Tag Type          Tag ID               Timestamp Value Quality\n",
       "0         Discrete  310AGI0001:ins  2022-03-16 00:05:28.77   1.0    Good\n",
       "1         Discrete  310AGI0001:ins  2022-03-16 00:06:28.77   0.0    Good\n",
       "2         Discrete  310AGI0001:ins  2022-03-16 00:31:29.03   0.0    Good\n",
       "3         Discrete  310AGI0001:ins  2022-03-16 00:32:29.02   1.0    Good\n",
       "4         Discrete  310AGI0001:ins  2022-03-16 00:58:29.32   1.0    Good\n",
       "...            ...             ...                     ...   ...     ...\n",
       "18058202    Analog  PM3-W1DLTCs:av  2022-03-30 14:11:31.66   0.0    Good\n",
       "18058203    Analog  PM3-W1DLTCs:av  2022-03-30 14:11:31.76   0.0     Bad\n",
       "18058204    Analog  PM3-W1DLTCs:av  2022-03-30 14:15:08.00   0.0     Bad\n",
       "18058205    Analog  PM3-W1DLTCs:av  2022-03-30 14:17:38.34   0.0     Bad\n",
       "18058206    Analog  PM3-W1DLTCs:av  2022-03-30 14:18:42.48   0.0    Good\n",
       "\n",
       "[18058207 rows x 5 columns]"
      ]
     },
     "execution_count": 39,
     "metadata": {},
     "output_type": "execute_result"
    }
   ],
   "source": [
    "data"
   ]
  },
  {
   "cell_type": "code",
   "execution_count": 37,
   "metadata": {},
   "outputs": [
    {
     "name": "stdout",
     "output_type": "stream",
     "text": [
      "<class 'pandas.core.frame.DataFrame'>\n",
      "RangeIndex: 18058207 entries, 0 to 18058206\n",
      "Data columns (total 5 columns):\n",
      " #   Column     Dtype \n",
      "---  ------     ----- \n",
      " 0   Tag Type   object\n",
      " 1   Tag ID     object\n",
      " 2   Timestamp  object\n",
      " 3   Value      object\n",
      " 4   Quality    object\n",
      "dtypes: object(5)\n",
      "memory usage: 688.9+ MB\n"
     ]
    }
   ],
   "source": [
    "data.info()"
   ]
  },
  {
   "cell_type": "code",
   "execution_count": null,
   "metadata": {},
   "outputs": [],
   "source": [
    "dd=pd.DataFrame(data['Timestamp'].str.split('.',n=1, expand=True),columns='Time')\n",
    "dd\n"
   ]
  },
  {
   "cell_type": "code",
   "execution_count": 42,
   "metadata": {},
   "outputs": [],
   "source": [
    "data['Time_hr']=pd.DataFrame(data['Timestamp'].str.split('.'))"
   ]
  },
  {
   "cell_type": "code",
   "execution_count": 43,
   "metadata": {},
   "outputs": [
    {
     "data": {
      "text/html": [
       "<div>\n",
       "<style scoped>\n",
       "    .dataframe tbody tr th:only-of-type {\n",
       "        vertical-align: middle;\n",
       "    }\n",
       "\n",
       "    .dataframe tbody tr th {\n",
       "        vertical-align: top;\n",
       "    }\n",
       "\n",
       "    .dataframe thead th {\n",
       "        text-align: right;\n",
       "    }\n",
       "</style>\n",
       "<table border=\"1\" class=\"dataframe\">\n",
       "  <thead>\n",
       "    <tr style=\"text-align: right;\">\n",
       "      <th></th>\n",
       "      <th>Tag Type</th>\n",
       "      <th>Tag ID</th>\n",
       "      <th>Timestamp</th>\n",
       "      <th>Value</th>\n",
       "      <th>Quality</th>\n",
       "      <th>Time_hr</th>\n",
       "    </tr>\n",
       "  </thead>\n",
       "  <tbody>\n",
       "    <tr>\n",
       "      <th>0</th>\n",
       "      <td>Discrete</td>\n",
       "      <td>310AGI0001:ins</td>\n",
       "      <td>2022-03-16 00:05:28.77</td>\n",
       "      <td>1.0</td>\n",
       "      <td>Good</td>\n",
       "      <td>2022-03-16 00:05:28</td>\n",
       "    </tr>\n",
       "    <tr>\n",
       "      <th>1</th>\n",
       "      <td>Discrete</td>\n",
       "      <td>310AGI0001:ins</td>\n",
       "      <td>2022-03-16 00:06:28.77</td>\n",
       "      <td>0.0</td>\n",
       "      <td>Good</td>\n",
       "      <td>77</td>\n",
       "    </tr>\n",
       "    <tr>\n",
       "      <th>2</th>\n",
       "      <td>Discrete</td>\n",
       "      <td>310AGI0001:ins</td>\n",
       "      <td>2022-03-16 00:31:29.03</td>\n",
       "      <td>0.0</td>\n",
       "      <td>Good</td>\n",
       "      <td>NaN</td>\n",
       "    </tr>\n",
       "    <tr>\n",
       "      <th>3</th>\n",
       "      <td>Discrete</td>\n",
       "      <td>310AGI0001:ins</td>\n",
       "      <td>2022-03-16 00:32:29.02</td>\n",
       "      <td>1.0</td>\n",
       "      <td>Good</td>\n",
       "      <td>NaN</td>\n",
       "    </tr>\n",
       "    <tr>\n",
       "      <th>4</th>\n",
       "      <td>Discrete</td>\n",
       "      <td>310AGI0001:ins</td>\n",
       "      <td>2022-03-16 00:58:29.32</td>\n",
       "      <td>1.0</td>\n",
       "      <td>Good</td>\n",
       "      <td>NaN</td>\n",
       "    </tr>\n",
       "    <tr>\n",
       "      <th>...</th>\n",
       "      <td>...</td>\n",
       "      <td>...</td>\n",
       "      <td>...</td>\n",
       "      <td>...</td>\n",
       "      <td>...</td>\n",
       "      <td>...</td>\n",
       "    </tr>\n",
       "    <tr>\n",
       "      <th>18058202</th>\n",
       "      <td>Analog</td>\n",
       "      <td>PM3-W1DLTCs:av</td>\n",
       "      <td>2022-03-30 14:11:31.66</td>\n",
       "      <td>0.0</td>\n",
       "      <td>Good</td>\n",
       "      <td>NaN</td>\n",
       "    </tr>\n",
       "    <tr>\n",
       "      <th>18058203</th>\n",
       "      <td>Analog</td>\n",
       "      <td>PM3-W1DLTCs:av</td>\n",
       "      <td>2022-03-30 14:11:31.76</td>\n",
       "      <td>0.0</td>\n",
       "      <td>Bad</td>\n",
       "      <td>NaN</td>\n",
       "    </tr>\n",
       "    <tr>\n",
       "      <th>18058204</th>\n",
       "      <td>Analog</td>\n",
       "      <td>PM3-W1DLTCs:av</td>\n",
       "      <td>2022-03-30 14:15:08.00</td>\n",
       "      <td>0.0</td>\n",
       "      <td>Bad</td>\n",
       "      <td>NaN</td>\n",
       "    </tr>\n",
       "    <tr>\n",
       "      <th>18058205</th>\n",
       "      <td>Analog</td>\n",
       "      <td>PM3-W1DLTCs:av</td>\n",
       "      <td>2022-03-30 14:17:38.34</td>\n",
       "      <td>0.0</td>\n",
       "      <td>Bad</td>\n",
       "      <td>NaN</td>\n",
       "    </tr>\n",
       "    <tr>\n",
       "      <th>18058206</th>\n",
       "      <td>Analog</td>\n",
       "      <td>PM3-W1DLTCs:av</td>\n",
       "      <td>2022-03-30 14:18:42.48</td>\n",
       "      <td>0.0</td>\n",
       "      <td>Good</td>\n",
       "      <td>NaN</td>\n",
       "    </tr>\n",
       "  </tbody>\n",
       "</table>\n",
       "<p>18058207 rows × 6 columns</p>\n",
       "</div>"
      ],
      "text/plain": [
       "          Tag Type          Tag ID               Timestamp Value Quality  \\\n",
       "0         Discrete  310AGI0001:ins  2022-03-16 00:05:28.77   1.0    Good   \n",
       "1         Discrete  310AGI0001:ins  2022-03-16 00:06:28.77   0.0    Good   \n",
       "2         Discrete  310AGI0001:ins  2022-03-16 00:31:29.03   0.0    Good   \n",
       "3         Discrete  310AGI0001:ins  2022-03-16 00:32:29.02   1.0    Good   \n",
       "4         Discrete  310AGI0001:ins  2022-03-16 00:58:29.32   1.0    Good   \n",
       "...            ...             ...                     ...   ...     ...   \n",
       "18058202    Analog  PM3-W1DLTCs:av  2022-03-30 14:11:31.66   0.0    Good   \n",
       "18058203    Analog  PM3-W1DLTCs:av  2022-03-30 14:11:31.76   0.0     Bad   \n",
       "18058204    Analog  PM3-W1DLTCs:av  2022-03-30 14:15:08.00   0.0     Bad   \n",
       "18058205    Analog  PM3-W1DLTCs:av  2022-03-30 14:17:38.34   0.0     Bad   \n",
       "18058206    Analog  PM3-W1DLTCs:av  2022-03-30 14:18:42.48   0.0    Good   \n",
       "\n",
       "                      Time_hr  \n",
       "0         2022-03-16 00:05:28  \n",
       "1                          77  \n",
       "2                         NaN  \n",
       "3                         NaN  \n",
       "4                         NaN  \n",
       "...                       ...  \n",
       "18058202                  NaN  \n",
       "18058203                  NaN  \n",
       "18058204                  NaN  \n",
       "18058205                  NaN  \n",
       "18058206                  NaN  \n",
       "\n",
       "[18058207 rows x 6 columns]"
      ]
     },
     "execution_count": 43,
     "metadata": {},
     "output_type": "execute_result"
    }
   ],
   "source": [
    "data"
   ]
  },
  {
   "cell_type": "code",
   "execution_count": 14,
   "metadata": {},
   "outputs": [],
   "source": [
    "data['Timestamp']=pd.to_datetime(data['Timestamp'])#,format='%YYYY-%MM-%DD %hh'"
   ]
  },
  {
   "cell_type": "code",
   "execution_count": 23,
   "metadata": {},
   "outputs": [
    {
     "data": {
      "text/html": [
       "<div>\n",
       "<style scoped>\n",
       "    .dataframe tbody tr th:only-of-type {\n",
       "        vertical-align: middle;\n",
       "    }\n",
       "\n",
       "    .dataframe tbody tr th {\n",
       "        vertical-align: top;\n",
       "    }\n",
       "\n",
       "    .dataframe thead th {\n",
       "        text-align: right;\n",
       "    }\n",
       "</style>\n",
       "<table border=\"1\" class=\"dataframe\">\n",
       "  <thead>\n",
       "    <tr style=\"text-align: right;\">\n",
       "      <th></th>\n",
       "      <th>Tag Type</th>\n",
       "      <th>Tag ID</th>\n",
       "      <th>Timestamp</th>\n",
       "      <th>Value</th>\n",
       "      <th>Quality</th>\n",
       "    </tr>\n",
       "  </thead>\n",
       "  <tbody>\n",
       "    <tr>\n",
       "      <th>0</th>\n",
       "      <td>Discrete</td>\n",
       "      <td>310AGI0001:ins</td>\n",
       "      <td>2022-01-01 00:14:11.820</td>\n",
       "      <td>1.0</td>\n",
       "      <td>Good</td>\n",
       "    </tr>\n",
       "    <tr>\n",
       "      <th>1</th>\n",
       "      <td>Discrete</td>\n",
       "      <td>310AGI0001:ins</td>\n",
       "      <td>2022-01-01 00:16:11.840</td>\n",
       "      <td>0.0</td>\n",
       "      <td>Good</td>\n",
       "    </tr>\n",
       "    <tr>\n",
       "      <th>2</th>\n",
       "      <td>Discrete</td>\n",
       "      <td>310AGI0001:ins</td>\n",
       "      <td>2022-01-01 00:22:11.890</td>\n",
       "      <td>0.0</td>\n",
       "      <td>Good</td>\n",
       "    </tr>\n",
       "    <tr>\n",
       "      <th>3</th>\n",
       "      <td>Discrete</td>\n",
       "      <td>310AGI0001:ins</td>\n",
       "      <td>2022-01-01 00:23:11.880</td>\n",
       "      <td>1.0</td>\n",
       "      <td>Good</td>\n",
       "    </tr>\n",
       "    <tr>\n",
       "      <th>4</th>\n",
       "      <td>Discrete</td>\n",
       "      <td>310AGI0001:ins</td>\n",
       "      <td>2022-01-01 00:45:12.110</td>\n",
       "      <td>1.0</td>\n",
       "      <td>Good</td>\n",
       "    </tr>\n",
       "    <tr>\n",
       "      <th>...</th>\n",
       "      <td>...</td>\n",
       "      <td>...</td>\n",
       "      <td>...</td>\n",
       "      <td>...</td>\n",
       "      <td>...</td>\n",
       "    </tr>\n",
       "    <tr>\n",
       "      <th>16942590</th>\n",
       "      <td>Analog</td>\n",
       "      <td>PM3-W1DLTCs:av</td>\n",
       "      <td>2022-01-15 23:41:48.200</td>\n",
       "      <td>0.08</td>\n",
       "      <td>Good</td>\n",
       "    </tr>\n",
       "    <tr>\n",
       "      <th>16942591</th>\n",
       "      <td>Analog</td>\n",
       "      <td>PM3-W1DLTCs:av</td>\n",
       "      <td>2022-01-15 23:42:48.210</td>\n",
       "      <td>0.07</td>\n",
       "      <td>Good</td>\n",
       "    </tr>\n",
       "    <tr>\n",
       "      <th>16942592</th>\n",
       "      <td>Analog</td>\n",
       "      <td>PM3-W1DLTCs:av</td>\n",
       "      <td>2022-01-15 23:43:48.210</td>\n",
       "      <td>0.04</td>\n",
       "      <td>Good</td>\n",
       "    </tr>\n",
       "    <tr>\n",
       "      <th>16942593</th>\n",
       "      <td>Analog</td>\n",
       "      <td>PM3-W1DLTCs:av</td>\n",
       "      <td>2022-01-15 23:45:48.240</td>\n",
       "      <td>0.01</td>\n",
       "      <td>Good</td>\n",
       "    </tr>\n",
       "    <tr>\n",
       "      <th>16942594</th>\n",
       "      <td>Analog</td>\n",
       "      <td>PM3-W1DLTCs:av</td>\n",
       "      <td>2022-01-15 23:48:48.260</td>\n",
       "      <td>0.0</td>\n",
       "      <td>Good</td>\n",
       "    </tr>\n",
       "  </tbody>\n",
       "</table>\n",
       "<p>16942595 rows × 5 columns</p>\n",
       "</div>"
      ],
      "text/plain": [
       "          Tag Type          Tag ID               Timestamp Value Quality\n",
       "0         Discrete  310AGI0001:ins 2022-01-01 00:14:11.820   1.0    Good\n",
       "1         Discrete  310AGI0001:ins 2022-01-01 00:16:11.840   0.0    Good\n",
       "2         Discrete  310AGI0001:ins 2022-01-01 00:22:11.890   0.0    Good\n",
       "3         Discrete  310AGI0001:ins 2022-01-01 00:23:11.880   1.0    Good\n",
       "4         Discrete  310AGI0001:ins 2022-01-01 00:45:12.110   1.0    Good\n",
       "...            ...             ...                     ...   ...     ...\n",
       "16942590    Analog  PM3-W1DLTCs:av 2022-01-15 23:41:48.200  0.08    Good\n",
       "16942591    Analog  PM3-W1DLTCs:av 2022-01-15 23:42:48.210  0.07    Good\n",
       "16942592    Analog  PM3-W1DLTCs:av 2022-01-15 23:43:48.210  0.04    Good\n",
       "16942593    Analog  PM3-W1DLTCs:av 2022-01-15 23:45:48.240  0.01    Good\n",
       "16942594    Analog  PM3-W1DLTCs:av 2022-01-15 23:48:48.260   0.0    Good\n",
       "\n",
       "[16942595 rows x 5 columns]"
      ]
     },
     "execution_count": 23,
     "metadata": {},
     "output_type": "execute_result"
    }
   ],
   "source": [
    "data"
   ]
  },
  {
   "cell_type": "code",
   "execution_count": 21,
   "metadata": {},
   "outputs": [
    {
     "name": "stdout",
     "output_type": "stream",
     "text": [
      "<class 'pandas.core.frame.DataFrame'>\n",
      "RangeIndex: 16942595 entries, 0 to 16942594\n",
      "Data columns (total 5 columns):\n",
      " #   Column     Dtype         \n",
      "---  ------     -----         \n",
      " 0   Tag Type   object        \n",
      " 1   Tag ID     object        \n",
      " 2   Timestamp  datetime64[ns]\n",
      " 3   Value      object        \n",
      " 4   Quality    object        \n",
      "dtypes: datetime64[ns](1), object(4)\n",
      "memory usage: 646.3+ MB\n"
     ]
    }
   ],
   "source": [
    "data.info()"
   ]
  },
  {
   "cell_type": "code",
   "execution_count": 12,
   "metadata": {},
   "outputs": [
    {
     "data": {
      "text/plain": [
       "1923"
      ]
     },
     "execution_count": 12,
     "metadata": {},
     "output_type": "execute_result"
    }
   ],
   "source": []
  },
  {
   "cell_type": "code",
   "execution_count": null,
   "metadata": {},
   "outputs": [],
   "source": [
    "# df = pd.DataFrame()\n",
    "# for i in file_list_py:\n",
    "#     data = pd.read_csv(path + i)\n",
    "#     df = pd.concat([df,data])\n",
    "    \n",
    "# df = df.reset_index(drop = True)"
   ]
  },
  {
   "cell_type": "code",
   "execution_count": null,
   "metadata": {},
   "outputs": [],
   "source": []
  },
  {
   "cell_type": "code",
   "execution_count": null,
   "metadata": {},
   "outputs": [],
   "source": []
  },
  {
   "cell_type": "code",
   "execution_count": null,
   "metadata": {},
   "outputs": [],
   "source": []
  },
  {
   "cell_type": "code",
   "execution_count": null,
   "metadata": {},
   "outputs": [],
   "source": []
  },
  {
   "cell_type": "code",
   "execution_count": null,
   "metadata": {},
   "outputs": [],
   "source": []
  }
 ],
 "metadata": {
  "kernelspec": {
   "display_name": "Python 3.9.12 ('base')",
   "language": "python",
   "name": "python3"
  },
  "language_info": {
   "codemirror_mode": {
    "name": "ipython",
    "version": 3
   },
   "file_extension": ".py",
   "mimetype": "text/x-python",
   "name": "python",
   "nbconvert_exporter": "python",
   "pygments_lexer": "ipython3",
   "version": "3.9.12"
  },
  "orig_nbformat": 4,
  "vscode": {
   "interpreter": {
    "hash": "263930470851f494f0ed2879c35b57985588df20f9e529b86e97dd5eb9ddc466"
   }
  }
 },
 "nbformat": 4,
 "nbformat_minor": 2
}
