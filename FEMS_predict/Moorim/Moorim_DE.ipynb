{
 "cells": [
  {
   "cell_type": "code",
   "execution_count": 2,
   "metadata": {},
   "outputs": [],
   "source": [
    "import pandas as pd\n",
    "import os"
   ]
  },
  {
   "cell_type": "code",
   "execution_count": 10,
   "metadata": {},
   "outputs": [],
   "source": [
    "# 파일 불러오기\n",
    "\n",
    "path = 'C:/Users/USER/Desktop/진행중/FEMS/moorim/2차/데이터/FMES_RESULT_202201-202206/'\n",
    "file_list = os.listdir(path)\n",
    "file_list_py = [file for file in file_list if file.endswith('CSV')]"
   ]
  },
  {
   "cell_type": "code",
   "execution_count": 11,
   "metadata": {},
   "outputs": [
    {
     "data": {
      "text/plain": [
       "['FMES_RESULT_20220101-20220115.CSV',\n",
       " 'FMES_RESULT_20220116-20220131.CSV',\n",
       " 'FMES_RESULT_20220201-20220215.CSV',\n",
       " 'FMES_RESULT_20220216-20220228.CSV',\n",
       " 'FMES_RESULT_20220301-20220315.CSV',\n",
       " 'FMES_RESULT_20220316-20220331.CSV',\n",
       " 'FMES_RESULT_20220401-20220415.CSV',\n",
       " 'FMES_RESULT_20220416-20220430.CSV',\n",
       " 'FMES_RESULT_20220501-20220515.CSV',\n",
       " 'FMES_RESULT_20220516-20220531.CSV',\n",
       " 'FMES_RESULT_20220601-20220615.CSV',\n",
       " 'FMES_RESULT_20220616-20220630.CSV']"
      ]
     },
     "execution_count": 11,
     "metadata": {},
     "output_type": "execute_result"
    }
   ],
   "source": [
    "file_list_py"
   ]
  },
  {
   "cell_type": "code",
   "execution_count": null,
   "metadata": {},
   "outputs": [],
   "source": [
    "df = pd.DataFrame()\n",
    "for i in file_list_py:\n",
    "    data = pd.read_csv(path + i)\n",
    "    df = pd.concat([df,data])\n",
    "    \n",
    "df = df.reset_index(drop = True)"
   ]
  },
  {
   "cell_type": "code",
   "execution_count": null,
   "metadata": {},
   "outputs": [],
   "source": []
  },
  {
   "cell_type": "code",
   "execution_count": null,
   "metadata": {},
   "outputs": [],
   "source": []
  }
 ],
 "metadata": {
  "kernelspec": {
   "display_name": "Python 3.9.12 ('base')",
   "language": "python",
   "name": "python3"
  },
  "language_info": {
   "codemirror_mode": {
    "name": "ipython",
    "version": 3
   },
   "file_extension": ".py",
   "mimetype": "text/x-python",
   "name": "python",
   "nbconvert_exporter": "python",
   "pygments_lexer": "ipython3",
   "version": "3.9.12"
  },
  "orig_nbformat": 4,
  "vscode": {
   "interpreter": {
    "hash": "263930470851f494f0ed2879c35b57985588df20f9e529b86e97dd5eb9ddc466"
   }
  }
 },
 "nbformat": 4,
 "nbformat_minor": 2
}
