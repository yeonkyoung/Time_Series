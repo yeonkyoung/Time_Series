{
 "cells": [
  {
   "cell_type": "code",
   "execution_count": 24,
   "metadata": {},
   "outputs": [],
   "source": [
    "import pandas as pd\n",
    "import os\n",
    "import datetime\n",
    "import numpy as np"
   ]
  },
  {
   "cell_type": "code",
   "execution_count": 2,
   "metadata": {},
   "outputs": [],
   "source": [
    "# 파일 불러오기\n",
    "\n",
    "path = 'C:/Users/USER/Desktop/진행중/FEMS/moorim/2차/데이터/FMES_RESULT_202201-202206/'\n",
    "file_list = os.listdir(path)\n",
    "file_list_py = [file for file in file_list if file.endswith('CSV')]"
   ]
  },
  {
   "cell_type": "code",
   "execution_count": 11,
   "metadata": {},
   "outputs": [
    {
     "data": {
      "text/plain": [
       "['FMES_RESULT_20220101-20220115.CSV',\n",
       " 'FMES_RESULT_20220116-20220131.CSV',\n",
       " 'FMES_RESULT_20220201-20220215.CSV',\n",
       " 'FMES_RESULT_20220216-20220228.CSV',\n",
       " 'FMES_RESULT_20220301-20220315.CSV',\n",
       " 'FMES_RESULT_20220316-20220331.CSV',\n",
       " 'FMES_RESULT_20220401-20220415.CSV',\n",
       " 'FMES_RESULT_20220416-20220430.CSV',\n",
       " 'FMES_RESULT_20220501-20220515.CSV',\n",
       " 'FMES_RESULT_20220516-20220531.CSV',\n",
       " 'FMES_RESULT_20220601-20220615.CSV',\n",
       " 'FMES_RESULT_20220616-20220630.CSV']"
      ]
     },
     "execution_count": 11,
     "metadata": {},
     "output_type": "execute_result"
    }
   ],
   "source": [
    "file_list_py"
   ]
  },
  {
   "cell_type": "code",
   "execution_count": 35,
   "metadata": {},
   "outputs": [
    {
     "name": "stderr",
     "output_type": "stream",
     "text": [
      "C:\\Users\\USER\\AppData\\Local\\Temp\\ipykernel_40940\\1363622773.py:1: DtypeWarning: Columns (3) have mixed types. Specify dtype option on import or set low_memory=False.\n",
      "  data = pd.read_csv(path + file_list_py[5],names=['Tag Type', 'Tag ID', 'Timestamp', 'Value', 'Quality'])\n"
     ]
    }
   ],
   "source": [
    "data = pd.read_csv(path + file_list_py[5],names=['Tag Type', 'Tag ID', 'Timestamp', 'Value', 'Quality'])"
   ]
  },
  {
   "cell_type": "code",
   "execution_count": 36,
   "metadata": {},
   "outputs": [
    {
     "data": {
      "text/plain": [
       "1923"
      ]
     },
     "execution_count": 36,
     "metadata": {},
     "output_type": "execute_result"
    }
   ],
   "source": [
    "category_name = list(data['Tag ID'].unique())     \n",
    "len(category_name)"
   ]
  },
  {
   "cell_type": "code",
   "execution_count": 39,
   "metadata": {},
   "outputs": [
    {
     "data": {
      "text/html": [
       "<div>\n",
       "<style scoped>\n",
       "    .dataframe tbody tr th:only-of-type {\n",
       "        vertical-align: middle;\n",
       "    }\n",
       "\n",
       "    .dataframe tbody tr th {\n",
       "        vertical-align: top;\n",
       "    }\n",
       "\n",
       "    .dataframe thead th {\n",
       "        text-align: right;\n",
       "    }\n",
       "</style>\n",
       "<table border=\"1\" class=\"dataframe\">\n",
       "  <thead>\n",
       "    <tr style=\"text-align: right;\">\n",
       "      <th></th>\n",
       "      <th>Tag Type</th>\n",
       "      <th>Tag ID</th>\n",
       "      <th>Timestamp</th>\n",
       "      <th>Value</th>\n",
       "      <th>Quality</th>\n",
       "    </tr>\n",
       "  </thead>\n",
       "  <tbody>\n",
       "    <tr>\n",
       "      <th>0</th>\n",
       "      <td>Discrete</td>\n",
       "      <td>310AGI0001:ins</td>\n",
       "      <td>2022-03-16 00:05:28.77</td>\n",
       "      <td>1.0</td>\n",
       "      <td>Good</td>\n",
       "    </tr>\n",
       "    <tr>\n",
       "      <th>1</th>\n",
       "      <td>Discrete</td>\n",
       "      <td>310AGI0001:ins</td>\n",
       "      <td>2022-03-16 00:06:28.77</td>\n",
       "      <td>0.0</td>\n",
       "      <td>Good</td>\n",
       "    </tr>\n",
       "    <tr>\n",
       "      <th>2</th>\n",
       "      <td>Discrete</td>\n",
       "      <td>310AGI0001:ins</td>\n",
       "      <td>2022-03-16 00:31:29.03</td>\n",
       "      <td>0.0</td>\n",
       "      <td>Good</td>\n",
       "    </tr>\n",
       "    <tr>\n",
       "      <th>3</th>\n",
       "      <td>Discrete</td>\n",
       "      <td>310AGI0001:ins</td>\n",
       "      <td>2022-03-16 00:32:29.02</td>\n",
       "      <td>1.0</td>\n",
       "      <td>Good</td>\n",
       "    </tr>\n",
       "    <tr>\n",
       "      <th>4</th>\n",
       "      <td>Discrete</td>\n",
       "      <td>310AGI0001:ins</td>\n",
       "      <td>2022-03-16 00:58:29.32</td>\n",
       "      <td>1.0</td>\n",
       "      <td>Good</td>\n",
       "    </tr>\n",
       "    <tr>\n",
       "      <th>...</th>\n",
       "      <td>...</td>\n",
       "      <td>...</td>\n",
       "      <td>...</td>\n",
       "      <td>...</td>\n",
       "      <td>...</td>\n",
       "    </tr>\n",
       "    <tr>\n",
       "      <th>18058202</th>\n",
       "      <td>Analog</td>\n",
       "      <td>PM3-W1DLTCs:av</td>\n",
       "      <td>2022-03-30 14:11:31.66</td>\n",
       "      <td>0.0</td>\n",
       "      <td>Good</td>\n",
       "    </tr>\n",
       "    <tr>\n",
       "      <th>18058203</th>\n",
       "      <td>Analog</td>\n",
       "      <td>PM3-W1DLTCs:av</td>\n",
       "      <td>2022-03-30 14:11:31.76</td>\n",
       "      <td>0.0</td>\n",
       "      <td>Bad</td>\n",
       "    </tr>\n",
       "    <tr>\n",
       "      <th>18058204</th>\n",
       "      <td>Analog</td>\n",
       "      <td>PM3-W1DLTCs:av</td>\n",
       "      <td>2022-03-30 14:15:08.00</td>\n",
       "      <td>0.0</td>\n",
       "      <td>Bad</td>\n",
       "    </tr>\n",
       "    <tr>\n",
       "      <th>18058205</th>\n",
       "      <td>Analog</td>\n",
       "      <td>PM3-W1DLTCs:av</td>\n",
       "      <td>2022-03-30 14:17:38.34</td>\n",
       "      <td>0.0</td>\n",
       "      <td>Bad</td>\n",
       "    </tr>\n",
       "    <tr>\n",
       "      <th>18058206</th>\n",
       "      <td>Analog</td>\n",
       "      <td>PM3-W1DLTCs:av</td>\n",
       "      <td>2022-03-30 14:18:42.48</td>\n",
       "      <td>0.0</td>\n",
       "      <td>Good</td>\n",
       "    </tr>\n",
       "  </tbody>\n",
       "</table>\n",
       "<p>18058207 rows × 5 columns</p>\n",
       "</div>"
      ],
      "text/plain": [
       "          Tag Type          Tag ID               Timestamp Value Quality\n",
       "0         Discrete  310AGI0001:ins  2022-03-16 00:05:28.77   1.0    Good\n",
       "1         Discrete  310AGI0001:ins  2022-03-16 00:06:28.77   0.0    Good\n",
       "2         Discrete  310AGI0001:ins  2022-03-16 00:31:29.03   0.0    Good\n",
       "3         Discrete  310AGI0001:ins  2022-03-16 00:32:29.02   1.0    Good\n",
       "4         Discrete  310AGI0001:ins  2022-03-16 00:58:29.32   1.0    Good\n",
       "...            ...             ...                     ...   ...     ...\n",
       "18058202    Analog  PM3-W1DLTCs:av  2022-03-30 14:11:31.66   0.0    Good\n",
       "18058203    Analog  PM3-W1DLTCs:av  2022-03-30 14:11:31.76   0.0     Bad\n",
       "18058204    Analog  PM3-W1DLTCs:av  2022-03-30 14:15:08.00   0.0     Bad\n",
       "18058205    Analog  PM3-W1DLTCs:av  2022-03-30 14:17:38.34   0.0     Bad\n",
       "18058206    Analog  PM3-W1DLTCs:av  2022-03-30 14:18:42.48   0.0    Good\n",
       "\n",
       "[18058207 rows x 5 columns]"
      ]
     },
     "execution_count": 39,
     "metadata": {},
     "output_type": "execute_result"
    }
   ],
   "source": [
    "data"
   ]
  },
  {
   "cell_type": "code",
   "execution_count": 37,
   "metadata": {},
   "outputs": [
    {
     "name": "stdout",
     "output_type": "stream",
     "text": [
      "<class 'pandas.core.frame.DataFrame'>\n",
      "RangeIndex: 18058207 entries, 0 to 18058206\n",
      "Data columns (total 5 columns):\n",
      " #   Column     Dtype \n",
      "---  ------     ----- \n",
      " 0   Tag Type   object\n",
      " 1   Tag ID     object\n",
      " 2   Timestamp  object\n",
      " 3   Value      object\n",
      " 4   Quality    object\n",
      "dtypes: object(5)\n",
      "memory usage: 688.9+ MB\n"
     ]
    }
   ],
   "source": [
    "data.info()"
   ]
  },
  {
   "cell_type": "code",
   "execution_count": 48,
   "metadata": {},
   "outputs": [
    {
     "ename": "TypeError",
     "evalue": "Index(...) must be called with a collection of some kind, 'Time' was passed",
     "output_type": "error",
     "traceback": [
      "\u001b[1;31m---------------------------------------------------------------------------\u001b[0m",
      "\u001b[1;31mTypeError\u001b[0m                                 Traceback (most recent call last)",
      "\u001b[1;32mc:\\Users\\USER\\Documents\\GitHub\\Time_Series_models\\FEMS_predict\\Moorim\\Moorim_DE.ipynb 셀 8\u001b[0m in \u001b[0;36m<cell line: 1>\u001b[1;34m()\u001b[0m\n\u001b[1;32m----> <a href='vscode-notebook-cell:/c%3A/Users/USER/Documents/GitHub/Time_Series_models/FEMS_predict/Moorim/Moorim_DE.ipynb#X31sZmlsZQ%3D%3D?line=0'>1</a>\u001b[0m dd\u001b[39m=\u001b[39mpd\u001b[39m.\u001b[39;49mDataFrame(data[\u001b[39m'\u001b[39;49m\u001b[39mTimestamp\u001b[39;49m\u001b[39m'\u001b[39;49m]\u001b[39m.\u001b[39;49mstr\u001b[39m.\u001b[39;49msplit(\u001b[39m'\u001b[39;49m\u001b[39m.\u001b[39;49m\u001b[39m'\u001b[39;49m,n\u001b[39m=\u001b[39;49m\u001b[39m1\u001b[39;49m, expand\u001b[39m=\u001b[39;49m\u001b[39mTrue\u001b[39;49;00m),columns\u001b[39m=\u001b[39;49m\u001b[39m'\u001b[39;49m\u001b[39mTime\u001b[39;49m\u001b[39m'\u001b[39;49m)\n\u001b[0;32m      <a href='vscode-notebook-cell:/c%3A/Users/USER/Documents/GitHub/Time_Series_models/FEMS_predict/Moorim/Moorim_DE.ipynb#X31sZmlsZQ%3D%3D?line=1'>2</a>\u001b[0m dd\n",
      "File \u001b[1;32mc:\\Users\\USER\\anaconda3\\lib\\site-packages\\pandas\\core\\frame.py:630\u001b[0m, in \u001b[0;36mDataFrame.__init__\u001b[1;34m(self, data, index, columns, dtype, copy)\u001b[0m\n\u001b[0;32m    627\u001b[0m         copy \u001b[39m=\u001b[39m \u001b[39mFalse\u001b[39;00m\n\u001b[0;32m    629\u001b[0m \u001b[39mif\u001b[39;00m \u001b[39misinstance\u001b[39m(data, (BlockManager, ArrayManager)):\n\u001b[1;32m--> 630\u001b[0m     mgr \u001b[39m=\u001b[39m \u001b[39mself\u001b[39;49m\u001b[39m.\u001b[39;49m_init_mgr(\n\u001b[0;32m    631\u001b[0m         data, axes\u001b[39m=\u001b[39;49m{\u001b[39m\"\u001b[39;49m\u001b[39mindex\u001b[39;49m\u001b[39m\"\u001b[39;49m: index, \u001b[39m\"\u001b[39;49m\u001b[39mcolumns\u001b[39;49m\u001b[39m\"\u001b[39;49m: columns}, dtype\u001b[39m=\u001b[39;49mdtype, copy\u001b[39m=\u001b[39;49mcopy\n\u001b[0;32m    632\u001b[0m     )\n\u001b[0;32m    634\u001b[0m \u001b[39melif\u001b[39;00m \u001b[39misinstance\u001b[39m(data, \u001b[39mdict\u001b[39m):\n\u001b[0;32m    635\u001b[0m     \u001b[39m# GH#38939 de facto copy defaults to False only in non-dict cases\u001b[39;00m\n\u001b[0;32m    636\u001b[0m     mgr \u001b[39m=\u001b[39m dict_to_mgr(data, index, columns, dtype\u001b[39m=\u001b[39mdtype, copy\u001b[39m=\u001b[39mcopy, typ\u001b[39m=\u001b[39mmanager)\n",
      "File \u001b[1;32mc:\\Users\\USER\\anaconda3\\lib\\site-packages\\pandas\\core\\generic.py:268\u001b[0m, in \u001b[0;36mNDFrame._init_mgr\u001b[1;34m(cls, mgr, axes, dtype, copy)\u001b[0m\n\u001b[0;32m    266\u001b[0m \u001b[39mfor\u001b[39;00m a, axe \u001b[39min\u001b[39;00m axes\u001b[39m.\u001b[39mitems():\n\u001b[0;32m    267\u001b[0m     \u001b[39mif\u001b[39;00m axe \u001b[39mis\u001b[39;00m \u001b[39mnot\u001b[39;00m \u001b[39mNone\u001b[39;00m:\n\u001b[1;32m--> 268\u001b[0m         axe \u001b[39m=\u001b[39m ensure_index(axe)\n\u001b[0;32m    269\u001b[0m         bm_axis \u001b[39m=\u001b[39m \u001b[39mcls\u001b[39m\u001b[39m.\u001b[39m_get_block_manager_axis(a)\n\u001b[0;32m    270\u001b[0m         mgr \u001b[39m=\u001b[39m mgr\u001b[39m.\u001b[39mreindex_axis(axe, axis\u001b[39m=\u001b[39mbm_axis)\n",
      "File \u001b[1;32mc:\\Users\\USER\\anaconda3\\lib\\site-packages\\pandas\\core\\indexes\\base.py:7043\u001b[0m, in \u001b[0;36mensure_index\u001b[1;34m(index_like, copy)\u001b[0m\n\u001b[0;32m   7041\u001b[0m         \u001b[39mreturn\u001b[39;00m Index\u001b[39m.\u001b[39m_with_infer(index_like, copy\u001b[39m=\u001b[39mcopy, tupleize_cols\u001b[39m=\u001b[39m\u001b[39mFalse\u001b[39;00m)\n\u001b[0;32m   7042\u001b[0m \u001b[39melse\u001b[39;00m:\n\u001b[1;32m-> 7043\u001b[0m     \u001b[39mreturn\u001b[39;00m Index\u001b[39m.\u001b[39;49m_with_infer(index_like, copy\u001b[39m=\u001b[39;49mcopy)\n",
      "File \u001b[1;32mc:\\Users\\USER\\anaconda3\\lib\\site-packages\\pandas\\core\\indexes\\base.py:680\u001b[0m, in \u001b[0;36mIndex._with_infer\u001b[1;34m(cls, *args, **kwargs)\u001b[0m\n\u001b[0;32m    678\u001b[0m \u001b[39mwith\u001b[39;00m warnings\u001b[39m.\u001b[39mcatch_warnings():\n\u001b[0;32m    679\u001b[0m     warnings\u001b[39m.\u001b[39mfilterwarnings(\u001b[39m\"\u001b[39m\u001b[39mignore\u001b[39m\u001b[39m\"\u001b[39m, \u001b[39m\"\u001b[39m\u001b[39m.*the Index constructor\u001b[39m\u001b[39m\"\u001b[39m, \u001b[39mFutureWarning\u001b[39;00m)\n\u001b[1;32m--> 680\u001b[0m     result \u001b[39m=\u001b[39m \u001b[39mcls\u001b[39m(\u001b[39m*\u001b[39margs, \u001b[39m*\u001b[39m\u001b[39m*\u001b[39mkwargs)\n\u001b[0;32m    682\u001b[0m \u001b[39mif\u001b[39;00m result\u001b[39m.\u001b[39mdtype \u001b[39m==\u001b[39m _dtype_obj \u001b[39mand\u001b[39;00m \u001b[39mnot\u001b[39;00m result\u001b[39m.\u001b[39m_is_multi:\n\u001b[0;32m    683\u001b[0m     \u001b[39m# error: Argument 1 to \"maybe_convert_objects\" has incompatible type\u001b[39;00m\n\u001b[0;32m    684\u001b[0m     \u001b[39m# \"Union[ExtensionArray, ndarray[Any, Any]]\"; expected\u001b[39;00m\n\u001b[0;32m    685\u001b[0m     \u001b[39m# \"ndarray[Any, Any]\"\u001b[39;00m\n\u001b[0;32m    686\u001b[0m     values \u001b[39m=\u001b[39m lib\u001b[39m.\u001b[39mmaybe_convert_objects(result\u001b[39m.\u001b[39m_values)  \u001b[39m# type: ignore[arg-type]\u001b[39;00m\n",
      "File \u001b[1;32mc:\\Users\\USER\\anaconda3\\lib\\site-packages\\pandas\\core\\indexes\\base.py:508\u001b[0m, in \u001b[0;36mIndex.__new__\u001b[1;34m(cls, data, dtype, copy, name, tupleize_cols, **kwargs)\u001b[0m\n\u001b[0;32m    505\u001b[0m     \u001b[39mreturn\u001b[39;00m klass\u001b[39m.\u001b[39m_simple_new(arr, name)\n\u001b[0;32m    507\u001b[0m \u001b[39melif\u001b[39;00m is_scalar(data):\n\u001b[1;32m--> 508\u001b[0m     \u001b[39mraise\u001b[39;00m \u001b[39mcls\u001b[39m\u001b[39m.\u001b[39m_scalar_data_error(data)\n\u001b[0;32m    509\u001b[0m \u001b[39melif\u001b[39;00m \u001b[39mhasattr\u001b[39m(data, \u001b[39m\"\u001b[39m\u001b[39m__array__\u001b[39m\u001b[39m\"\u001b[39m):\n\u001b[0;32m    510\u001b[0m     \u001b[39mreturn\u001b[39;00m Index(np\u001b[39m.\u001b[39masarray(data), dtype\u001b[39m=\u001b[39mdtype, copy\u001b[39m=\u001b[39mcopy, name\u001b[39m=\u001b[39mname, \u001b[39m*\u001b[39m\u001b[39m*\u001b[39mkwargs)\n",
      "\u001b[1;31mTypeError\u001b[0m: Index(...) must be called with a collection of some kind, 'Time' was passed"
     ]
    }
   ],
   "source": [
    "dd=pd.DataFrame(data['Timestamp'].str.split('.',n=1, expand=True),columns='Time')\n",
    "dd\n"
   ]
  },
  {
   "cell_type": "code",
   "execution_count": 42,
   "metadata": {},
   "outputs": [],
   "source": [
    "data['Time_hr']=pd.DataFrame(data['Timestamp'].str.split('.'))"
   ]
  },
  {
   "cell_type": "code",
   "execution_count": 43,
   "metadata": {},
   "outputs": [
    {
     "data": {
      "text/html": [
       "<div>\n",
       "<style scoped>\n",
       "    .dataframe tbody tr th:only-of-type {\n",
       "        vertical-align: middle;\n",
       "    }\n",
       "\n",
       "    .dataframe tbody tr th {\n",
       "        vertical-align: top;\n",
       "    }\n",
       "\n",
       "    .dataframe thead th {\n",
       "        text-align: right;\n",
       "    }\n",
       "</style>\n",
       "<table border=\"1\" class=\"dataframe\">\n",
       "  <thead>\n",
       "    <tr style=\"text-align: right;\">\n",
       "      <th></th>\n",
       "      <th>Tag Type</th>\n",
       "      <th>Tag ID</th>\n",
       "      <th>Timestamp</th>\n",
       "      <th>Value</th>\n",
       "      <th>Quality</th>\n",
       "      <th>Time_hr</th>\n",
       "    </tr>\n",
       "  </thead>\n",
       "  <tbody>\n",
       "    <tr>\n",
       "      <th>0</th>\n",
       "      <td>Discrete</td>\n",
       "      <td>310AGI0001:ins</td>\n",
       "      <td>2022-03-16 00:05:28.77</td>\n",
       "      <td>1.0</td>\n",
       "      <td>Good</td>\n",
       "      <td>2022-03-16 00:05:28</td>\n",
       "    </tr>\n",
       "    <tr>\n",
       "      <th>1</th>\n",
       "      <td>Discrete</td>\n",
       "      <td>310AGI0001:ins</td>\n",
       "      <td>2022-03-16 00:06:28.77</td>\n",
       "      <td>0.0</td>\n",
       "      <td>Good</td>\n",
       "      <td>77</td>\n",
       "    </tr>\n",
       "    <tr>\n",
       "      <th>2</th>\n",
       "      <td>Discrete</td>\n",
       "      <td>310AGI0001:ins</td>\n",
       "      <td>2022-03-16 00:31:29.03</td>\n",
       "      <td>0.0</td>\n",
       "      <td>Good</td>\n",
       "      <td>NaN</td>\n",
       "    </tr>\n",
       "    <tr>\n",
       "      <th>3</th>\n",
       "      <td>Discrete</td>\n",
       "      <td>310AGI0001:ins</td>\n",
       "      <td>2022-03-16 00:32:29.02</td>\n",
       "      <td>1.0</td>\n",
       "      <td>Good</td>\n",
       "      <td>NaN</td>\n",
       "    </tr>\n",
       "    <tr>\n",
       "      <th>4</th>\n",
       "      <td>Discrete</td>\n",
       "      <td>310AGI0001:ins</td>\n",
       "      <td>2022-03-16 00:58:29.32</td>\n",
       "      <td>1.0</td>\n",
       "      <td>Good</td>\n",
       "      <td>NaN</td>\n",
       "    </tr>\n",
       "    <tr>\n",
       "      <th>...</th>\n",
       "      <td>...</td>\n",
       "      <td>...</td>\n",
       "      <td>...</td>\n",
       "      <td>...</td>\n",
       "      <td>...</td>\n",
       "      <td>...</td>\n",
       "    </tr>\n",
       "    <tr>\n",
       "      <th>18058202</th>\n",
       "      <td>Analog</td>\n",
       "      <td>PM3-W1DLTCs:av</td>\n",
       "      <td>2022-03-30 14:11:31.66</td>\n",
       "      <td>0.0</td>\n",
       "      <td>Good</td>\n",
       "      <td>NaN</td>\n",
       "    </tr>\n",
       "    <tr>\n",
       "      <th>18058203</th>\n",
       "      <td>Analog</td>\n",
       "      <td>PM3-W1DLTCs:av</td>\n",
       "      <td>2022-03-30 14:11:31.76</td>\n",
       "      <td>0.0</td>\n",
       "      <td>Bad</td>\n",
       "      <td>NaN</td>\n",
       "    </tr>\n",
       "    <tr>\n",
       "      <th>18058204</th>\n",
       "      <td>Analog</td>\n",
       "      <td>PM3-W1DLTCs:av</td>\n",
       "      <td>2022-03-30 14:15:08.00</td>\n",
       "      <td>0.0</td>\n",
       "      <td>Bad</td>\n",
       "      <td>NaN</td>\n",
       "    </tr>\n",
       "    <tr>\n",
       "      <th>18058205</th>\n",
       "      <td>Analog</td>\n",
       "      <td>PM3-W1DLTCs:av</td>\n",
       "      <td>2022-03-30 14:17:38.34</td>\n",
       "      <td>0.0</td>\n",
       "      <td>Bad</td>\n",
       "      <td>NaN</td>\n",
       "    </tr>\n",
       "    <tr>\n",
       "      <th>18058206</th>\n",
       "      <td>Analog</td>\n",
       "      <td>PM3-W1DLTCs:av</td>\n",
       "      <td>2022-03-30 14:18:42.48</td>\n",
       "      <td>0.0</td>\n",
       "      <td>Good</td>\n",
       "      <td>NaN</td>\n",
       "    </tr>\n",
       "  </tbody>\n",
       "</table>\n",
       "<p>18058207 rows × 6 columns</p>\n",
       "</div>"
      ],
      "text/plain": [
       "          Tag Type          Tag ID               Timestamp Value Quality  \\\n",
       "0         Discrete  310AGI0001:ins  2022-03-16 00:05:28.77   1.0    Good   \n",
       "1         Discrete  310AGI0001:ins  2022-03-16 00:06:28.77   0.0    Good   \n",
       "2         Discrete  310AGI0001:ins  2022-03-16 00:31:29.03   0.0    Good   \n",
       "3         Discrete  310AGI0001:ins  2022-03-16 00:32:29.02   1.0    Good   \n",
       "4         Discrete  310AGI0001:ins  2022-03-16 00:58:29.32   1.0    Good   \n",
       "...            ...             ...                     ...   ...     ...   \n",
       "18058202    Analog  PM3-W1DLTCs:av  2022-03-30 14:11:31.66   0.0    Good   \n",
       "18058203    Analog  PM3-W1DLTCs:av  2022-03-30 14:11:31.76   0.0     Bad   \n",
       "18058204    Analog  PM3-W1DLTCs:av  2022-03-30 14:15:08.00   0.0     Bad   \n",
       "18058205    Analog  PM3-W1DLTCs:av  2022-03-30 14:17:38.34   0.0     Bad   \n",
       "18058206    Analog  PM3-W1DLTCs:av  2022-03-30 14:18:42.48   0.0    Good   \n",
       "\n",
       "                      Time_hr  \n",
       "0         2022-03-16 00:05:28  \n",
       "1                          77  \n",
       "2                         NaN  \n",
       "3                         NaN  \n",
       "4                         NaN  \n",
       "...                       ...  \n",
       "18058202                  NaN  \n",
       "18058203                  NaN  \n",
       "18058204                  NaN  \n",
       "18058205                  NaN  \n",
       "18058206                  NaN  \n",
       "\n",
       "[18058207 rows x 6 columns]"
      ]
     },
     "execution_count": 43,
     "metadata": {},
     "output_type": "execute_result"
    }
   ],
   "source": [
    "data"
   ]
  },
  {
   "cell_type": "code",
   "execution_count": 14,
   "metadata": {},
   "outputs": [],
   "source": [
    "data['Timestamp']=pd.to_datetime(data['Timestamp'])#,format='%YYYY-%MM-%DD %hh'"
   ]
  },
  {
   "cell_type": "code",
   "execution_count": 23,
   "metadata": {},
   "outputs": [
    {
     "data": {
      "text/html": [
       "<div>\n",
       "<style scoped>\n",
       "    .dataframe tbody tr th:only-of-type {\n",
       "        vertical-align: middle;\n",
       "    }\n",
       "\n",
       "    .dataframe tbody tr th {\n",
       "        vertical-align: top;\n",
       "    }\n",
       "\n",
       "    .dataframe thead th {\n",
       "        text-align: right;\n",
       "    }\n",
       "</style>\n",
       "<table border=\"1\" class=\"dataframe\">\n",
       "  <thead>\n",
       "    <tr style=\"text-align: right;\">\n",
       "      <th></th>\n",
       "      <th>Tag Type</th>\n",
       "      <th>Tag ID</th>\n",
       "      <th>Timestamp</th>\n",
       "      <th>Value</th>\n",
       "      <th>Quality</th>\n",
       "    </tr>\n",
       "  </thead>\n",
       "  <tbody>\n",
       "    <tr>\n",
       "      <th>0</th>\n",
       "      <td>Discrete</td>\n",
       "      <td>310AGI0001:ins</td>\n",
       "      <td>2022-01-01 00:14:11.820</td>\n",
       "      <td>1.0</td>\n",
       "      <td>Good</td>\n",
       "    </tr>\n",
       "    <tr>\n",
       "      <th>1</th>\n",
       "      <td>Discrete</td>\n",
       "      <td>310AGI0001:ins</td>\n",
       "      <td>2022-01-01 00:16:11.840</td>\n",
       "      <td>0.0</td>\n",
       "      <td>Good</td>\n",
       "    </tr>\n",
       "    <tr>\n",
       "      <th>2</th>\n",
       "      <td>Discrete</td>\n",
       "      <td>310AGI0001:ins</td>\n",
       "      <td>2022-01-01 00:22:11.890</td>\n",
       "      <td>0.0</td>\n",
       "      <td>Good</td>\n",
       "    </tr>\n",
       "    <tr>\n",
       "      <th>3</th>\n",
       "      <td>Discrete</td>\n",
       "      <td>310AGI0001:ins</td>\n",
       "      <td>2022-01-01 00:23:11.880</td>\n",
       "      <td>1.0</td>\n",
       "      <td>Good</td>\n",
       "    </tr>\n",
       "    <tr>\n",
       "      <th>4</th>\n",
       "      <td>Discrete</td>\n",
       "      <td>310AGI0001:ins</td>\n",
       "      <td>2022-01-01 00:45:12.110</td>\n",
       "      <td>1.0</td>\n",
       "      <td>Good</td>\n",
       "    </tr>\n",
       "    <tr>\n",
       "      <th>...</th>\n",
       "      <td>...</td>\n",
       "      <td>...</td>\n",
       "      <td>...</td>\n",
       "      <td>...</td>\n",
       "      <td>...</td>\n",
       "    </tr>\n",
       "    <tr>\n",
       "      <th>16942590</th>\n",
       "      <td>Analog</td>\n",
       "      <td>PM3-W1DLTCs:av</td>\n",
       "      <td>2022-01-15 23:41:48.200</td>\n",
       "      <td>0.08</td>\n",
       "      <td>Good</td>\n",
       "    </tr>\n",
       "    <tr>\n",
       "      <th>16942591</th>\n",
       "      <td>Analog</td>\n",
       "      <td>PM3-W1DLTCs:av</td>\n",
       "      <td>2022-01-15 23:42:48.210</td>\n",
       "      <td>0.07</td>\n",
       "      <td>Good</td>\n",
       "    </tr>\n",
       "    <tr>\n",
       "      <th>16942592</th>\n",
       "      <td>Analog</td>\n",
       "      <td>PM3-W1DLTCs:av</td>\n",
       "      <td>2022-01-15 23:43:48.210</td>\n",
       "      <td>0.04</td>\n",
       "      <td>Good</td>\n",
       "    </tr>\n",
       "    <tr>\n",
       "      <th>16942593</th>\n",
       "      <td>Analog</td>\n",
       "      <td>PM3-W1DLTCs:av</td>\n",
       "      <td>2022-01-15 23:45:48.240</td>\n",
       "      <td>0.01</td>\n",
       "      <td>Good</td>\n",
       "    </tr>\n",
       "    <tr>\n",
       "      <th>16942594</th>\n",
       "      <td>Analog</td>\n",
       "      <td>PM3-W1DLTCs:av</td>\n",
       "      <td>2022-01-15 23:48:48.260</td>\n",
       "      <td>0.0</td>\n",
       "      <td>Good</td>\n",
       "    </tr>\n",
       "  </tbody>\n",
       "</table>\n",
       "<p>16942595 rows × 5 columns</p>\n",
       "</div>"
      ],
      "text/plain": [
       "          Tag Type          Tag ID               Timestamp Value Quality\n",
       "0         Discrete  310AGI0001:ins 2022-01-01 00:14:11.820   1.0    Good\n",
       "1         Discrete  310AGI0001:ins 2022-01-01 00:16:11.840   0.0    Good\n",
       "2         Discrete  310AGI0001:ins 2022-01-01 00:22:11.890   0.0    Good\n",
       "3         Discrete  310AGI0001:ins 2022-01-01 00:23:11.880   1.0    Good\n",
       "4         Discrete  310AGI0001:ins 2022-01-01 00:45:12.110   1.0    Good\n",
       "...            ...             ...                     ...   ...     ...\n",
       "16942590    Analog  PM3-W1DLTCs:av 2022-01-15 23:41:48.200  0.08    Good\n",
       "16942591    Analog  PM3-W1DLTCs:av 2022-01-15 23:42:48.210  0.07    Good\n",
       "16942592    Analog  PM3-W1DLTCs:av 2022-01-15 23:43:48.210  0.04    Good\n",
       "16942593    Analog  PM3-W1DLTCs:av 2022-01-15 23:45:48.240  0.01    Good\n",
       "16942594    Analog  PM3-W1DLTCs:av 2022-01-15 23:48:48.260   0.0    Good\n",
       "\n",
       "[16942595 rows x 5 columns]"
      ]
     },
     "execution_count": 23,
     "metadata": {},
     "output_type": "execute_result"
    }
   ],
   "source": [
    "data"
   ]
  },
  {
   "cell_type": "code",
   "execution_count": 21,
   "metadata": {},
   "outputs": [
    {
     "name": "stdout",
     "output_type": "stream",
     "text": [
      "<class 'pandas.core.frame.DataFrame'>\n",
      "RangeIndex: 16942595 entries, 0 to 16942594\n",
      "Data columns (total 5 columns):\n",
      " #   Column     Dtype         \n",
      "---  ------     -----         \n",
      " 0   Tag Type   object        \n",
      " 1   Tag ID     object        \n",
      " 2   Timestamp  datetime64[ns]\n",
      " 3   Value      object        \n",
      " 4   Quality    object        \n",
      "dtypes: datetime64[ns](1), object(4)\n",
      "memory usage: 646.3+ MB\n"
     ]
    }
   ],
   "source": [
    "data.info()"
   ]
  },
  {
   "cell_type": "code",
   "execution_count": null,
   "metadata": {},
   "outputs": [],
   "source": [
    "data['Timestamp']=pd.to_datetime(data['Timestamp'],format='')"
   ]
  },
  {
   "cell_type": "code",
   "execution_count": 12,
   "metadata": {},
   "outputs": [
    {
     "data": {
      "text/plain": [
       "1923"
      ]
     },
     "execution_count": 12,
     "metadata": {},
     "output_type": "execute_result"
    }
   ],
   "source": []
  },
  {
   "cell_type": "code",
   "execution_count": null,
   "metadata": {},
   "outputs": [],
   "source": [
    "# df = pd.DataFrame()\n",
    "# for i in file_list_py:\n",
    "#     data = pd.read_csv(path + i)\n",
    "#     df = pd.concat([df,data])\n",
    "    \n",
    "# df = df.reset_index(drop = True)"
   ]
  },
  {
   "cell_type": "code",
   "execution_count": null,
   "metadata": {},
   "outputs": [],
   "source": []
  },
  {
   "cell_type": "code",
   "execution_count": null,
   "metadata": {},
   "outputs": [],
   "source": []
  },
  {
   "cell_type": "code",
   "execution_count": null,
   "metadata": {},
   "outputs": [],
   "source": []
  },
  {
   "cell_type": "code",
   "execution_count": null,
   "metadata": {},
   "outputs": [],
   "source": []
  },
  {
   "cell_type": "code",
   "execution_count": null,
   "metadata": {},
   "outputs": [],
   "source": []
  }
 ],
 "metadata": {
  "kernelspec": {
   "display_name": "Python 3.9.12 ('base')",
   "language": "python",
   "name": "python3"
  },
  "language_info": {
   "codemirror_mode": {
    "name": "ipython",
    "version": 3
   },
   "file_extension": ".py",
   "mimetype": "text/x-python",
   "name": "python",
   "nbconvert_exporter": "python",
   "pygments_lexer": "ipython3",
   "version": "3.9.12"
  },
  "orig_nbformat": 4,
  "vscode": {
   "interpreter": {
    "hash": "263930470851f494f0ed2879c35b57985588df20f9e529b86e97dd5eb9ddc466"
   }
  }
 },
 "nbformat": 4,
 "nbformat_minor": 2
}
