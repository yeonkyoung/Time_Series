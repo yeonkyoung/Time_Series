{
 "cells": [
  {
   "cell_type": "code",
   "execution_count": 1,
   "metadata": {},
   "outputs": [],
   "source": [
    "import pandas as pd\n",
    "from neuralprophet import NeuralProphet\n",
    "import matplotlib.pyplot as plt"
   ]
  },
  {
   "cell_type": "code",
   "execution_count": 4,
   "metadata": {},
   "outputs": [
    {
     "name": "stdout",
     "output_type": "stream",
     "text": [
      "<class 'pandas.core.frame.DataFrame'>\n",
      "RangeIndex: 42766 entries, 0 to 42765\n",
      "Data columns (total 2 columns):\n",
      " #   Column       Non-Null Count  Dtype         \n",
      "---  ------       --------------  -----         \n",
      " 0   기준시각         42766 non-null  datetime64[ns]\n",
      " 1   직전 15분 사용전력  42766 non-null  float64       \n",
      "dtypes: datetime64[ns](1), float64(1)\n",
      "memory usage: 668.3 KB\n"
     ]
    }
   ],
   "source": [
    "data=pd.read_excel('C:/Users/USER/Desktop/진행중/FEMS/datamart/무림페이퍼_15분사용전력_210401-220630.xlsx')\n",
    "data.columns\n",
    "data=data.drop(['등록시각'],axis=1)\n",
    "\n",
    "data['기준시각']=pd.to_datetime(data['기준시각'])\n",
    "data.info()"
   ]
  },
  {
   "cell_type": "markdown",
   "metadata": {},
   "source": [
    "ACF 확인"
   ]
  },
  {
   "cell_type": "code",
   "execution_count": null,
   "metadata": {},
   "outputs": [],
   "source": [
    "def acf_plot(data, N_LAGS, pval):\n",
    "    from statsmodels.graphics.tsaplots import plot_acf\n",
    "    \n",
    "    auto = pd.Series(data.values)\n",
    "    for i in range(0, N_LAGS+1):\n",
    "        print(f\"lag at {i}'s autocorrelation = \", round(auto.autocorr(lag=i),2))\n",
    "        scatter = pd.DataFrame()\n",
    "        scatter['lags'] = [i for i in range (1, N_LAGS +1)]\n",
    "        scatter['autocorrelation'] = [ auto.autocorr(lag=i) for i in range(1, N_LAGS +1)]\n",
    "\n",
    "    fig = plot_acf(data, lags=N_LAGS, alpha=pval)\n",
    "    plt.xlabel(f'Lag at k (0 to {N_LAGS})')\n",
    "    plt.ylabel(\"lag at k's autocorrelation\")\n",
    "    plt.scatter(x=scatter['lags'], y=scatter['autocorrelation'], edgecolors='red',linewidth=1, s=200, alpha = .5)\n",
    "    plt.show()\n",
    "\n",
    "acf_plot(data['직전 15분 사용전력'].diff(1), 10, 0.05)\n",
    "# acf_plot(data['직전 15분 사용전력'].diff(5), 30, 0.05)\n"
   ]
  },
  {
   "cell_type": "markdown",
   "metadata": {},
   "source": [
    "feature 생성"
   ]
  },
  {
   "cell_type": "code",
   "execution_count": 61,
   "metadata": {},
   "outputs": [
    {
     "name": "stderr",
     "output_type": "stream",
     "text": [
      "WARNING - (py.warnings._showwarnmsg) - C:\\Users\\USER\\AppData\\Local\\Temp\\ipykernel_16760\\342044880.py:3: SettingWithCopyWarning:\n",
      "\n",
      "\n",
      "A value is trying to be set on a copy of a slice from a DataFrame.\n",
      "Try using .loc[row_indexer,col_indexer] = value instead\n",
      "\n",
      "See the caveats in the documentation: https://pandas.pydata.org/pandas-docs/stable/user_guide/indexing.html#returning-a-view-versus-a-copy\n",
      "\n",
      "\n"
     ]
    }
   ],
   "source": [
    "#lag (Auto Regression) lag 1까지 생성\n",
    "# data['l_1'] = data['직전 15분 사용전력'].shift(1)\n",
    "data['l_2']= data['직전 15분 사용전력'].shift(2)\n",
    "# data['l_3']= data['직전 15분 사용전력'].shift(3)\n",
    "# data['l_4']= data['직전 15분 사용전력'].shift(4)\n",
    "# data['l_5']= data['직전 15분 사용전력'].shift(5)\n",
    "# data['l_6']= data['직전 15분 사용전력'].shift(6)\n",
    "# data['l_7']= data['직전 15분 사용전력'].shift(7)\n",
    "# data['l_8']= data['직전 15분 사용전력'].shift(8)\n",
    "# data['l_9']= data['직전 15분 사용전력'].shift(9)\n",
    "# data['l_10']= data['직전 15분 사용전력'].shift(10)"
   ]
  },
  {
   "cell_type": "code",
   "execution_count": 62,
   "metadata": {},
   "outputs": [
    {
     "name": "stderr",
     "output_type": "stream",
     "text": [
      "WARNING - (py.warnings._showwarnmsg) - C:\\Users\\USER\\AppData\\Local\\Temp\\ipykernel_16760\\1583698968.py:2: SettingWithCopyWarning:\n",
      "\n",
      "\n",
      "A value is trying to be set on a copy of a slice from a DataFrame.\n",
      "Try using .loc[row_indexer,col_indexer] = value instead\n",
      "\n",
      "See the caveats in the documentation: https://pandas.pydata.org/pandas-docs/stable/user_guide/indexing.html#returning-a-view-versus-a-copy\n",
      "\n",
      "\n"
     ]
    }
   ],
   "source": [
    "#diff 1 차분(직전, 직직전의 차이)\n",
    "data['d_2']=data['직전 15분 사용전력'].diff(1).shift(1)\n"
   ]
  },
  {
   "cell_type": "code",
   "execution_count": 63,
   "metadata": {},
   "outputs": [
    {
     "data": {
      "text/html": [
       "<div>\n",
       "<style scoped>\n",
       "    .dataframe tbody tr th:only-of-type {\n",
       "        vertical-align: middle;\n",
       "    }\n",
       "\n",
       "    .dataframe tbody tr th {\n",
       "        vertical-align: top;\n",
       "    }\n",
       "\n",
       "    .dataframe thead th {\n",
       "        text-align: right;\n",
       "    }\n",
       "</style>\n",
       "<table border=\"1\" class=\"dataframe\">\n",
       "  <thead>\n",
       "    <tr style=\"text-align: right;\">\n",
       "      <th></th>\n",
       "      <th>기준시각</th>\n",
       "      <th>직전 15분 사용전력</th>\n",
       "      <th>d_2</th>\n",
       "      <th>l_2</th>\n",
       "    </tr>\n",
       "  </thead>\n",
       "  <tbody>\n",
       "    <tr>\n",
       "      <th>2</th>\n",
       "      <td>2021-04-01 00:30:00</td>\n",
       "      <td>7442.4</td>\n",
       "      <td>NaN</td>\n",
       "      <td>NaN</td>\n",
       "    </tr>\n",
       "    <tr>\n",
       "      <th>3</th>\n",
       "      <td>2021-04-01 00:45:00</td>\n",
       "      <td>7392.0</td>\n",
       "      <td>NaN</td>\n",
       "      <td>NaN</td>\n",
       "    </tr>\n",
       "    <tr>\n",
       "      <th>4</th>\n",
       "      <td>2021-04-01 01:00:00</td>\n",
       "      <td>7576.8</td>\n",
       "      <td>-50.4</td>\n",
       "      <td>7442.4</td>\n",
       "    </tr>\n",
       "    <tr>\n",
       "      <th>5</th>\n",
       "      <td>2021-04-01 01:15:00</td>\n",
       "      <td>7492.8</td>\n",
       "      <td>184.8</td>\n",
       "      <td>7392.0</td>\n",
       "    </tr>\n",
       "    <tr>\n",
       "      <th>6</th>\n",
       "      <td>2021-04-01 01:30:00</td>\n",
       "      <td>7660.8</td>\n",
       "      <td>-84.0</td>\n",
       "      <td>7576.8</td>\n",
       "    </tr>\n",
       "    <tr>\n",
       "      <th>...</th>\n",
       "      <td>...</td>\n",
       "      <td>...</td>\n",
       "      <td>...</td>\n",
       "      <td>...</td>\n",
       "    </tr>\n",
       "    <tr>\n",
       "      <th>42761</th>\n",
       "      <td>2022-06-30 22:45:00</td>\n",
       "      <td>5628.0</td>\n",
       "      <td>50.4</td>\n",
       "      <td>5594.4</td>\n",
       "    </tr>\n",
       "    <tr>\n",
       "      <th>42762</th>\n",
       "      <td>2022-06-30 23:00:00</td>\n",
       "      <td>5560.8</td>\n",
       "      <td>-16.8</td>\n",
       "      <td>5644.8</td>\n",
       "    </tr>\n",
       "    <tr>\n",
       "      <th>42763</th>\n",
       "      <td>2022-06-30 23:15:00</td>\n",
       "      <td>5493.6</td>\n",
       "      <td>-67.2</td>\n",
       "      <td>5628.0</td>\n",
       "    </tr>\n",
       "    <tr>\n",
       "      <th>42764</th>\n",
       "      <td>2022-06-30 23:30:00</td>\n",
       "      <td>5527.2</td>\n",
       "      <td>-67.2</td>\n",
       "      <td>5560.8</td>\n",
       "    </tr>\n",
       "    <tr>\n",
       "      <th>42765</th>\n",
       "      <td>2022-06-30 23:45:00</td>\n",
       "      <td>5670.0</td>\n",
       "      <td>33.6</td>\n",
       "      <td>5493.6</td>\n",
       "    </tr>\n",
       "  </tbody>\n",
       "</table>\n",
       "<p>42764 rows × 4 columns</p>\n",
       "</div>"
      ],
      "text/plain": [
       "                     기준시각  직전 15분 사용전력    d_2     l_2\n",
       "2     2021-04-01 00:30:00       7442.4    NaN     NaN\n",
       "3     2021-04-01 00:45:00       7392.0    NaN     NaN\n",
       "4     2021-04-01 01:00:00       7576.8  -50.4  7442.4\n",
       "5     2021-04-01 01:15:00       7492.8  184.8  7392.0\n",
       "6     2021-04-01 01:30:00       7660.8  -84.0  7576.8\n",
       "...                   ...          ...    ...     ...\n",
       "42761 2022-06-30 22:45:00       5628.0   50.4  5594.4\n",
       "42762 2022-06-30 23:00:00       5560.8  -16.8  5644.8\n",
       "42763 2022-06-30 23:15:00       5493.6  -67.2  5628.0\n",
       "42764 2022-06-30 23:30:00       5527.2  -67.2  5560.8\n",
       "42765 2022-06-30 23:45:00       5670.0   33.6  5493.6\n",
       "\n",
       "[42764 rows x 4 columns]"
      ]
     },
     "execution_count": 63,
     "metadata": {},
     "output_type": "execute_result"
    }
   ],
   "source": [
    "data"
   ]
  },
  {
   "cell_type": "code",
   "execution_count": 64,
   "metadata": {},
   "outputs": [
    {
     "data": {
      "text/html": [
       "<div>\n",
       "<style scoped>\n",
       "    .dataframe tbody tr th:only-of-type {\n",
       "        vertical-align: middle;\n",
       "    }\n",
       "\n",
       "    .dataframe tbody tr th {\n",
       "        vertical-align: top;\n",
       "    }\n",
       "\n",
       "    .dataframe thead th {\n",
       "        text-align: right;\n",
       "    }\n",
       "</style>\n",
       "<table border=\"1\" class=\"dataframe\">\n",
       "  <thead>\n",
       "    <tr style=\"text-align: right;\">\n",
       "      <th></th>\n",
       "      <th>기준시각</th>\n",
       "      <th>직전 15분 사용전력</th>\n",
       "      <th>d_2</th>\n",
       "      <th>l_2</th>\n",
       "    </tr>\n",
       "  </thead>\n",
       "  <tbody>\n",
       "    <tr>\n",
       "      <th>4</th>\n",
       "      <td>2021-04-01 01:00:00</td>\n",
       "      <td>7576.8</td>\n",
       "      <td>-50.4</td>\n",
       "      <td>7442.4</td>\n",
       "    </tr>\n",
       "    <tr>\n",
       "      <th>5</th>\n",
       "      <td>2021-04-01 01:15:00</td>\n",
       "      <td>7492.8</td>\n",
       "      <td>184.8</td>\n",
       "      <td>7392.0</td>\n",
       "    </tr>\n",
       "    <tr>\n",
       "      <th>6</th>\n",
       "      <td>2021-04-01 01:30:00</td>\n",
       "      <td>7660.8</td>\n",
       "      <td>-84.0</td>\n",
       "      <td>7576.8</td>\n",
       "    </tr>\n",
       "    <tr>\n",
       "      <th>7</th>\n",
       "      <td>2021-04-01 01:45:00</td>\n",
       "      <td>7677.6</td>\n",
       "      <td>168.0</td>\n",
       "      <td>7492.8</td>\n",
       "    </tr>\n",
       "    <tr>\n",
       "      <th>8</th>\n",
       "      <td>2021-04-01 02:00:00</td>\n",
       "      <td>7610.4</td>\n",
       "      <td>16.8</td>\n",
       "      <td>7660.8</td>\n",
       "    </tr>\n",
       "    <tr>\n",
       "      <th>...</th>\n",
       "      <td>...</td>\n",
       "      <td>...</td>\n",
       "      <td>...</td>\n",
       "      <td>...</td>\n",
       "    </tr>\n",
       "    <tr>\n",
       "      <th>42761</th>\n",
       "      <td>2022-06-30 22:45:00</td>\n",
       "      <td>5628.0</td>\n",
       "      <td>50.4</td>\n",
       "      <td>5594.4</td>\n",
       "    </tr>\n",
       "    <tr>\n",
       "      <th>42762</th>\n",
       "      <td>2022-06-30 23:00:00</td>\n",
       "      <td>5560.8</td>\n",
       "      <td>-16.8</td>\n",
       "      <td>5644.8</td>\n",
       "    </tr>\n",
       "    <tr>\n",
       "      <th>42763</th>\n",
       "      <td>2022-06-30 23:15:00</td>\n",
       "      <td>5493.6</td>\n",
       "      <td>-67.2</td>\n",
       "      <td>5628.0</td>\n",
       "    </tr>\n",
       "    <tr>\n",
       "      <th>42764</th>\n",
       "      <td>2022-06-30 23:30:00</td>\n",
       "      <td>5527.2</td>\n",
       "      <td>-67.2</td>\n",
       "      <td>5560.8</td>\n",
       "    </tr>\n",
       "    <tr>\n",
       "      <th>42765</th>\n",
       "      <td>2022-06-30 23:45:00</td>\n",
       "      <td>5670.0</td>\n",
       "      <td>33.6</td>\n",
       "      <td>5493.6</td>\n",
       "    </tr>\n",
       "  </tbody>\n",
       "</table>\n",
       "<p>42762 rows × 4 columns</p>\n",
       "</div>"
      ],
      "text/plain": [
       "                     기준시각  직전 15분 사용전력    d_2     l_2\n",
       "4     2021-04-01 01:00:00       7576.8  -50.4  7442.4\n",
       "5     2021-04-01 01:15:00       7492.8  184.8  7392.0\n",
       "6     2021-04-01 01:30:00       7660.8  -84.0  7576.8\n",
       "7     2021-04-01 01:45:00       7677.6  168.0  7492.8\n",
       "8     2021-04-01 02:00:00       7610.4   16.8  7660.8\n",
       "...                   ...          ...    ...     ...\n",
       "42761 2022-06-30 22:45:00       5628.0   50.4  5594.4\n",
       "42762 2022-06-30 23:00:00       5560.8  -16.8  5644.8\n",
       "42763 2022-06-30 23:15:00       5493.6  -67.2  5628.0\n",
       "42764 2022-06-30 23:30:00       5527.2  -67.2  5560.8\n",
       "42765 2022-06-30 23:45:00       5670.0   33.6  5493.6\n",
       "\n",
       "[42762 rows x 4 columns]"
      ]
     },
     "execution_count": 64,
     "metadata": {},
     "output_type": "execute_result"
    }
   ],
   "source": [
    "# 결측 보강(interplation)\n",
    "# data=data.fillna(method='bfill')\n",
    "data=data.dropna()\n",
    "data"
   ]
  },
  {
   "cell_type": "code",
   "execution_count": 110,
   "metadata": {},
   "outputs": [
    {
     "name": "stdout",
     "output_type": "stream",
     "text": [
      "train_df= 2021-04-01 01:00:00 ~ 2022-05-29 23:45:00 , 39690\n",
      "val_df= 2022-05-30 00:00:00 ~ 2022-06-30 23:00:00 , 3069\n",
      "test_df= 2022-06-30 23:15:00 ~ 2022-06-30 23:45:00 , 3\n"
     ]
    }
   ],
   "source": [
    "#train_test split\n",
    "def train_test_split(data_t,train_cut_date,val_cut_date): \n",
    "  \n",
    "    df_train = data_t[data_t['기준시각'] < train_cut_date ]\n",
    "    df_val= data_t[(data_t['기준시각'] >= train_cut_date ) & (data_t['기준시각'] < val_cut_date )]\n",
    "    df_test = data_t[(data_t['기준시각'] >= val_cut_date)] \n",
    "    \n",
    "    return (df_train,df_val,df_test) \n",
    "\n",
    "df_train,df_val,df_test=train_test_split(data,'2022-05-30','2022-06-30 23:15:00')\n",
    "print('train_df=',min(df_train['기준시각']),'~',max(df_train['기준시각']),',',len(df_train))\n",
    "print('val_df=',min(df_val['기준시각']),'~',max(df_val['기준시각']),',',len(df_val))\n",
    "print('test_df=',min(df_test['기준시각']),'~',max(df_test['기준시각']),',',len(df_test))\n"
   ]
  },
  {
   "cell_type": "code",
   "execution_count": 111,
   "metadata": {},
   "outputs": [
    {
     "name": "stderr",
     "output_type": "stream",
     "text": [
      "WARNING - (py.warnings._showwarnmsg) - C:\\Users\\USER\\AppData\\Local\\Temp\\ipykernel_16760\\3057321360.py:1: SettingWithCopyWarning:\n",
      "\n",
      "\n",
      "A value is trying to be set on a copy of a slice from a DataFrame\n",
      "\n",
      "See the caveats in the documentation: https://pandas.pydata.org/pandas-docs/stable/user_guide/indexing.html#returning-a-view-versus-a-copy\n",
      "\n",
      "\n",
      "WARNING - (py.warnings._showwarnmsg) - C:\\Users\\USER\\AppData\\Local\\Temp\\ipykernel_16760\\3057321360.py:2: SettingWithCopyWarning:\n",
      "\n",
      "\n",
      "A value is trying to be set on a copy of a slice from a DataFrame\n",
      "\n",
      "See the caveats in the documentation: https://pandas.pydata.org/pandas-docs/stable/user_guide/indexing.html#returning-a-view-versus-a-copy\n",
      "\n",
      "\n",
      "WARNING - (py.warnings._showwarnmsg) - C:\\Users\\USER\\AppData\\Local\\Temp\\ipykernel_16760\\3057321360.py:3: SettingWithCopyWarning:\n",
      "\n",
      "\n",
      "A value is trying to be set on a copy of a slice from a DataFrame\n",
      "\n",
      "See the caveats in the documentation: https://pandas.pydata.org/pandas-docs/stable/user_guide/indexing.html#returning-a-view-versus-a-copy\n",
      "\n",
      "\n"
     ]
    }
   ],
   "source": [
    "df_train.rename(columns={\"기준시각\": \"ds\", \"직전 15분 사용전력\": \"y\"}, inplace=True)\n",
    "df_val.rename(columns={\"기준시각\": \"ds\", \"직전 15분 사용전력\": \"y\"}, inplace=True)\n",
    "df_test.rename(columns={\"기준시각\": \"ds\", \"직전 15분 사용전력\": \"y\"}, inplace=True)"
   ]
  },
  {
   "cell_type": "code",
   "execution_count": 119,
   "metadata": {},
   "outputs": [],
   "source": [
    "model_tune = NeuralProphet(\n",
    "n_lags=2,\n",
    "n_forecasts=3,\n",
    "num_hidden_layers=2,\n",
    "# changepoints_range=0.95,\n",
    "# n_changepoints=5,\n",
    "# learning_rate=0.1\n",
    ")\n",
    "\n",
    "model_tune = model_tune.add_lagged_regressor(names='l_2',normalize='minmax')\n",
    "model_tune = model_tune.add_future_regressor(name='d_2',normalize='minmax')   #regularization=0.05\n",
    "# model_tune = model_tune.add_future_regressor(name='l_2',normalize='minmax')\n",
    "# model_tune = model_tune.add_future_regressor(name='l_3',normalize='minmax')\n",
    "# model_tune = model_tune.add_future_regressor(name='l_4',normalize='minmax')\n",
    "# model_tune = model_tune.add_future_regressor(name='l_5',normalize='minmax')\n",
    "# model_tune = model_tune.add_future_regressor(name='l_6',normalize='minmax')\n",
    "# model_tune = model_tune.add_future_regressor(name='l_7',normalize='minmax')\n",
    "# model_tune = model_tune.add_future_regressor(name='l_8',normalize='minmax')\n",
    "# model_tune = model_tune.add_future_regressor(name='l_9',normalize='minmax')\n",
    "# model_tune = model_tune.add_future_regressor(name='l_10',normalize='minmax')"
   ]
  },
  {
   "cell_type": "code",
   "execution_count": 137,
   "metadata": {},
   "outputs": [],
   "source": [
    "# from locale import normalize\n",
    "\n",
    "\n",
    "# model=NeuralProphet(n_lag=7)\n",
    "# model = model.add_future_regressor(name='l_1',normalize='minmax')\n",
    "# model = model.add_future_regressor(name='l_2',normalize='minmax')\n",
    "# model = model.add_future_regressor(name='l_3',normalize='minmax')\n",
    "# model = model.add_future_regressor(name='l_4',normalize='minmax')\n",
    "# model = model.add_future_regressor(name='l_5',normalize='minmax')\n",
    "# model = model.add_future_regressor(name='l_6',normalize='minmax')\n",
    "# model = model.add_future_regressor(name='l_7',normalize='minmax')"
   ]
  },
  {
   "cell_type": "code",
   "execution_count": null,
   "metadata": {},
   "outputs": [],
   "source": [
    "#학습데이터, 검증데이터 분리\n",
    "# train, val = model_tune.split_df(df_train, valid_p = 0.1)\n",
    "\n",
    "# print(len(train),len(val))\n"
   ]
  },
  {
   "cell_type": "code",
   "execution_count": 118,
   "metadata": {},
   "outputs": [
    {
     "name": "stderr",
     "output_type": "stream",
     "text": [
      "INFO - (NP.df_utils._infer_frequency) - Major frequency 15T corresponds to 99.982% of the data.\n",
      "INFO - (NP.df_utils._infer_frequency) - Dataframe freq automatically defined as 15T\n",
      "INFO - (NP.forecaster.__handle_missing_data) - 1010 missing dates added.\n",
      "INFO - (NP.forecaster.__handle_missing_data) - 85 NaN values in column y were auto-imputed.\n"
     ]
    },
    {
     "ename": "ValueError",
     "evalue": "More than 30 consecutive missing values encountered in column y. 925 NA remain. Please preprocess data manually.",
     "output_type": "error",
     "traceback": [
      "\u001b[1;31m---------------------------------------------------------------------------\u001b[0m",
      "\u001b[1;31mValueError\u001b[0m                                Traceback (most recent call last)",
      "\u001b[1;32mc:\\Users\\USER\\Documents\\GitHub\\Time_Series_models\\Temp_predict\\moorim_prophet.ipynb 셀 15\u001b[0m in \u001b[0;36m<cell line: 4>\u001b[1;34m()\u001b[0m\n\u001b[0;32m      <a href='vscode-notebook-cell:/c%3A/Users/USER/Documents/GitHub/Time_Series_models/Temp_predict/moorim_prophet.ipynb#ch0000014?line=0'>1</a>\u001b[0m \u001b[39mfrom\u001b[39;00m \u001b[39menum\u001b[39;00m \u001b[39mimport\u001b[39;00m auto\n\u001b[1;32m----> <a href='vscode-notebook-cell:/c%3A/Users/USER/Documents/GitHub/Time_Series_models/Temp_predict/moorim_prophet.ipynb#ch0000014?line=3'>4</a>\u001b[0m metrics \u001b[39m=\u001b[39m model_tune\u001b[39m.\u001b[39;49mfit(df_train,validation_df\u001b[39m=\u001b[39;49mdf_val, progress\u001b[39m=\u001b[39;49m\u001b[39m'\u001b[39;49m\u001b[39mplot\u001b[39;49m\u001b[39m'\u001b[39;49m)\n",
      "File \u001b[1;32mc:\\Users\\USER\\AppData\\Local\\Programs\\Python\\Python39\\lib\\site-packages\\neuralprophet\\forecaster.py:583\u001b[0m, in \u001b[0;36mNeuralProphet.fit\u001b[1;34m(self, df, freq, validation_df, progress, minimal)\u001b[0m\n\u001b[0;32m    581\u001b[0m df_dict \u001b[39m=\u001b[39m \u001b[39mself\u001b[39m\u001b[39m.\u001b[39m_check_dataframe(df_dict, check_y\u001b[39m=\u001b[39m\u001b[39mTrue\u001b[39;00m, exogenous\u001b[39m=\u001b[39m\u001b[39mTrue\u001b[39;00m)\n\u001b[0;32m    582\u001b[0m \u001b[39mself\u001b[39m\u001b[39m.\u001b[39mdata_freq \u001b[39m=\u001b[39m df_utils\u001b[39m.\u001b[39minfer_frequency(df_dict, n_lags\u001b[39m=\u001b[39m\u001b[39mself\u001b[39m\u001b[39m.\u001b[39mn_lags, freq\u001b[39m=\u001b[39mfreq)\n\u001b[1;32m--> 583\u001b[0m df_dict \u001b[39m=\u001b[39m \u001b[39mself\u001b[39;49m\u001b[39m.\u001b[39;49m_handle_missing_data(df_dict, freq\u001b[39m=\u001b[39;49m\u001b[39mself\u001b[39;49m\u001b[39m.\u001b[39;49mdata_freq)\n\u001b[0;32m    584\u001b[0m \u001b[39mif\u001b[39;00m validation_df \u001b[39mis\u001b[39;00m \u001b[39mnot\u001b[39;00m \u001b[39mNone\u001b[39;00m \u001b[39mand\u001b[39;00m (\u001b[39mself\u001b[39m\u001b[39m.\u001b[39mmetrics \u001b[39mis\u001b[39;00m \u001b[39mNone\u001b[39;00m \u001b[39mor\u001b[39;00m minimal):\n\u001b[0;32m    585\u001b[0m     log\u001b[39m.\u001b[39mwarning(\u001b[39m\"\u001b[39m\u001b[39mIgnoring validation_df because no metrics set or minimal training set.\u001b[39m\u001b[39m\"\u001b[39m)\n",
      "File \u001b[1;32mc:\\Users\\USER\\AppData\\Local\\Programs\\Python\\Python39\\lib\\site-packages\\neuralprophet\\forecaster.py:1436\u001b[0m, in \u001b[0;36mNeuralProphet._handle_missing_data\u001b[1;34m(self, df, freq, predicting)\u001b[0m\n\u001b[0;32m   1434\u001b[0m df_handled_missing_dict \u001b[39m=\u001b[39m {}\n\u001b[0;32m   1435\u001b[0m \u001b[39mfor\u001b[39;00m key \u001b[39min\u001b[39;00m df:\n\u001b[1;32m-> 1436\u001b[0m     df_handled_missing_dict[key] \u001b[39m=\u001b[39m \u001b[39mself\u001b[39;49m\u001b[39m.\u001b[39;49m__handle_missing_data(df[key], freq, predicting)\n\u001b[0;32m   1437\u001b[0m \u001b[39mif\u001b[39;00m \u001b[39mnot\u001b[39;00m df_is_dict:\n\u001b[0;32m   1438\u001b[0m     df_handled_missing_dict \u001b[39m=\u001b[39m df_handled_missing_dict[\u001b[39m\"\u001b[39m\u001b[39m__df__\u001b[39m\u001b[39m\"\u001b[39m]\n",
      "File \u001b[1;32mc:\\Users\\USER\\AppData\\Local\\Programs\\Python\\Python39\\lib\\site-packages\\neuralprophet\\forecaster.py:1395\u001b[0m, in \u001b[0;36mNeuralProphet.__handle_missing_data\u001b[1;34m(self, df, freq, predicting)\u001b[0m\n\u001b[0;32m   1393\u001b[0m     log\u001b[39m.\u001b[39minfo(\u001b[39m\"\u001b[39m\u001b[39m{}\u001b[39;00m\u001b[39m NaN values in column \u001b[39m\u001b[39m{}\u001b[39;00m\u001b[39m were auto-imputed.\u001b[39m\u001b[39m\"\u001b[39m\u001b[39m.\u001b[39mformat(sum_na \u001b[39m-\u001b[39m remaining_na, column))\n\u001b[0;32m   1394\u001b[0m     \u001b[39mif\u001b[39;00m remaining_na \u001b[39m>\u001b[39m \u001b[39m0\u001b[39m:\n\u001b[1;32m-> 1395\u001b[0m         \u001b[39mraise\u001b[39;00m \u001b[39mValueError\u001b[39;00m(\n\u001b[0;32m   1396\u001b[0m             \u001b[39m\"\u001b[39m\u001b[39mMore than \u001b[39m\u001b[39m{}\u001b[39;00m\u001b[39m consecutive missing values encountered in column \u001b[39m\u001b[39m{}\u001b[39;00m\u001b[39m. \u001b[39m\u001b[39m\"\u001b[39m\n\u001b[0;32m   1397\u001b[0m             \u001b[39m\"\u001b[39m\u001b[39m{}\u001b[39;00m\u001b[39m NA remain. Please preprocess data manually.\u001b[39m\u001b[39m\"\u001b[39m\u001b[39m.\u001b[39mformat(\n\u001b[0;32m   1398\u001b[0m                 \u001b[39m2\u001b[39m \u001b[39m*\u001b[39m \u001b[39mself\u001b[39m\u001b[39m.\u001b[39mimpute_limit_linear \u001b[39m+\u001b[39m \u001b[39mself\u001b[39m\u001b[39m.\u001b[39mimpute_rolling, column, remaining_na\n\u001b[0;32m   1399\u001b[0m             )\n\u001b[0;32m   1400\u001b[0m         )\n\u001b[0;32m   1401\u001b[0m \u001b[39melse\u001b[39;00m:  \u001b[39m# fail because set to not impute missing\u001b[39;00m\n\u001b[0;32m   1402\u001b[0m     \u001b[39mraise\u001b[39;00m \u001b[39mValueError\u001b[39;00m(\n\u001b[0;32m   1403\u001b[0m         \u001b[39m\"\u001b[39m\u001b[39mMissing values found. \u001b[39m\u001b[39m\"\u001b[39m \u001b[39m\"\u001b[39m\u001b[39mPlease preprocess data manually or set impute_missing to True.\u001b[39m\u001b[39m\"\u001b[39m\n\u001b[0;32m   1404\u001b[0m     )\n",
      "\u001b[1;31mValueError\u001b[0m: More than 30 consecutive missing values encountered in column y. 925 NA remain. Please preprocess data manually."
     ]
    }
   ],
   "source": [
    "from enum import auto\n",
    "\n",
    "\n",
    "metrics = model_tune.fit(df_train,validation_df=df_val, progress='plot')    #"
   ]
  },
  {
   "cell_type": "code",
   "execution_count": 83,
   "metadata": {},
   "outputs": [
    {
     "data": {
      "text/html": [
       "<div>\n",
       "<style scoped>\n",
       "    .dataframe tbody tr th:only-of-type {\n",
       "        vertical-align: middle;\n",
       "    }\n",
       "\n",
       "    .dataframe tbody tr th {\n",
       "        vertical-align: top;\n",
       "    }\n",
       "\n",
       "    .dataframe thead th {\n",
       "        text-align: right;\n",
       "    }\n",
       "</style>\n",
       "<table border=\"1\" class=\"dataframe\">\n",
       "  <thead>\n",
       "    <tr style=\"text-align: right;\">\n",
       "      <th></th>\n",
       "      <th>SmoothL1Loss</th>\n",
       "      <th>MAE</th>\n",
       "      <th>RMSE</th>\n",
       "      <th>RegLoss</th>\n",
       "      <th>SmoothL1Loss_val</th>\n",
       "      <th>MAE_val</th>\n",
       "      <th>RMSE_val</th>\n",
       "    </tr>\n",
       "  </thead>\n",
       "  <tbody>\n",
       "    <tr>\n",
       "      <th>0</th>\n",
       "      <td>0.511555</td>\n",
       "      <td>6684.274338</td>\n",
       "      <td>8565.709431</td>\n",
       "      <td>0.0</td>\n",
       "      <td>0.063669</td>\n",
       "      <td>2224.163003</td>\n",
       "      <td>2760.378734</td>\n",
       "    </tr>\n",
       "    <tr>\n",
       "      <th>1</th>\n",
       "      <td>0.030189</td>\n",
       "      <td>1359.818121</td>\n",
       "      <td>1816.214248</td>\n",
       "      <td>0.0</td>\n",
       "      <td>0.010411</td>\n",
       "      <td>883.112046</td>\n",
       "      <td>1106.279167</td>\n",
       "    </tr>\n",
       "    <tr>\n",
       "      <th>2</th>\n",
       "      <td>0.011109</td>\n",
       "      <td>714.423231</td>\n",
       "      <td>1126.633835</td>\n",
       "      <td>0.0</td>\n",
       "      <td>0.005807</td>\n",
       "      <td>635.841194</td>\n",
       "      <td>827.436927</td>\n",
       "    </tr>\n",
       "    <tr>\n",
       "      <th>3</th>\n",
       "      <td>0.005531</td>\n",
       "      <td>533.366900</td>\n",
       "      <td>793.820375</td>\n",
       "      <td>0.0</td>\n",
       "      <td>0.002309</td>\n",
       "      <td>360.629106</td>\n",
       "      <td>522.234828</td>\n",
       "    </tr>\n",
       "    <tr>\n",
       "      <th>4</th>\n",
       "      <td>0.002049</td>\n",
       "      <td>345.117094</td>\n",
       "      <td>482.418100</td>\n",
       "      <td>0.0</td>\n",
       "      <td>0.001168</td>\n",
       "      <td>252.333922</td>\n",
       "      <td>368.873388</td>\n",
       "    </tr>\n",
       "    <tr>\n",
       "      <th>...</th>\n",
       "      <td>...</td>\n",
       "      <td>...</td>\n",
       "      <td>...</td>\n",
       "      <td>...</td>\n",
       "      <td>...</td>\n",
       "      <td>...</td>\n",
       "      <td>...</td>\n",
       "    </tr>\n",
       "    <tr>\n",
       "      <th>67</th>\n",
       "      <td>0.000163</td>\n",
       "      <td>97.457754</td>\n",
       "      <td>134.664882</td>\n",
       "      <td>0.0</td>\n",
       "      <td>0.000152</td>\n",
       "      <td>96.353914</td>\n",
       "      <td>133.765511</td>\n",
       "    </tr>\n",
       "    <tr>\n",
       "      <th>68</th>\n",
       "      <td>0.000159</td>\n",
       "      <td>95.881099</td>\n",
       "      <td>132.983019</td>\n",
       "      <td>0.0</td>\n",
       "      <td>0.000138</td>\n",
       "      <td>89.379887</td>\n",
       "      <td>127.160620</td>\n",
       "    </tr>\n",
       "    <tr>\n",
       "      <th>69</th>\n",
       "      <td>0.000154</td>\n",
       "      <td>93.546657</td>\n",
       "      <td>130.738366</td>\n",
       "      <td>0.0</td>\n",
       "      <td>0.000137</td>\n",
       "      <td>89.299726</td>\n",
       "      <td>126.889455</td>\n",
       "    </tr>\n",
       "    <tr>\n",
       "      <th>70</th>\n",
       "      <td>0.000152</td>\n",
       "      <td>92.380631</td>\n",
       "      <td>129.589321</td>\n",
       "      <td>0.0</td>\n",
       "      <td>0.000135</td>\n",
       "      <td>88.482940</td>\n",
       "      <td>126.062712</td>\n",
       "    </tr>\n",
       "    <tr>\n",
       "      <th>71</th>\n",
       "      <td>0.000150</td>\n",
       "      <td>91.601636</td>\n",
       "      <td>128.782151</td>\n",
       "      <td>0.0</td>\n",
       "      <td>0.000135</td>\n",
       "      <td>88.288221</td>\n",
       "      <td>125.742593</td>\n",
       "    </tr>\n",
       "  </tbody>\n",
       "</table>\n",
       "<p>72 rows × 7 columns</p>\n",
       "</div>"
      ],
      "text/plain": [
       "    SmoothL1Loss          MAE         RMSE  RegLoss  SmoothL1Loss_val  \\\n",
       "0       0.511555  6684.274338  8565.709431      0.0          0.063669   \n",
       "1       0.030189  1359.818121  1816.214248      0.0          0.010411   \n",
       "2       0.011109   714.423231  1126.633835      0.0          0.005807   \n",
       "3       0.005531   533.366900   793.820375      0.0          0.002309   \n",
       "4       0.002049   345.117094   482.418100      0.0          0.001168   \n",
       "..           ...          ...          ...      ...               ...   \n",
       "67      0.000163    97.457754   134.664882      0.0          0.000152   \n",
       "68      0.000159    95.881099   132.983019      0.0          0.000138   \n",
       "69      0.000154    93.546657   130.738366      0.0          0.000137   \n",
       "70      0.000152    92.380631   129.589321      0.0          0.000135   \n",
       "71      0.000150    91.601636   128.782151      0.0          0.000135   \n",
       "\n",
       "        MAE_val     RMSE_val  \n",
       "0   2224.163003  2760.378734  \n",
       "1    883.112046  1106.279167  \n",
       "2    635.841194   827.436927  \n",
       "3    360.629106   522.234828  \n",
       "4    252.333922   368.873388  \n",
       "..          ...          ...  \n",
       "67    96.353914   133.765511  \n",
       "68    89.379887   127.160620  \n",
       "69    89.299726   126.889455  \n",
       "70    88.482940   126.062712  \n",
       "71    88.288221   125.742593  \n",
       "\n",
       "[72 rows x 7 columns]"
      ]
     },
     "execution_count": 83,
     "metadata": {},
     "output_type": "execute_result"
    }
   ],
   "source": [
    "metrics"
   ]
  },
  {
   "cell_type": "code",
   "execution_count": 84,
   "metadata": {},
   "outputs": [
    {
     "name": "stdout",
     "output_type": "stream",
     "text": [
      "SmoothL1Loss:  0.00014985502082742904\n",
      "MAE(Train):  91.60163624024145\n",
      "MAE(val):  88.28822148417214\n"
     ]
    }
   ],
   "source": [
    "#metric 확인\n",
    "print(\"SmoothL1Loss: \", metrics.SmoothL1Loss.tail(1).item())\n",
    "print(\"MAE(Train): \", metrics.MAE.tail(1).item())\n",
    "print(\"MAE(val): \", metrics.MAE_val.tail(1).item())"
   ]
  },
  {
   "cell_type": "code",
   "execution_count": 85,
   "metadata": {},
   "outputs": [
    {
     "data": {
      "application/vnd.plotly.v1+json": {
       "config": {
        "plotlyServerURL": "https://plot.ly"
       },
       "data": [
        {
         "hovertemplate": "variable=MAE<br>index=%{x}<br>value=%{y}<extra></extra>",
         "legendgroup": "MAE",
         "line": {
          "color": "#636efa",
          "dash": "solid"
         },
         "marker": {
          "symbol": "circle"
         },
         "mode": "lines",
         "name": "MAE",
         "orientation": "v",
         "showlegend": true,
         "type": "scatter",
         "x": [
          0,
          1,
          2,
          3,
          4,
          5,
          6,
          7,
          8,
          9,
          10,
          11,
          12,
          13,
          14,
          15,
          16,
          17,
          18,
          19,
          20,
          21,
          22,
          23,
          24,
          25,
          26,
          27,
          28,
          29,
          30,
          31,
          32,
          33,
          34,
          35,
          36,
          37,
          38,
          39,
          40,
          41,
          42,
          43,
          44,
          45,
          46,
          47,
          48,
          49,
          50,
          51,
          52,
          53,
          54,
          55,
          56,
          57,
          58,
          59,
          60,
          61,
          62,
          63,
          64,
          65,
          66,
          67,
          68,
          69,
          70,
          71
         ],
         "xaxis": "x",
         "y": [
          6684.274337978464,
          1359.8181213548064,
          714.4232310107926,
          533.3669003487354,
          345.1170939542809,
          251.6071305578438,
          237.61027199227854,
          230.83805093032402,
          212.06642006556675,
          224.7483063082456,
          231.1391258956744,
          300.0243783356351,
          294.5527257494976,
          275.9684000066679,
          339.31896300331476,
          295.3473460548499,
          392.6914986931187,
          377.24852421021217,
          373.2153411073269,
          444.6913029162041,
          351.5208983913661,
          330.1787572021177,
          468.99181485030715,
          289.5700977359079,
          366.2152877580792,
          422.82453177469625,
          386.0221668130957,
          373.0987796275013,
          352.36656939332806,
          344.8247595977591,
          396.13168816291346,
          303.3013917092083,
          315.00586298882257,
          344.0053790041769,
          316.40153436600696,
          361.38529154997866,
          309.90915030635375,
          311.8874092453822,
          305.7453641192262,
          256.1715834521743,
          308.0754329951472,
          230.4387079582493,
          259.3639436844345,
          239.250993895777,
          233.70964638730928,
          256.4706523423352,
          202.73714382011124,
          217.76414711650176,
          201.71317899419967,
          192.626646758964,
          173.71283104536846,
          173.40463545019063,
          171.11802035999946,
          159.51675024900007,
          160.600264327284,
          148.2489667004859,
          149.22512121568192,
          141.25608054709153,
          131.79919286503483,
          125.68883103158979,
          122.67531989903257,
          116.95298177575428,
          114.01007471524308,
          109.61911963637995,
          106.5948300493067,
          103.56874384958157,
          101.14334145044013,
          97.45775350396235,
          95.88109937606815,
          93.54665675510475,
          92.38063112212296,
          91.60163624024145
         ],
         "yaxis": "y"
        },
        {
         "hovertemplate": "variable=MAE_val<br>index=%{x}<br>value=%{y}<extra></extra>",
         "legendgroup": "MAE_val",
         "line": {
          "color": "#EF553B",
          "dash": "solid"
         },
         "marker": {
          "symbol": "circle"
         },
         "mode": "lines",
         "name": "MAE_val",
         "orientation": "v",
         "showlegend": true,
         "type": "scatter",
         "x": [
          0,
          1,
          2,
          3,
          4,
          5,
          6,
          7,
          8,
          9,
          10,
          11,
          12,
          13,
          14,
          15,
          16,
          17,
          18,
          19,
          20,
          21,
          22,
          23,
          24,
          25,
          26,
          27,
          28,
          29,
          30,
          31,
          32,
          33,
          34,
          35,
          36,
          37,
          38,
          39,
          40,
          41,
          42,
          43,
          44,
          45,
          46,
          47,
          48,
          49,
          50,
          51,
          52,
          53,
          54,
          55,
          56,
          57,
          58,
          59,
          60,
          61,
          62,
          63,
          64,
          65,
          66,
          67,
          68,
          69,
          70,
          71
         ],
         "xaxis": "x",
         "y": [
          2224.1630033640336,
          883.1120463669902,
          635.8411937824249,
          360.6291055837801,
          252.33392236037764,
          221.49314541286893,
          248.66678146307615,
          221.1922867651598,
          217.2318700129763,
          300.2947205226248,
          227.41825817477317,
          272.7525841199291,
          460.3837169698179,
          1573.7067160707377,
          274.7409346584545,
          556.5418392515758,
          930.2555801128091,
          358.4072043281225,
          304.0667564215587,
          1213.573452519143,
          636.6917782283521,
          465.36629178074213,
          296.4939492562183,
          213.2718864334022,
          814.9359373886292,
          661.1237284441886,
          360.6731013611576,
          686.754439934724,
          821.3213036202499,
          638.3635437469135,
          207.58422050090752,
          721.0593506734431,
          430.1726302827131,
          392.65482354933215,
          304.00541454823565,
          522.1784883152976,
          767.7407210453514,
          621.3737551930597,
          325.37972726135155,
          490.0655419333201,
          309.61412137337015,
          267.3287254276319,
          208.90020957790162,
          361.47522396262906,
          313.5853681865753,
          185.35356428507447,
          221.00785412482307,
          291.84780993171063,
          241.67349823883046,
          212.8255301556629,
          130.5347703353867,
          193.5928094987568,
          208.84148537495037,
          236.9272464169241,
          156.46629998240343,
          162.4665667153834,
          136.8579574589933,
          127.97719950099534,
          140.3464989436881,
          109.37344046624098,
          122.50691418291964,
          137.3603734389001,
          111.42573681853423,
          99.50580084071403,
          99.56034262648775,
          93.67918859378022,
          93.16820038378764,
          96.35391427018659,
          89.37988691681097,
          89.29972627552141,
          88.48294020895462,
          88.28822148417214
         ],
         "yaxis": "y"
        }
       ],
       "layout": {
        "height": 400,
        "legend": {
         "title": {
          "text": "variable"
         },
         "tracegroupgap": 0
        },
        "margin": {
         "t": 60
        },
        "template": {
         "data": {
          "bar": [
           {
            "error_x": {
             "color": "#2a3f5f"
            },
            "error_y": {
             "color": "#2a3f5f"
            },
            "marker": {
             "line": {
              "color": "#E5ECF6",
              "width": 0.5
             },
             "pattern": {
              "fillmode": "overlay",
              "size": 10,
              "solidity": 0.2
             }
            },
            "type": "bar"
           }
          ],
          "barpolar": [
           {
            "marker": {
             "line": {
              "color": "#E5ECF6",
              "width": 0.5
             },
             "pattern": {
              "fillmode": "overlay",
              "size": 10,
              "solidity": 0.2
             }
            },
            "type": "barpolar"
           }
          ],
          "carpet": [
           {
            "aaxis": {
             "endlinecolor": "#2a3f5f",
             "gridcolor": "white",
             "linecolor": "white",
             "minorgridcolor": "white",
             "startlinecolor": "#2a3f5f"
            },
            "baxis": {
             "endlinecolor": "#2a3f5f",
             "gridcolor": "white",
             "linecolor": "white",
             "minorgridcolor": "white",
             "startlinecolor": "#2a3f5f"
            },
            "type": "carpet"
           }
          ],
          "choropleth": [
           {
            "colorbar": {
             "outlinewidth": 0,
             "ticks": ""
            },
            "type": "choropleth"
           }
          ],
          "contour": [
           {
            "colorbar": {
             "outlinewidth": 0,
             "ticks": ""
            },
            "colorscale": [
             [
              0,
              "#0d0887"
             ],
             [
              0.1111111111111111,
              "#46039f"
             ],
             [
              0.2222222222222222,
              "#7201a8"
             ],
             [
              0.3333333333333333,
              "#9c179e"
             ],
             [
              0.4444444444444444,
              "#bd3786"
             ],
             [
              0.5555555555555556,
              "#d8576b"
             ],
             [
              0.6666666666666666,
              "#ed7953"
             ],
             [
              0.7777777777777778,
              "#fb9f3a"
             ],
             [
              0.8888888888888888,
              "#fdca26"
             ],
             [
              1,
              "#f0f921"
             ]
            ],
            "type": "contour"
           }
          ],
          "contourcarpet": [
           {
            "colorbar": {
             "outlinewidth": 0,
             "ticks": ""
            },
            "type": "contourcarpet"
           }
          ],
          "heatmap": [
           {
            "colorbar": {
             "outlinewidth": 0,
             "ticks": ""
            },
            "colorscale": [
             [
              0,
              "#0d0887"
             ],
             [
              0.1111111111111111,
              "#46039f"
             ],
             [
              0.2222222222222222,
              "#7201a8"
             ],
             [
              0.3333333333333333,
              "#9c179e"
             ],
             [
              0.4444444444444444,
              "#bd3786"
             ],
             [
              0.5555555555555556,
              "#d8576b"
             ],
             [
              0.6666666666666666,
              "#ed7953"
             ],
             [
              0.7777777777777778,
              "#fb9f3a"
             ],
             [
              0.8888888888888888,
              "#fdca26"
             ],
             [
              1,
              "#f0f921"
             ]
            ],
            "type": "heatmap"
           }
          ],
          "heatmapgl": [
           {
            "colorbar": {
             "outlinewidth": 0,
             "ticks": ""
            },
            "colorscale": [
             [
              0,
              "#0d0887"
             ],
             [
              0.1111111111111111,
              "#46039f"
             ],
             [
              0.2222222222222222,
              "#7201a8"
             ],
             [
              0.3333333333333333,
              "#9c179e"
             ],
             [
              0.4444444444444444,
              "#bd3786"
             ],
             [
              0.5555555555555556,
              "#d8576b"
             ],
             [
              0.6666666666666666,
              "#ed7953"
             ],
             [
              0.7777777777777778,
              "#fb9f3a"
             ],
             [
              0.8888888888888888,
              "#fdca26"
             ],
             [
              1,
              "#f0f921"
             ]
            ],
            "type": "heatmapgl"
           }
          ],
          "histogram": [
           {
            "marker": {
             "pattern": {
              "fillmode": "overlay",
              "size": 10,
              "solidity": 0.2
             }
            },
            "type": "histogram"
           }
          ],
          "histogram2d": [
           {
            "colorbar": {
             "outlinewidth": 0,
             "ticks": ""
            },
            "colorscale": [
             [
              0,
              "#0d0887"
             ],
             [
              0.1111111111111111,
              "#46039f"
             ],
             [
              0.2222222222222222,
              "#7201a8"
             ],
             [
              0.3333333333333333,
              "#9c179e"
             ],
             [
              0.4444444444444444,
              "#bd3786"
             ],
             [
              0.5555555555555556,
              "#d8576b"
             ],
             [
              0.6666666666666666,
              "#ed7953"
             ],
             [
              0.7777777777777778,
              "#fb9f3a"
             ],
             [
              0.8888888888888888,
              "#fdca26"
             ],
             [
              1,
              "#f0f921"
             ]
            ],
            "type": "histogram2d"
           }
          ],
          "histogram2dcontour": [
           {
            "colorbar": {
             "outlinewidth": 0,
             "ticks": ""
            },
            "colorscale": [
             [
              0,
              "#0d0887"
             ],
             [
              0.1111111111111111,
              "#46039f"
             ],
             [
              0.2222222222222222,
              "#7201a8"
             ],
             [
              0.3333333333333333,
              "#9c179e"
             ],
             [
              0.4444444444444444,
              "#bd3786"
             ],
             [
              0.5555555555555556,
              "#d8576b"
             ],
             [
              0.6666666666666666,
              "#ed7953"
             ],
             [
              0.7777777777777778,
              "#fb9f3a"
             ],
             [
              0.8888888888888888,
              "#fdca26"
             ],
             [
              1,
              "#f0f921"
             ]
            ],
            "type": "histogram2dcontour"
           }
          ],
          "mesh3d": [
           {
            "colorbar": {
             "outlinewidth": 0,
             "ticks": ""
            },
            "type": "mesh3d"
           }
          ],
          "parcoords": [
           {
            "line": {
             "colorbar": {
              "outlinewidth": 0,
              "ticks": ""
             }
            },
            "type": "parcoords"
           }
          ],
          "pie": [
           {
            "automargin": true,
            "type": "pie"
           }
          ],
          "scatter": [
           {
            "fillpattern": {
             "fillmode": "overlay",
             "size": 10,
             "solidity": 0.2
            },
            "type": "scatter"
           }
          ],
          "scatter3d": [
           {
            "line": {
             "colorbar": {
              "outlinewidth": 0,
              "ticks": ""
             }
            },
            "marker": {
             "colorbar": {
              "outlinewidth": 0,
              "ticks": ""
             }
            },
            "type": "scatter3d"
           }
          ],
          "scattercarpet": [
           {
            "marker": {
             "colorbar": {
              "outlinewidth": 0,
              "ticks": ""
             }
            },
            "type": "scattercarpet"
           }
          ],
          "scattergeo": [
           {
            "marker": {
             "colorbar": {
              "outlinewidth": 0,
              "ticks": ""
             }
            },
            "type": "scattergeo"
           }
          ],
          "scattergl": [
           {
            "marker": {
             "colorbar": {
              "outlinewidth": 0,
              "ticks": ""
             }
            },
            "type": "scattergl"
           }
          ],
          "scattermapbox": [
           {
            "marker": {
             "colorbar": {
              "outlinewidth": 0,
              "ticks": ""
             }
            },
            "type": "scattermapbox"
           }
          ],
          "scatterpolar": [
           {
            "marker": {
             "colorbar": {
              "outlinewidth": 0,
              "ticks": ""
             }
            },
            "type": "scatterpolar"
           }
          ],
          "scatterpolargl": [
           {
            "marker": {
             "colorbar": {
              "outlinewidth": 0,
              "ticks": ""
             }
            },
            "type": "scatterpolargl"
           }
          ],
          "scatterternary": [
           {
            "marker": {
             "colorbar": {
              "outlinewidth": 0,
              "ticks": ""
             }
            },
            "type": "scatterternary"
           }
          ],
          "surface": [
           {
            "colorbar": {
             "outlinewidth": 0,
             "ticks": ""
            },
            "colorscale": [
             [
              0,
              "#0d0887"
             ],
             [
              0.1111111111111111,
              "#46039f"
             ],
             [
              0.2222222222222222,
              "#7201a8"
             ],
             [
              0.3333333333333333,
              "#9c179e"
             ],
             [
              0.4444444444444444,
              "#bd3786"
             ],
             [
              0.5555555555555556,
              "#d8576b"
             ],
             [
              0.6666666666666666,
              "#ed7953"
             ],
             [
              0.7777777777777778,
              "#fb9f3a"
             ],
             [
              0.8888888888888888,
              "#fdca26"
             ],
             [
              1,
              "#f0f921"
             ]
            ],
            "type": "surface"
           }
          ],
          "table": [
           {
            "cells": {
             "fill": {
              "color": "#EBF0F8"
             },
             "line": {
              "color": "white"
             }
            },
            "header": {
             "fill": {
              "color": "#C8D4E3"
             },
             "line": {
              "color": "white"
             }
            },
            "type": "table"
           }
          ]
         },
         "layout": {
          "annotationdefaults": {
           "arrowcolor": "#2a3f5f",
           "arrowhead": 0,
           "arrowwidth": 1
          },
          "autotypenumbers": "strict",
          "coloraxis": {
           "colorbar": {
            "outlinewidth": 0,
            "ticks": ""
           }
          },
          "colorscale": {
           "diverging": [
            [
             0,
             "#8e0152"
            ],
            [
             0.1,
             "#c51b7d"
            ],
            [
             0.2,
             "#de77ae"
            ],
            [
             0.3,
             "#f1b6da"
            ],
            [
             0.4,
             "#fde0ef"
            ],
            [
             0.5,
             "#f7f7f7"
            ],
            [
             0.6,
             "#e6f5d0"
            ],
            [
             0.7,
             "#b8e186"
            ],
            [
             0.8,
             "#7fbc41"
            ],
            [
             0.9,
             "#4d9221"
            ],
            [
             1,
             "#276419"
            ]
           ],
           "sequential": [
            [
             0,
             "#0d0887"
            ],
            [
             0.1111111111111111,
             "#46039f"
            ],
            [
             0.2222222222222222,
             "#7201a8"
            ],
            [
             0.3333333333333333,
             "#9c179e"
            ],
            [
             0.4444444444444444,
             "#bd3786"
            ],
            [
             0.5555555555555556,
             "#d8576b"
            ],
            [
             0.6666666666666666,
             "#ed7953"
            ],
            [
             0.7777777777777778,
             "#fb9f3a"
            ],
            [
             0.8888888888888888,
             "#fdca26"
            ],
            [
             1,
             "#f0f921"
            ]
           ],
           "sequentialminus": [
            [
             0,
             "#0d0887"
            ],
            [
             0.1111111111111111,
             "#46039f"
            ],
            [
             0.2222222222222222,
             "#7201a8"
            ],
            [
             0.3333333333333333,
             "#9c179e"
            ],
            [
             0.4444444444444444,
             "#bd3786"
            ],
            [
             0.5555555555555556,
             "#d8576b"
            ],
            [
             0.6666666666666666,
             "#ed7953"
            ],
            [
             0.7777777777777778,
             "#fb9f3a"
            ],
            [
             0.8888888888888888,
             "#fdca26"
            ],
            [
             1,
             "#f0f921"
            ]
           ]
          },
          "colorway": [
           "#636efa",
           "#EF553B",
           "#00cc96",
           "#ab63fa",
           "#FFA15A",
           "#19d3f3",
           "#FF6692",
           "#B6E880",
           "#FF97FF",
           "#FECB52"
          ],
          "font": {
           "color": "#2a3f5f"
          },
          "geo": {
           "bgcolor": "white",
           "lakecolor": "white",
           "landcolor": "#E5ECF6",
           "showlakes": true,
           "showland": true,
           "subunitcolor": "white"
          },
          "hoverlabel": {
           "align": "left"
          },
          "hovermode": "closest",
          "mapbox": {
           "style": "light"
          },
          "paper_bgcolor": "white",
          "plot_bgcolor": "#E5ECF6",
          "polar": {
           "angularaxis": {
            "gridcolor": "white",
            "linecolor": "white",
            "ticks": ""
           },
           "bgcolor": "#E5ECF6",
           "radialaxis": {
            "gridcolor": "white",
            "linecolor": "white",
            "ticks": ""
           }
          },
          "scene": {
           "xaxis": {
            "backgroundcolor": "#E5ECF6",
            "gridcolor": "white",
            "gridwidth": 2,
            "linecolor": "white",
            "showbackground": true,
            "ticks": "",
            "zerolinecolor": "white"
           },
           "yaxis": {
            "backgroundcolor": "#E5ECF6",
            "gridcolor": "white",
            "gridwidth": 2,
            "linecolor": "white",
            "showbackground": true,
            "ticks": "",
            "zerolinecolor": "white"
           },
           "zaxis": {
            "backgroundcolor": "#E5ECF6",
            "gridcolor": "white",
            "gridwidth": 2,
            "linecolor": "white",
            "showbackground": true,
            "ticks": "",
            "zerolinecolor": "white"
           }
          },
          "shapedefaults": {
           "line": {
            "color": "#2a3f5f"
           }
          },
          "ternary": {
           "aaxis": {
            "gridcolor": "white",
            "linecolor": "white",
            "ticks": ""
           },
           "baxis": {
            "gridcolor": "white",
            "linecolor": "white",
            "ticks": ""
           },
           "bgcolor": "#E5ECF6",
           "caxis": {
            "gridcolor": "white",
            "linecolor": "white",
            "ticks": ""
           }
          },
          "title": {
           "x": 0.05
          },
          "xaxis": {
           "automargin": true,
           "gridcolor": "white",
           "linecolor": "white",
           "ticks": "",
           "title": {
            "standoff": 15
           },
           "zerolinecolor": "white",
           "zerolinewidth": 2
          },
          "yaxis": {
           "automargin": true,
           "gridcolor": "white",
           "linecolor": "white",
           "ticks": "",
           "title": {
            "standoff": 15
           },
           "zerolinecolor": "white",
           "zerolinewidth": 2
          }
         }
        },
        "width": 800,
        "xaxis": {
         "anchor": "y",
         "domain": [
          0,
          1
         ],
         "title": {
          "text": "index"
         }
        },
        "yaxis": {
         "anchor": "x",
         "domain": [
          0,
          1
         ],
         "title": {
          "text": "value"
         }
        }
       }
      }
     },
     "metadata": {},
     "output_type": "display_data"
    }
   ],
   "source": [
    "#loss 그래프\n",
    "import plotly.express as px\n",
    "px.line(metrics, y=['MAE', 'MAE_val'], width=800, height=400)"
   ]
  },
  {
   "cell_type": "code",
   "execution_count": 86,
   "metadata": {},
   "outputs": [
    {
     "data": {
      "text/html": [
       "<div>\n",
       "<style scoped>\n",
       "    .dataframe tbody tr th:only-of-type {\n",
       "        vertical-align: middle;\n",
       "    }\n",
       "\n",
       "    .dataframe tbody tr th {\n",
       "        vertical-align: top;\n",
       "    }\n",
       "\n",
       "    .dataframe thead th {\n",
       "        text-align: right;\n",
       "    }\n",
       "</style>\n",
       "<table border=\"1\" class=\"dataframe\">\n",
       "  <thead>\n",
       "    <tr style=\"text-align: right;\">\n",
       "      <th></th>\n",
       "      <th>ds</th>\n",
       "      <th>y</th>\n",
       "      <th>d_2</th>\n",
       "      <th>l_2</th>\n",
       "    </tr>\n",
       "  </thead>\n",
       "  <tbody>\n",
       "    <tr>\n",
       "      <th>42763</th>\n",
       "      <td>2022-06-30 23:15:00</td>\n",
       "      <td>5493.6</td>\n",
       "      <td>-67.2</td>\n",
       "      <td>5628.0</td>\n",
       "    </tr>\n",
       "    <tr>\n",
       "      <th>42764</th>\n",
       "      <td>2022-06-30 23:30:00</td>\n",
       "      <td>5527.2</td>\n",
       "      <td>-67.2</td>\n",
       "      <td>5560.8</td>\n",
       "    </tr>\n",
       "    <tr>\n",
       "      <th>42765</th>\n",
       "      <td>2022-06-30 23:45:00</td>\n",
       "      <td>5670.0</td>\n",
       "      <td>33.6</td>\n",
       "      <td>5493.6</td>\n",
       "    </tr>\n",
       "  </tbody>\n",
       "</table>\n",
       "</div>"
      ],
      "text/plain": [
       "                       ds       y   d_2     l_2\n",
       "42763 2022-06-30 23:15:00  5493.6 -67.2  5628.0\n",
       "42764 2022-06-30 23:30:00  5527.2 -67.2  5560.8\n",
       "42765 2022-06-30 23:45:00  5670.0  33.6  5493.6"
      ]
     },
     "execution_count": 86,
     "metadata": {},
     "output_type": "execute_result"
    }
   ],
   "source": [
    "# df_test=df_test.drop(['y'],axis=1)\n",
    "\n",
    "df_test"
   ]
  },
  {
   "cell_type": "code",
   "execution_count": 97,
   "metadata": {},
   "outputs": [
    {
     "ename": "ValueError",
     "evalue": "Model has not been fitted. Predictions will be random.",
     "output_type": "error",
     "traceback": [
      "\u001b[1;31m---------------------------------------------------------------------------\u001b[0m",
      "\u001b[1;31mValueError\u001b[0m                                Traceback (most recent call last)",
      "\u001b[1;32mc:\\Users\\USER\\Documents\\GitHub\\Time_Series_models\\Temp_predict\\moorim_prophet.ipynb 셀 21\u001b[0m in \u001b[0;36m<cell line: 2>\u001b[1;34m()\u001b[0m\n\u001b[0;32m      <a href='vscode-notebook-cell:/c%3A/Users/USER/Documents/GitHub/Time_Series_models/Temp_predict/moorim_prophet.ipynb#ch0000019?line=0'>1</a>\u001b[0m \u001b[39m# fig, ax = plt.subplots(figsize=(14, 10)) \u001b[39;00m\n\u001b[1;32m----> <a href='vscode-notebook-cell:/c%3A/Users/USER/Documents/GitHub/Time_Series_models/Temp_predict/moorim_prophet.ipynb#ch0000019?line=1'>2</a>\u001b[0m forecast \u001b[39m=\u001b[39m model_tune\u001b[39m.\u001b[39;49mpredict(df_test)\n\u001b[0;32m      <a href='vscode-notebook-cell:/c%3A/Users/USER/Documents/GitHub/Time_Series_models/Temp_predict/moorim_prophet.ipynb#ch0000019?line=2'>3</a>\u001b[0m \u001b[39m# fig=model.plot(forecast[['ds','y','yhat1']])\u001b[39;00m\n\u001b[0;32m      <a href='vscode-notebook-cell:/c%3A/Users/USER/Documents/GitHub/Time_Series_models/Temp_predict/moorim_prophet.ipynb#ch0000019?line=5'>6</a>\u001b[0m fig, ax \u001b[39m=\u001b[39m plt\u001b[39m.\u001b[39msubplots(figsize\u001b[39m=\u001b[39m(\u001b[39m14\u001b[39m, \u001b[39m10\u001b[39m)) \n",
      "File \u001b[1;32mc:\\Users\\USER\\AppData\\Local\\Programs\\Python\\Python39\\lib\\site-packages\\neuralprophet\\forecaster.py:641\u001b[0m, in \u001b[0;36mNeuralProphet.predict\u001b[1;34m(self, df, decompose, raw)\u001b[0m\n\u001b[0;32m    639\u001b[0m     log\u001b[39m.\u001b[39mwarning(\u001b[39m\"\u001b[39m\u001b[39mRaw forecasts are incompatible with plotting utilities\u001b[39m\u001b[39m\"\u001b[39m)\n\u001b[0;32m    640\u001b[0m \u001b[39mif\u001b[39;00m \u001b[39mself\u001b[39m\u001b[39m.\u001b[39mfitted \u001b[39mis\u001b[39;00m \u001b[39mFalse\u001b[39;00m:\n\u001b[1;32m--> 641\u001b[0m     \u001b[39mraise\u001b[39;00m \u001b[39mValueError\u001b[39;00m(\u001b[39m\"\u001b[39m\u001b[39mModel has not been fitted. Predictions will be random.\u001b[39m\u001b[39m\"\u001b[39m)\n\u001b[0;32m    642\u001b[0m df_dict, received_unnamed_df \u001b[39m=\u001b[39m df_utils\u001b[39m.\u001b[39mprep_copy_df_dict(df)\n\u001b[0;32m    643\u001b[0m \u001b[39m# to get all forecasteable values with df given, maybe extend into future:\u001b[39;00m\n",
      "\u001b[1;31mValueError\u001b[0m: Model has not been fitted. Predictions will be random."
     ]
    }
   ],
   "source": [
    "# fig, ax = plt.subplots(figsize=(14, 10)) \n",
    "forecast = model_tune.predict(df_test)\n",
    "# fig=model.plot(forecast[['ds','y','yhat1']])\n",
    "\n",
    "\n",
    "fig, ax = plt.subplots(figsize=(14, 10)) \n",
    "model_tune= model_tune.highlight_nth_step_ahead_of_each_forecast(model.n_forecasts)\n",
    "model_tune.plot(forecast, xlabel=\"Date\", ylabel=\"Temp\", ax=ax)\n",
    "ax.set_title(\"moorim_demand\", fontsize=28, fontweight=\"bold\")"
   ]
  },
  {
   "cell_type": "code",
   "execution_count": 88,
   "metadata": {},
   "outputs": [
    {
     "data": {
      "text/html": [
       "<div>\n",
       "<style scoped>\n",
       "    .dataframe tbody tr th:only-of-type {\n",
       "        vertical-align: middle;\n",
       "    }\n",
       "\n",
       "    .dataframe tbody tr th {\n",
       "        vertical-align: top;\n",
       "    }\n",
       "\n",
       "    .dataframe thead th {\n",
       "        text-align: right;\n",
       "    }\n",
       "</style>\n",
       "<table border=\"1\" class=\"dataframe\">\n",
       "  <thead>\n",
       "    <tr style=\"text-align: right;\">\n",
       "      <th></th>\n",
       "      <th>ds</th>\n",
       "      <th>y</th>\n",
       "      <th>yhat1</th>\n",
       "      <th>residual1</th>\n",
       "      <th>trend</th>\n",
       "      <th>season_weekly</th>\n",
       "      <th>season_daily</th>\n",
       "      <th>future_regressors_additive</th>\n",
       "      <th>future_regressor_d_2</th>\n",
       "      <th>future_regressor_l_2</th>\n",
       "    </tr>\n",
       "  </thead>\n",
       "  <tbody>\n",
       "    <tr>\n",
       "      <th>0</th>\n",
       "      <td>2022-06-30 23:15:00</td>\n",
       "      <td>5493.6</td>\n",
       "      <td>5575.293457</td>\n",
       "      <td>81.693457</td>\n",
       "      <td>-5188.729980</td>\n",
       "      <td>9.892281</td>\n",
       "      <td>2.077462</td>\n",
       "      <td>10752.053711</td>\n",
       "      <td>5742.973145</td>\n",
       "      <td>5009.079590</td>\n",
       "    </tr>\n",
       "    <tr>\n",
       "      <th>1</th>\n",
       "      <td>2022-06-30 23:30:00</td>\n",
       "      <td>5527.2</td>\n",
       "      <td>5508.571777</td>\n",
       "      <td>-18.628223</td>\n",
       "      <td>-5188.729980</td>\n",
       "      <td>10.072044</td>\n",
       "      <td>1.742917</td>\n",
       "      <td>10685.487305</td>\n",
       "      <td>5742.973145</td>\n",
       "      <td>4942.513672</td>\n",
       "    </tr>\n",
       "    <tr>\n",
       "      <th>2</th>\n",
       "      <td>2022-06-30 23:45:00</td>\n",
       "      <td>5670.0</td>\n",
       "      <td>5555.656250</td>\n",
       "      <td>-114.343750</td>\n",
       "      <td>-5188.730469</td>\n",
       "      <td>10.248831</td>\n",
       "      <td>0.739714</td>\n",
       "      <td>10733.398438</td>\n",
       "      <td>5857.451172</td>\n",
       "      <td>4875.947754</td>\n",
       "    </tr>\n",
       "  </tbody>\n",
       "</table>\n",
       "</div>"
      ],
      "text/plain": [
       "                   ds       y        yhat1   residual1        trend  \\\n",
       "0 2022-06-30 23:15:00  5493.6  5575.293457   81.693457 -5188.729980   \n",
       "1 2022-06-30 23:30:00  5527.2  5508.571777  -18.628223 -5188.729980   \n",
       "2 2022-06-30 23:45:00  5670.0  5555.656250 -114.343750 -5188.730469   \n",
       "\n",
       "   season_weekly  season_daily  future_regressors_additive  \\\n",
       "0       9.892281      2.077462                10752.053711   \n",
       "1      10.072044      1.742917                10685.487305   \n",
       "2      10.248831      0.739714                10733.398438   \n",
       "\n",
       "   future_regressor_d_2  future_regressor_l_2  \n",
       "0           5742.973145           5009.079590  \n",
       "1           5742.973145           4942.513672  \n",
       "2           5857.451172           4875.947754  "
      ]
     },
     "execution_count": 88,
     "metadata": {},
     "output_type": "execute_result"
    }
   ],
   "source": [
    "forecast"
   ]
  },
  {
   "cell_type": "code",
   "execution_count": 321,
   "metadata": {},
   "outputs": [
    {
     "data": {
      "text/plain": [
       "0.0011988045955239684"
      ]
     },
     "execution_count": 321,
     "metadata": {},
     "output_type": "execute_result"
    }
   ],
   "source": [
    "import numpy as np\n",
    "def SMAPE(y_true, y_pred):\n",
    "    return np.mean( (np.abs(y_true-y_pred)) / ((np.abs(y_true) + np.abs(y_pred))/2) ) * 100\n",
    "SMAPE(forecast['y'],forecast['yhat1'])"
   ]
  },
  {
   "cell_type": "code",
   "execution_count": 322,
   "metadata": {},
   "outputs": [
    {
     "data": {
      "image/png": "[encoded data removed]",
      "text/plain": [
       "<Figure size 720x648 with 3 Axes>"
      ]
     },
     "metadata": {},
     "output_type": "display_data"
    }
   ],
   "source": [
    "fig_comp = model_tune.plot_components(forecast)"
   ]
  },
  {
   "cell_type": "code",
   "execution_count": 323,
   "metadata": {},
   "outputs": [
    {
     "data": {
      "image/png": "[encoded data removed]",
      "text/plain": [
       "<Figure size 720x864 with 4 Axes>"
      ]
     },
     "metadata": {},
     "output_type": "display_data"
    }
   ],
   "source": [
    "fig_param = model_tune.plot_parameters()"
   ]
  },
  {
   "cell_type": "code",
   "execution_count": null,
   "metadata": {},
   "outputs": [],
   "source": []
  },
  {
   "cell_type": "code",
   "execution_count": 183,
   "metadata": {},
   "outputs": [
    {
     "name": "stderr",
     "output_type": "stream",
     "text": [
      "INFO - (NP.df_utils._infer_frequency) - Major frequency 15T corresponds to 99.967% of the data.\n",
      "INFO - (NP.df_utils._infer_frequency) - Defined frequency is equal to major frequency - 15T\n"
     ]
    },
    {
     "ename": "ValueError",
     "evalue": "Future values of all user specified regressors not provided",
     "output_type": "error",
     "traceback": [
      "\u001b[1;31m---------------------------------------------------------------------------\u001b[0m",
      "\u001b[1;31mValueError\u001b[0m                                Traceback (most recent call last)",
      "\u001b[1;32mc:\\Users\\USER\\Documents\\GitHub\\Time_Series_models\\Temp_predict\\moorim_prophet.ipynb 셀 10\u001b[0m in \u001b[0;36m<cell line: 1>\u001b[1;34m()\u001b[0m\n\u001b[1;32m----> <a href='vscode-notebook-cell:/c%3A/Users/USER/Documents/GitHub/Time_Series_models/Temp_predict/moorim_prophet.ipynb#ch0000005?line=0'>1</a>\u001b[0m future \u001b[39m=\u001b[39m model\u001b[39m.\u001b[39;49mmake_future_dataframe(df_test, periods\u001b[39m=\u001b[39;49m\u001b[39mlen\u001b[39;49m(df_test), n_historic_predictions\u001b[39m=\u001b[39;49m\u001b[39mlen\u001b[39;49m(df_test)) \n\u001b[0;32m      <a href='vscode-notebook-cell:/c%3A/Users/USER/Documents/GitHub/Time_Series_models/Temp_predict/moorim_prophet.ipynb#ch0000005?line=1'>2</a>\u001b[0m forecast \u001b[39m=\u001b[39m model\u001b[39m.\u001b[39mpredict(future)\n",
      "File \u001b[1;32mc:\\Users\\USER\\AppData\\Local\\Programs\\Python\\Python39\\lib\\site-packages\\neuralprophet\\forecaster.py:963\u001b[0m, in \u001b[0;36mNeuralProphet.make_future_dataframe\u001b[1;34m(self, df, events_df, regressors_df, periods, n_historic_predictions)\u001b[0m\n\u001b[0;32m    961\u001b[0m df_future_dataframe \u001b[39m=\u001b[39m {}\n\u001b[0;32m    962\u001b[0m \u001b[39mfor\u001b[39;00m key \u001b[39min\u001b[39;00m df_dict\u001b[39m.\u001b[39mkeys():\n\u001b[1;32m--> 963\u001b[0m     df_future_dataframe[key] \u001b[39m=\u001b[39m \u001b[39mself\u001b[39;49m\u001b[39m.\u001b[39;49m_make_future_dataframe(\n\u001b[0;32m    964\u001b[0m         df\u001b[39m=\u001b[39;49mdf_dict[key],\n\u001b[0;32m    965\u001b[0m         events_df\u001b[39m=\u001b[39;49mdf_dict_events[key],\n\u001b[0;32m    966\u001b[0m         regressors_df\u001b[39m=\u001b[39;49mdf_dict_regressors[key],\n\u001b[0;32m    967\u001b[0m         periods\u001b[39m=\u001b[39;49mperiods,\n\u001b[0;32m    968\u001b[0m         n_historic_predictions\u001b[39m=\u001b[39;49mn_historic_predictions,\n\u001b[0;32m    969\u001b[0m     )\n\u001b[0;32m    970\u001b[0m df_future \u001b[39m=\u001b[39m df_utils\u001b[39m.\u001b[39mmaybe_get_single_df_from_df_dict(df_future_dataframe, received_unnamed_df)\n\u001b[0;32m    971\u001b[0m \u001b[39mreturn\u001b[39;00m df_future\n",
      "File \u001b[1;32mc:\\Users\\USER\\AppData\\Local\\Programs\\Python\\Python39\\lib\\site-packages\\neuralprophet\\forecaster.py:2006\u001b[0m, in \u001b[0;36mNeuralProphet._make_future_dataframe\u001b[1;34m(self, df, events_df, regressors_df, periods, n_historic_predictions)\u001b[0m\n\u001b[0;32m   2004\u001b[0m \u001b[39mif\u001b[39;00m \u001b[39mself\u001b[39m\u001b[39m.\u001b[39mregressors_config \u001b[39mis\u001b[39;00m \u001b[39mnot\u001b[39;00m \u001b[39mNone\u001b[39;00m \u001b[39mand\u001b[39;00m periods \u001b[39m>\u001b[39m \u001b[39m0\u001b[39m:\n\u001b[0;32m   2005\u001b[0m     \u001b[39mif\u001b[39;00m regressors_df \u001b[39mis\u001b[39;00m \u001b[39mNone\u001b[39;00m:\n\u001b[1;32m-> 2006\u001b[0m         \u001b[39mraise\u001b[39;00m \u001b[39mValueError\u001b[39;00m(\u001b[39m\"\u001b[39m\u001b[39mFuture values of all user specified regressors not provided\u001b[39m\u001b[39m\"\u001b[39m)\n\u001b[0;32m   2007\u001b[0m     \u001b[39melse\u001b[39;00m:\n\u001b[0;32m   2008\u001b[0m         \u001b[39mfor\u001b[39;00m regressor \u001b[39min\u001b[39;00m \u001b[39mself\u001b[39m\u001b[39m.\u001b[39mregressors_config\u001b[39m.\u001b[39mkeys():\n",
      "\u001b[1;31mValueError\u001b[0m: Future values of all user specified regressors not provided"
     ]
    }
   ],
   "source": [
    "# future = model.make_future_dataframe(df_test, periods=len(df_test), n_historic_predictions=len(df_test)) \n",
    "# forecast = model.predict(future)"
   ]
  },
  {
   "cell_type": "markdown",
   "metadata": {},
   "source": [
    "### daily average\n"
   ]
  },
  {
   "cell_type": "code",
   "execution_count": 99,
   "metadata": {},
   "outputs": [
    {
     "name": "stdout",
     "output_type": "stream",
     "text": [
      "<class 'pandas.core.frame.DataFrame'>\n",
      "RangeIndex: 447 entries, 0 to 446\n",
      "Data columns (total 2 columns):\n",
      " #   Column           Non-Null Count  Dtype         \n",
      "---  ------           --------------  -----         \n",
      " 0   date             447 non-null    datetime64[ns]\n",
      " 1   평균(직전 15분 사용전력)  447 non-null    float64       \n",
      "dtypes: datetime64[ns](1), float64(1)\n",
      "memory usage: 7.1 KB\n"
     ]
    }
   ],
   "source": [
    "data=pd.read_csv('C:/Users/USER/Desktop/진행중/FEMS/datamart/(하루평균)무림페이퍼_15분사용전력_210401-220630.csv')\n",
    "data=data[['date','평균(직전 15분 사용전력)']]\n",
    "\n",
    "data['date']=pd.to_datetime(data['date'])\n",
    "data.info()"
   ]
  },
  {
   "cell_type": "code",
   "execution_count": 103,
   "metadata": {},
   "outputs": [
    {
     "name": "stdout",
     "output_type": "stream",
     "text": [
      "train_df= 2021-04-01 00:00:00 ~ 2022-05-24 00:00:00 , 410\n",
      "test_df= 2022-05-25 00:00:00 ~ 2022-06-30 00:00:00 , 37\n"
     ]
    }
   ],
   "source": [
    "#train_test split\n",
    "def train_test_split(data_t,train_cut_date,val_cut_date): \n",
    "  \n",
    "    df_train = data_t[data_t['date'] < train_cut_date ]\n",
    "    # df_val= data_t[(data_t['date'] >= train_cut_date ) & (data_t['기준시각'] < val_cut_date )]\n",
    "    df_test = data_t[(data_t['date'] >= val_cut_date)] \n",
    "    \n",
    "    return (df_train,df_val,df_test) \n",
    "\n",
    "df_train,df_val,df_test=train_test_split(data,'2022-05-25','2022-05-25')\n",
    "print('train_df=',min(df_train['date']),'~',max(df_train['date']),',',len(df_train))\n",
    "# print('val_df=',min(df_val['기준시각']),'~',max(df_val['기준시각']),',',len(df_val))\n",
    "print('test_df=',min(df_test['date']),'~',max(df_test['date']),',',len(df_test))"
   ]
  },
  {
   "cell_type": "code",
   "execution_count": 104,
   "metadata": {},
   "outputs": [
    {
     "name": "stderr",
     "output_type": "stream",
     "text": [
      "WARNING - (py.warnings._showwarnmsg) - C:\\Users\\USER\\AppData\\Local\\Temp\\ipykernel_13212\\3068202567.py:1: SettingWithCopyWarning: \n",
      "A value is trying to be set on a copy of a slice from a DataFrame\n",
      "\n",
      "See the caveats in the documentation: https://pandas.pydata.org/pandas-docs/stable/user_guide/indexing.html#returning-a-view-versus-a-copy\n",
      "  df_train.rename(columns={\"date\": \"ds\", \"평균(직전 15분 사용전력)\": \"y\"}, inplace=True)\n",
      "\n",
      "WARNING - (py.warnings._showwarnmsg) - C:\\Users\\USER\\AppData\\Local\\Temp\\ipykernel_13212\\3068202567.py:2: SettingWithCopyWarning: \n",
      "A value is trying to be set on a copy of a slice from a DataFrame\n",
      "\n",
      "See the caveats in the documentation: https://pandas.pydata.org/pandas-docs/stable/user_guide/indexing.html#returning-a-view-versus-a-copy\n",
      "  df_test.rename(columns={\"date\": \"ds\", \"평균(직전 15분 사용전력)\": \"y\"}, inplace=True)\n",
      "\n"
     ]
    }
   ],
   "source": [
    "\n",
    "df_train.rename(columns={\"date\": \"ds\", \"평균(직전 15분 사용전력)\": \"y\"}, inplace=True)\n",
    "df_test.rename(columns={\"date\": \"ds\", \"평균(직전 15분 사용전력)\": \"y\"}, inplace=True)"
   ]
  },
  {
   "cell_type": "code",
   "execution_count": 141,
   "metadata": {},
   "outputs": [
    {
     "name": "stderr",
     "output_type": "stream",
     "text": [
      "INFO - (NP.df_utils._infer_frequency) - Major frequency D corresponds to 97.297% of the data.\n",
      "INFO - (NP.df_utils._infer_frequency) - Defined frequency is equal to major frequency - D\n",
      "WARNING - (py.warnings._showwarnmsg) - c:\\Users\\USER\\AppData\\Local\\Programs\\Python\\Python39\\lib\\site-packages\\neuralprophet\\forecaster.py:2060: FutureWarning:\n",
      "\n",
      "The frame.append method is deprecated and will be removed from pandas in a future version. Use pandas.concat instead.\n",
      "\n",
      "\n",
      "INFO - (NP.df_utils._infer_frequency) - Major frequency D corresponds to 98.649% of the data.\n",
      "INFO - (NP.df_utils._infer_frequency) - Defined frequency is equal to major frequency - D\n",
      "INFO - (NP.df_utils._infer_frequency) - Major frequency D corresponds to 98.649% of the data.\n",
      "INFO - (NP.df_utils._infer_frequency) - Defined frequency is equal to major frequency - D\n",
      "WARNING - (py.warnings._showwarnmsg) - c:\\Users\\USER\\AppData\\Local\\Programs\\Python\\Python39\\lib\\site-packages\\neuralprophet\\forecaster.py:1406: FutureWarning:\n",
      "\n",
      "The frame.append method is deprecated and will be removed from pandas in a future version. Use pandas.concat instead.\n",
      "\n",
      "\n"
     ]
    },
    {
     "data": {
      "text/html": [
       "<div>\n",
       "<style scoped>\n",
       "    .dataframe tbody tr th:only-of-type {\n",
       "        vertical-align: middle;\n",
       "    }\n",
       "\n",
       "    .dataframe tbody tr th {\n",
       "        vertical-align: top;\n",
       "    }\n",
       "\n",
       "    .dataframe thead th {\n",
       "        text-align: right;\n",
       "    }\n",
       "</style>\n",
       "<table border=\"1\" class=\"dataframe\">\n",
       "  <thead>\n",
       "    <tr style=\"text-align: right;\">\n",
       "      <th></th>\n",
       "      <th>ds</th>\n",
       "      <th>y</th>\n",
       "      <th>yhat1</th>\n",
       "      <th>residual1</th>\n",
       "      <th>trend</th>\n",
       "    </tr>\n",
       "  </thead>\n",
       "  <tbody>\n",
       "    <tr>\n",
       "      <th>0</th>\n",
       "      <td>2022-05-25</td>\n",
       "      <td>7864.675</td>\n",
       "      <td>6834.283203</td>\n",
       "      <td>-1030.391797</td>\n",
       "      <td>6834.283203</td>\n",
       "    </tr>\n",
       "    <tr>\n",
       "      <th>1</th>\n",
       "      <td>2022-05-26</td>\n",
       "      <td>7697.2</td>\n",
       "      <td>6834.283203</td>\n",
       "      <td>-862.916797</td>\n",
       "      <td>6834.283203</td>\n",
       "    </tr>\n",
       "    <tr>\n",
       "      <th>2</th>\n",
       "      <td>2022-05-27</td>\n",
       "      <td>7769.825</td>\n",
       "      <td>6834.283203</td>\n",
       "      <td>-935.541797</td>\n",
       "      <td>6834.283203</td>\n",
       "    </tr>\n",
       "    <tr>\n",
       "      <th>3</th>\n",
       "      <td>2022-05-28</td>\n",
       "      <td>7064.8375</td>\n",
       "      <td>6834.283203</td>\n",
       "      <td>-230.554297</td>\n",
       "      <td>6834.283203</td>\n",
       "    </tr>\n",
       "    <tr>\n",
       "      <th>4</th>\n",
       "      <td>2022-05-29</td>\n",
       "      <td>5390.0875</td>\n",
       "      <td>6834.283203</td>\n",
       "      <td>1444.195703</td>\n",
       "      <td>6834.283203</td>\n",
       "    </tr>\n",
       "    <tr>\n",
       "      <th>...</th>\n",
       "      <td>...</td>\n",
       "      <td>...</td>\n",
       "      <td>...</td>\n",
       "      <td>...</td>\n",
       "      <td>...</td>\n",
       "    </tr>\n",
       "    <tr>\n",
       "      <th>69</th>\n",
       "      <td>2022-08-02</td>\n",
       "      <td>None</td>\n",
       "      <td>6834.283203</td>\n",
       "      <td>NaN</td>\n",
       "      <td>6834.283203</td>\n",
       "    </tr>\n",
       "    <tr>\n",
       "      <th>70</th>\n",
       "      <td>2022-08-03</td>\n",
       "      <td>None</td>\n",
       "      <td>6834.283203</td>\n",
       "      <td>NaN</td>\n",
       "      <td>6834.283203</td>\n",
       "    </tr>\n",
       "    <tr>\n",
       "      <th>71</th>\n",
       "      <td>2022-08-04</td>\n",
       "      <td>None</td>\n",
       "      <td>6834.283203</td>\n",
       "      <td>NaN</td>\n",
       "      <td>6834.283203</td>\n",
       "    </tr>\n",
       "    <tr>\n",
       "      <th>72</th>\n",
       "      <td>2022-08-05</td>\n",
       "      <td>None</td>\n",
       "      <td>6834.283203</td>\n",
       "      <td>NaN</td>\n",
       "      <td>6834.283203</td>\n",
       "    </tr>\n",
       "    <tr>\n",
       "      <th>73</th>\n",
       "      <td>2022-08-06</td>\n",
       "      <td>None</td>\n",
       "      <td>6834.283203</td>\n",
       "      <td>NaN</td>\n",
       "      <td>6834.283203</td>\n",
       "    </tr>\n",
       "  </tbody>\n",
       "</table>\n",
       "<p>74 rows × 5 columns</p>\n",
       "</div>"
      ],
      "text/plain": [
       "           ds          y        yhat1    residual1        trend\n",
       "0  2022-05-25   7864.675  6834.283203 -1030.391797  6834.283203\n",
       "1  2022-05-26     7697.2  6834.283203  -862.916797  6834.283203\n",
       "2  2022-05-27   7769.825  6834.283203  -935.541797  6834.283203\n",
       "3  2022-05-28  7064.8375  6834.283203  -230.554297  6834.283203\n",
       "4  2022-05-29  5390.0875  6834.283203  1444.195703  6834.283203\n",
       "..        ...        ...          ...          ...          ...\n",
       "69 2022-08-02       None  6834.283203          NaN  6834.283203\n",
       "70 2022-08-03       None  6834.283203          NaN  6834.283203\n",
       "71 2022-08-04       None  6834.283203          NaN  6834.283203\n",
       "72 2022-08-05       None  6834.283203          NaN  6834.283203\n",
       "73 2022-08-06       None  6834.283203          NaN  6834.283203\n",
       "\n",
       "[74 rows x 5 columns]"
      ]
     },
     "execution_count": 141,
     "metadata": {},
     "output_type": "execute_result"
    }
   ],
   "source": [
    "future = m.make_future_dataframe(df_test, periods=len(df_test), n_historic_predictions=len(df_test)) \n",
    "forecast = m.predict(future)\n",
    "forecast"
   ]
  },
  {
   "cell_type": "code",
   "execution_count": 142,
   "metadata": {},
   "outputs": [
    {
     "data": {
      "text/plain": [
       "Text(0.5, 1.0, 'demand')"
      ]
     },
     "execution_count": 142,
     "metadata": {},
     "output_type": "execute_result"
    },
    {
     "data": {
      "image/png": "[encoded data removed]",
      "text/plain": [
       "<Figure size 1008x720 with 1 Axes>"
      ]
     },
     "metadata": {
      "needs_background": "light"
     },
     "output_type": "display_data"
    }
   ],
   "source": [
    "fig, ax = plt.subplots(figsize=(14, 10)) \n",
    "m.plot(forecast, xlabel=\"Date\", ylabel=\"Temp\", ax=ax)\n",
    "ax.set_title(\"demand\", fontsize=28, fontweight=\"bold\")"
   ]
  },
  {
   "cell_type": "code",
   "execution_count": null,
   "metadata": {},
   "outputs": [],
   "source": []
  }
 ],
 "metadata": {
  "kernelspec": {
   "display_name": "Python 3.9.7 64-bit",
   "language": "python",
   "name": "python3"
  },
  "language_info": {
   "codemirror_mode": {
    "name": "ipython",
    "version": 3
   },
   "file_extension": ".py",
   "mimetype": "text/x-python",
   "name": "python",
   "nbconvert_exporter": "python",
   "pygments_lexer": "ipython3",
   "version": "3.9.7"
  },
  "orig_nbformat": 4,
  "vscode": {
   "interpreter": {
    "hash": "1d5c1156327dacead463cc502c55ebae8ce9c8c01979cf154173ff808e75bf55"
   }
  }
 },
 "nbformat": 4,
 "nbformat_minor": 2
}
